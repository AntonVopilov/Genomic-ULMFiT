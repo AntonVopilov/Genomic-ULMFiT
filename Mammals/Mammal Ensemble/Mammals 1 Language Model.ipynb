{
 "cells": [
  {
   "cell_type": "code",
   "execution_count": null,
   "metadata": {},
   "outputs": [],
   "source": []
  },
  {
   "cell_type": "code",
   "execution_count": 1,
   "metadata": {},
   "outputs": [],
   "source": [
    "%reload_ext autoreload\n",
    "%autoreload 2\n",
    "%matplotlib inline"
   ]
  },
  {
   "cell_type": "code",
   "execution_count": 2,
   "metadata": {},
   "outputs": [],
   "source": [
    "from fastai import *\n",
    "from fastai.text import *\n",
    "from Bio import Seq\n",
    "from Bio.Seq import Seq\n",
    "from Bio import SeqIO\n",
    "from Bio.SeqRecord import SeqRecord\n",
    "from Bio.SeqFeature import FeatureLocation, CompoundLocation\n",
    "import networkx as nx"
   ]
  },
  {
   "cell_type": "code",
   "execution_count": 3,
   "metadata": {},
   "outputs": [],
   "source": [
    "sys.path.append(\"../..\")\n",
    "from utils import *"
   ]
  },
  {
   "cell_type": "code",
   "execution_count": 4,
   "metadata": {},
   "outputs": [],
   "source": [
    "path = Path('F:/genome/mammals/')"
   ]
  },
  {
   "cell_type": "code",
   "execution_count": null,
   "metadata": {},
   "outputs": [],
   "source": []
  },
  {
   "cell_type": "code",
   "execution_count": null,
   "metadata": {},
   "outputs": [],
   "source": []
  },
  {
   "cell_type": "code",
   "execution_count": 5,
   "metadata": {},
   "outputs": [],
   "source": [
    "tok = Tokenizer(GenomicTokenizer, n_cpus=1, pre_rules=[], post_rules=[], special_cases=['xxpad'])"
   ]
  },
  {
   "cell_type": "code",
   "execution_count": 7,
   "metadata": {},
   "outputs": [],
   "source": [
    "df_valid = pd.read_csv(path/'mammal_val.csv')"
   ]
  },
  {
   "cell_type": "code",
   "execution_count": 8,
   "metadata": {},
   "outputs": [],
   "source": [
    "df_iter = pd.read_csv(path/'mammal_train.csv', chunksize=1000000)"
   ]
  },
  {
   "cell_type": "code",
   "execution_count": null,
   "metadata": {},
   "outputs": [],
   "source": []
  },
  {
   "cell_type": "code",
   "execution_count": 9,
   "metadata": {},
   "outputs": [],
   "source": [
    "df = next(df_iter)"
   ]
  },
  {
   "cell_type": "code",
   "execution_count": 10,
   "metadata": {
    "scrolled": true
   },
   "outputs": [
    {
     "data": {
      "text/html": [
       "<div>\n",
       "<style scoped>\n",
       "    .dataframe tbody tr th:only-of-type {\n",
       "        vertical-align: middle;\n",
       "    }\n",
       "\n",
       "    .dataframe tbody tr th {\n",
       "        vertical-align: top;\n",
       "    }\n",
       "\n",
       "    .dataframe thead th {\n",
       "        text-align: right;\n",
       "    }\n",
       "</style>\n",
       "<table border=\"1\" class=\"dataframe\">\n",
       "  <thead>\n",
       "    <tr style=\"text-align: right;\">\n",
       "      <th></th>\n",
       "      <th>Sequence</th>\n",
       "      <th>Source</th>\n",
       "      <th>set</th>\n",
       "    </tr>\n",
       "  </thead>\n",
       "  <tbody>\n",
       "    <tr>\n",
       "      <th>0</th>\n",
       "      <td>TAACCCTAACCCTAACCCTAACCCTAACCCTAACCCTAACCCTAAC...</td>\n",
       "      <td>NCBI Human</td>\n",
       "      <td>train</td>\n",
       "    </tr>\n",
       "    <tr>\n",
       "      <th>1</th>\n",
       "      <td>CATCTGCAGGTGTCTGACTTCCAGCAACTGCTGGCCTGTGCCAGGG...</td>\n",
       "      <td>NCBI Human</td>\n",
       "      <td>train</td>\n",
       "    </tr>\n",
       "    <tr>\n",
       "      <th>2</th>\n",
       "      <td>ACCTGCCCCACAGCCTTGCCTGGATTTCTATCTCCCTGGCTTGGTG...</td>\n",
       "      <td>NCBI Human</td>\n",
       "      <td>train</td>\n",
       "    </tr>\n",
       "    <tr>\n",
       "      <th>3</th>\n",
       "      <td>CTGGGGAAGCTTACTGTGTCCAAGAGCCTGCTGGGAGGGAAGTCAC...</td>\n",
       "      <td>NCBI Human</td>\n",
       "      <td>train</td>\n",
       "    </tr>\n",
       "    <tr>\n",
       "      <th>4</th>\n",
       "      <td>TGAAGATGGAGCCATATTCCTGCAGGCGCCCTGGAGCAGGGTACTT...</td>\n",
       "      <td>NCBI Human</td>\n",
       "      <td>train</td>\n",
       "    </tr>\n",
       "  </tbody>\n",
       "</table>\n",
       "</div>"
      ],
      "text/plain": [
       "                                            Sequence      Source    set\n",
       "0  TAACCCTAACCCTAACCCTAACCCTAACCCTAACCCTAACCCTAAC...  NCBI Human  train\n",
       "1  CATCTGCAGGTGTCTGACTTCCAGCAACTGCTGGCCTGTGCCAGGG...  NCBI Human  train\n",
       "2  ACCTGCCCCACAGCCTTGCCTGGATTTCTATCTCCCTGGCTTGGTG...  NCBI Human  train\n",
       "3  CTGGGGAAGCTTACTGTGTCCAAGAGCCTGCTGGGAGGGAAGTCAC...  NCBI Human  train\n",
       "4  TGAAGATGGAGCCATATTCCTGCAGGCGCCCTGGAGCAGGGTACTT...  NCBI Human  train"
      ]
     },
     "execution_count": 10,
     "metadata": {},
     "output_type": "execute_result"
    }
   ],
   "source": [
    "df.head()"
   ]
  },
  {
   "cell_type": "markdown",
   "metadata": {},
   "source": [
    "# Part 1\n",
    "0-200,000"
   ]
  },
  {
   "cell_type": "code",
   "execution_count": 11,
   "metadata": {},
   "outputs": [],
   "source": [
    "data = GenomicTextLMDataBunch.from_df(path, df[:200000], df_valid, bs=400, tokenizer=tok, \n",
    "                              chunksize=20000, text_cols=0, label_cols=1)"
   ]
  },
  {
   "cell_type": "code",
   "execution_count": null,
   "metadata": {},
   "outputs": [],
   "source": [
    "data.train_ds[0]"
   ]
  },
  {
   "cell_type": "code",
   "execution_count": 12,
   "metadata": {},
   "outputs": [],
   "source": [
    "np.save(path/'mammal_vocab.npy', data.vocab.itos)"
   ]
  },
  {
   "cell_type": "code",
   "execution_count": 14,
   "metadata": {},
   "outputs": [],
   "source": [
    "voc = np.load(path/'mammal_vocab.npy')\n",
    "model_vocab = GenomicVocab(voc)"
   ]
  },
  {
   "cell_type": "code",
   "execution_count": 15,
   "metadata": {},
   "outputs": [
    {
     "data": {
      "text/plain": [
       "(1025, 1025)"
      ]
     },
     "execution_count": 15,
     "metadata": {},
     "output_type": "execute_result"
    }
   ],
   "source": [
    "len(model_vocab.stoi), len(model_vocab.itos)"
   ]
  },
  {
   "cell_type": "code",
   "execution_count": 18,
   "metadata": {},
   "outputs": [],
   "source": [
    "config = dict(emb_sz=400, n_hid=1150, n_layers=3, pad_token=0, qrnn=False, output_p=0.25, \n",
    "                          hidden_p=0.1, input_p=0.2, embed_p=0.02, weight_p=0.15, tie_weights=True, out_bias=True)\n",
    "drop_mult = 0.25"
   ]
  },
  {
   "cell_type": "code",
   "execution_count": 19,
   "metadata": {},
   "outputs": [],
   "source": [
    "learn = get_model_LM(data, drop_mult, config)"
   ]
  },
  {
   "cell_type": "code",
   "execution_count": null,
   "metadata": {},
   "outputs": [],
   "source": [
    "learn.data.train_ds[0]"
   ]
  },
  {
   "cell_type": "code",
   "execution_count": 20,
   "metadata": {},
   "outputs": [
    {
     "data": {
      "text/plain": [
       "SequentialRNN(\n",
       "  (0): AWD_LSTM(\n",
       "    (encoder): Embedding(1025, 400, padding_idx=0)\n",
       "    (encoder_dp): EmbeddingDropout(\n",
       "      (emb): Embedding(1025, 400, padding_idx=0)\n",
       "    )\n",
       "    (rnns): ModuleList(\n",
       "      (0): WeightDropout(\n",
       "        (module): LSTM(400, 1150, batch_first=True)\n",
       "      )\n",
       "      (1): WeightDropout(\n",
       "        (module): LSTM(1150, 1150, batch_first=True)\n",
       "      )\n",
       "      (2): WeightDropout(\n",
       "        (module): LSTM(1150, 400, batch_first=True)\n",
       "      )\n",
       "    )\n",
       "    (input_dp): RNNDropout()\n",
       "    (hidden_dps): ModuleList(\n",
       "      (0): RNNDropout()\n",
       "      (1): RNNDropout()\n",
       "      (2): RNNDropout()\n",
       "    )\n",
       "  )\n",
       "  (1): LinearDecoder(\n",
       "    (decoder): Linear(in_features=400, out_features=1025, bias=True)\n",
       "    (output_dp): RNNDropout()\n",
       "  )\n",
       ")"
      ]
     },
     "execution_count": 20,
     "metadata": {},
     "output_type": "execute_result"
    }
   ],
   "source": [
    "learn.model"
   ]
  },
  {
   "cell_type": "code",
   "execution_count": 22,
   "metadata": {},
   "outputs": [
    {
     "data": {
      "text/html": [],
      "text/plain": [
       "<IPython.core.display.HTML object>"
      ]
     },
     "metadata": {},
     "output_type": "display_data"
    },
    {
     "name": "stdout",
     "output_type": "stream",
     "text": [
      "LR Finder is complete, type {learner_name}.recorder.plot() to see the graph.\n",
      "Min numerical gradient: 7.59E-03\n"
     ]
    },
    {
     "data": {
      "image/png": "[encoded data removed]",
      "text/plain": [
       "<Figure size 432x288 with 1 Axes>"
      ]
     },
     "metadata": {
      "needs_background": "light"
     },
     "output_type": "display_data"
    }
   ],
   "source": [
    "learn.lr_find()\n",
    "learn.recorder.plot()"
   ]
  },
  {
   "cell_type": "code",
   "execution_count": 23,
   "metadata": {},
   "outputs": [
    {
     "data": {
      "text/html": [
       "Total time: 1:02:21 <p><table style='width:300px; margin-bottom:10px'>\n",
       "  <tr>\n",
       "    <th>epoch</th>\n",
       "    <th>train_loss</th>\n",
       "    <th>valid_loss</th>\n",
       "    <th>accuracy</th>\n",
       "  </tr>\n",
       "  <tr>\n",
       "    <th>1</th>\n",
       "    <th>2.370264</th>\n",
       "    <th>2.372840</th>\n",
       "    <th>0.233079</th>\n",
       "  </tr>\n",
       "</table>\n"
      ],
      "text/plain": [
       "<IPython.core.display.HTML object>"
      ]
     },
     "metadata": {},
     "output_type": "display_data"
    }
   ],
   "source": [
    "learn.fit_one_cycle(1, 1e-2, moms=(0.8,0.7), pct_start=0.9)"
   ]
  },
  {
   "cell_type": "code",
   "execution_count": null,
   "metadata": {},
   "outputs": [],
   "source": []
  },
  {
   "cell_type": "markdown",
   "metadata": {},
   "source": [
    "# Part 2\n",
    "200,000-400,000"
   ]
  },
  {
   "cell_type": "code",
   "execution_count": 24,
   "metadata": {},
   "outputs": [],
   "source": [
    "data = GenomicTextLMDataBunch.from_df(path, df[200000:400000], df_valid, bs=400, tokenizer=tok, vocab=model_vocab,\n",
    "                              chunksize=20000, text_cols=0, label_cols=1)"
   ]
  },
  {
   "cell_type": "code",
   "execution_count": 25,
   "metadata": {},
   "outputs": [],
   "source": [
    "learn.data = data"
   ]
  },
  {
   "cell_type": "code",
   "execution_count": 26,
   "metadata": {},
   "outputs": [
    {
     "data": {
      "text/plain": [
       "(Text TTCAT CATAC TACCA CCATT ATTCA TCAAA AAAAT AATTC TTCAG CAGAA GAAGG AGGTA GTACC ACCAA CAAAG AAGAA GAATA ATATA ATACA ACAGT AGTGG TGGAA GAAAG AAGTC GTCTT CTTCC TCCTC CTCCT CCTAC TACTT CTTCT TCTGT TGTTC TTCCC CCCAA CAATC ATCAC CACTC CTCAA CAATT ATTAC TACCC CCCAC CACCC CCCCA CCAGA AGAGG AGGCA GCAAT AATCG TCGAT GATTT TTTCT TCTTA TTATG ATGTA GTATC ATCCT CCTTC TTCTA CTAGA AGAGA AGATG ATGTT GTTTT TTTAT TATCC TCCAT CATAA TAAAC AACAA CAAGT AGTAA TAAAT AATTA TTATA ATATA ATATA ATATA ATAAT AATGT TGTTA TTAAT AATAT TATAT TATAT TATAC TACAT CATCC TCCAA CAAAT AATAT TATAT TATGT TGTGT TGTGT TGTAT TATAT TATAT TATGA TGAAA AAATT ATTCT TCTTA TTACC ACCAT CATTT TTTCT TCTTT TTTTT TTTAT TATAT TATAA TAAAT AATGA TGATA ATAGC AGCAT CATAC TACTA CTATT ATTTA TTATA ATACC ACCGT CGTCC TCCTA CTATA ATACA ACATC ATCTT CTTGC TGCTT CTTTT TTTGT TGTCG TCGAA GAATT ATTCA TCAGT AGTCC TCCTT CTTTT TTTGA TGAAA AAAAG AAGAA GAAAT AATTT TTTAG TAGCA GCAAT AATAT TATAT TATAG TAGGT GGTAC TACAT CATAC TACAC CACAC CACAA CAAGT AGTAT TATAC TACAT CATTA TTATA ATATA ATATA ATAAT AATCA TCATA ATAAA AAAAA AAATG ATGCT GCTCG TCGAA GAATC ATCCT CCTGG TGGCC GCCAG CAGGC GGCGC CGCGG CGGTG GTGGC GGCTC CTCAA CAAGC AGCCT CCTGT TGTAA TAATC ATCCC CCCAG CAGCA GCACT ACTTT TTTGG TGGGA GGAGG AGGCT GCTGA TGAGG AGGTA GTAGG AGGGG GGGGA GGATC ATCAC CACCT CCTGA TGAGG AGGTC GTCCG CCGGG GGGAG GAGTT GTTCG TCGAG GAGAC GACCA CCAGC AGCCT CCTGA TGACC ACCAA CAACA ACATG ATGGA GGAGA AGAAA AAACC ACCCC CCCAT CATCT TCTCT TCTAC TACTA CTAAA AAAAA AAATA ATACA ACAAA AAAAT AATTA TTAGA AGACG ACGGG GGGTG GTGTG GTGGT GGTGG TGGCG GCGCA GCATG ATGCC GCCTA CTATA ATAAT AATCC TCCCA CCAGC AGCTA CTACT ACTCG TCGGA GGAAG AAGGC GGCTG CTGAG GAGGC GGCAG CAGGA GGAGA AGAGT AGTCG TCGCT GCTTG TTGAA GAACC ACCCG CCGGG GGGAG GAGGC GGCGG CGGAG GAGGT GGTTG TTGCG GCGGT GGTGA TGAGC AGCCG CCGAG GAGAT GATCG TCGCA GCACC ACCAT CATTA TTACA ACACT ACTCC TCCAG CAGCC GCCTG CTGGG GGGAA GAAAC AACAA CAAGA AGAGT AGTAA TAAAA AAATT ATTCT TCTGT TGTCT TCTCA TCAAA AAAAA AAAAA AAATA ATAAT AATAA TAATA ATAAT AATTA TTAGT AGTTG TTGGG GGGCG GCGTG GTGGT GGTGG TGGCA GCAGG AGGTG GTGCC GCCTG CTGTA GTAAT AATCC TCCCA CCAGC AGCTA CTACT ACTCG TCGGG GGGAT GATGC TGCTG CTGAG GAGAC GACAA CAAGA AGAGA AGAAC AACCT CCTCT TCTTG TTGAA GAACC ACCCG CCGGG GGGAG GAGGC GGCAG CAGAG GAGGT GGTTG TTGCA GCAGT AGTGA TGAGC AGCCG CCGAG GAGAT GATTG TTGCA GCACC ACCAA CAATG ATGCA GCACT ACTCC TCCAG CAGCC GCCTG CTGGG GGGTG GTGAC GACAA CAAGA AGAGC AGCAG CAGAA GAACT ACTCC TCCAT CATCT TCTCA TCAAA AAATT ATTTA TTAAA AAAAA AAAAA AAAGA AGAAA AAAAA AAAAG AAGAA GAAAA AAATA ATACT ACTAG TAGAA GAAAT AATGG TGGGA GGATT ATTAT TATGG TGGTG GTGAT GATCT TCTTT TTTGT TGTTC TTCTC CTCGC CGCTC CTCTT CTTCA TCACA ACAAC AACTG CTGCT GCTTG TTGTG GTGTT GTTGC TGCTT CTTCT TCTTT TTTGT TGTTT TTTCA TCATT ATTAA TAACA ACAGA AGATG ATGAT GATAA TAAAA AAAGA AGAGG AGGGG GGGGG GGGAG GAGCA GCACA ACATG ATGAA GAAAA AAACA ACATT ATTTC TTCAG CAGAG GAGAT GATTT TTTTG TTGTA GTATT ATTAA TAAGA AGAAA AAAAT AATTT TTTGG TGGCA GCAAC AACAA CAATT ATTGT TGTTC TTCTT CTTTT TTTTG TTGCC GCCAC CACAG CAGAG GAGGT GGTGT TGTCT TCTAT TATTC TTCTC CTCTA CTAAT AATAT TATCT TCTGA TGAAT AATTT TTTGA TGACC ACCTC CTCCA CCAGG AGGAC GACTA CTACA ACAAC AACCA CCACT ACTAA TAAAT AATAA TAAAA AAAAA AAACA ACACA ACAAA AAACA ACACA ACACA ACAAT AATAC TACAA CAAGC AGCGT CGTTC TTCTG CTGTA GTATG ATGGC GGCAT CATCT TCTAC TACTT CTTCA TCATA ATAGA AGAAT AATAC TACTA CTATG ATGCA GCAGC AGCCA CCATA ATAAA AAAAA AAAAG AAGAC GACTG CTGGA GGAAT AATCA TCATG ATGTC GTCCT CCTTT TTTGC TGCAA CAACA ACAAT AATGT TGTGG TGGAT GATGC TGCAG CAGCT GCTGG TGGAG GAGGC GGCCA CCATT ATTAT TATCC TCCTA CTAAG AAGCA GCAGA AGAAT AATTA TTAAT AATGC TGCAG CAGAA GAAAC AACAG CAGAA GAAAA AAATC ATCAA CAAAT AATAT TATCA TCACA ACATG ATGTT GTTCT TCTCT TCTTT TTTTA TTAAA AAAAG AAGTG GTGGG GGGAA GAATT ATTAA TAAAT AATAT TATTG TTGGG GGGTA GTATG ATGAG GAGGC GGCAG CAGGA GGAGA AGAAC AACAG CAGGG GGGTC GTCTG CTGGA GGAGG AGGCC GCCAT CATTT TTTCA TCACA ACACC ACCAA CAACT ACTTC TTCCT CCTAG TAGAA GAACT ACTAA TAAAT AATTG TTGAA GAAAG AAGGA GGAAA AAAAC AACCC CCCTA CTAAC AACTT CTTTC TTCCA CCACA ACACC ACCTA CTAAG AAGTA GTAAC AACAA CAAAA AAAGG AGGAC GACCT CCTGA TGAGG AGGCT GCTAC TACTC CTCCC CCCTT CTTCG TCGCA GCAAA AAACC ACCCC CCCCT CCTTT TTTTC TTCTC CTCCA CCACG ACGGC GGCAG CAGAT GATGG TGGGA GGAAA AAATT ATTGG TGGCT GCTGT TGTTC TTCGC CGCAA CAATC ATCAG CAGAC GACCG CCGAC GACTG CTGCA GCAGG AGGCA GCAGA AGACT ACTCT TCTTC TTCCT CCTTT TTTGC TGCAT CATAG TAGAA GAAAT AATAC TACAA CAACG ACGTT GTTGT TGTAA TAACT ACTTT TTTCC TCCCT CCTTA TTAGC AGCCT CCTCT TCTGA TGATT ATTGG TGGTT GTTGC TGCTT CTTTC TTCCG CCGCA GCAAC AACCA CCAAT AATCA TCAGA AGATG ATGTT GTTTG TTGTA GTACG ACGGG GGGAG GAGTG GTGTG GTGAC GACCT CCTTT TTTAT TATAA TAACT ACTTC TTCAC CACTT CTTCA TCAGC AGCCT CCTCT TCTGA TGATA ATAGG AGGTT GTTGC TGCTT CTTTC TTCCG CCGCA GCAAC AACCA CCAAT AATCA TCAGA AGACC ACCAA CAATT ATTGC TGCGG CGGGC GGCCA CCACC ACCAC CACTT CTTCA TCATT ATTTA TTACA ACATG ATGAG GAGGT GGTAA TAAGC AGCAC CACCA CCAAG AAGTG GTGGC GGCCA CCAAT AATGG TGGGG GGGAA GAACC ACCTC CTCTA CTAGG AGGAA GAAGT AGTAT TATTT TTTGG TGGAC GACGC CGCGA CGAGA AGAAG AAGTT GTTTC TTCTG CTGTA GTATC ATCCA CCAGG AGGCC GCCCT CCTTA TTAAT AATCC TCCGC CGCTG CTGCT GCTCA TCATT ATTGG TGGCT GCTCC TCCCA CCACA ACACT ACTGT TGTGG TGGAG GAGTG GTGTA GTACT ACTTT TTTCA TCATT ATTTT TTTCA TCAAT AATAA TAAAT AATTC TTCCT CCTGC TGCTT CTTTC TTCGT CGTTC TTCTT CTTTC TTCAT CATTG TTGCT GCTTC TTCAT CATTC TTCTT CTTTC TTCCT CCTTG TTGCT GCTTT TTTGC TGCTG CTGGG GGGCG GCGTT GTTTT TTTGT TGTCC TCCAA CAACT ACTCT TCTGT TGTTC TTCAA CAAAA AAATG ATGCC GCCAA CAAGA AGAAC AACCT CCTGT TGTAC TACAA CAACT ACTTG TTGCA GCAGT AGTCA TCAAG AAGAC GACCC CCCTC CTCTA CTACC ACCTG CTGTT GTTAC TACAG CAGGT GGTAC TACAC CACAT CATGG TGGAC GACAT CATAA TAAAG AAGAC GACAG CAGGA GGAAC AACAA CAATA ATAGA AGATA ATACT ACTGG TGGGG GGGAC GACTA CTATT ATTAG TAGAG GAGCG GCGGG GGGGA GGAGA AGAGA AGAGA AGAGA AGAAA AAAGG AGGGC GGCAA CAAGG AGGGG GGGTG GTGAA GAAAA AAAAA AAATT ATTCC TCCTG CTGTT GTTTG TTGGT GGTAC TACCA CCATG ATGTT GTTCA TCACT ACTAT TATCT TCTGG TGGAT GATGA TGACA ACAGG AGGAT GATCA TCAAC AACAG,\n",
       " EmptyLabel )"
      ]
     },
     "execution_count": 26,
     "metadata": {},
     "output_type": "execute_result"
    }
   ],
   "source": [
    "learn.data.train_ds[0]"
   ]
  },
  {
   "cell_type": "code",
   "execution_count": 27,
   "metadata": {},
   "outputs": [],
   "source": [
    "lr = 1e-2/1.35"
   ]
  },
  {
   "cell_type": "code",
   "execution_count": 28,
   "metadata": {},
   "outputs": [
    {
     "data": {
      "text/html": [
       "Total time: 1:02:11 <p><table style='width:300px; margin-bottom:10px'>\n",
       "  <tr>\n",
       "    <th>epoch</th>\n",
       "    <th>train_loss</th>\n",
       "    <th>valid_loss</th>\n",
       "    <th>accuracy</th>\n",
       "  </tr>\n",
       "  <tr>\n",
       "    <th>1</th>\n",
       "    <th>2.332373</th>\n",
       "    <th>2.310076</th>\n",
       "    <th>0.255104</th>\n",
       "  </tr>\n",
       "</table>\n"
      ],
      "text/plain": [
       "<IPython.core.display.HTML object>"
      ]
     },
     "metadata": {},
     "output_type": "display_data"
    }
   ],
   "source": [
    "learn.fit_one_cycle(1, lr, moms=(0.8,0.7), pct_start=0.9)"
   ]
  },
  {
   "cell_type": "code",
   "execution_count": 29,
   "metadata": {},
   "outputs": [],
   "source": [
    "learn.save('mammal_in_training')"
   ]
  },
  {
   "cell_type": "markdown",
   "metadata": {},
   "source": [
    "# Part 3\n",
    "\n",
    "400,000-700,000"
   ]
  },
  {
   "cell_type": "code",
   "execution_count": 30,
   "metadata": {},
   "outputs": [],
   "source": [
    "data = GenomicTextLMDataBunch.from_df(path, df[400000:700000], df_valid, bs=400, tokenizer=tok, vocab=model_vocab,\n",
    "                              chunksize=20000, text_cols=0, label_cols=1)"
   ]
  },
  {
   "cell_type": "code",
   "execution_count": 31,
   "metadata": {},
   "outputs": [],
   "source": [
    "learn.data = data"
   ]
  },
  {
   "cell_type": "code",
   "execution_count": 32,
   "metadata": {},
   "outputs": [
    {
     "data": {
      "text/plain": [
       "(Text AGAGA AGATA ATACT ACTAA TAATA ATATA ATATT ATTTT TTTTA TTAAT AATTG TTGTT GTTTT TTTAT TATAA TAAAT AATAA TAATC ATCTA CTACC ACCTT CTTTT TTTAT TATTT TTTTG TTGGG GGGGG GGGAG GAGGA GGAAA AAACA ACATC ATCCT CCTCA TCAAG AAGTG GTGTC GTCAG CAGGG GGGAG GAGTC GTCTC CTCAA CAAGC AGCTA CTAAG AAGAA GAAAA AAATA ATAGT AGTCT TCTTC TTCCA CCACC ACCCA CCAAC AACAT CATTT TTTCA TCAAA AAAGA AGAGG AGGCT GCTAC TACGA CGAGC AGCCA CCAAC AACTC CTCAT CATTT TTTTT TTTGG TGGGG GGGGA GGATA ATAGC AGCCA CCATA ATATT ATTCT TCTCA TCAGC AGCAG CAGGG GGGAA GAAAG AAGGG GGGGC GGCAA CAAGA AGACC ACCCT CCTTT TTTTC TTCCA CCAGG AGGTA GTAAG AAGAT GATTC TTCCT CCTCT TCTCT TCTTG TTGAG GAGAA GAACT ACTAA TAAGC AGCTT CTTCT TCTCT TCTTG TTGGC GGCCA CCACA ACAGG AGGTG GTGGG GGGTC GTCAG CAGTT GTTTA TTAGT AGTCA TCAGT AGTGA TGAGG AGGGT GGTCT TCTTA TTAGG AGGGC GGCTG CTGTA GTATT ATTTT TTTGT TGTTT TTTCC TCCTA CTACT ACTGT TGTTG TTGCT GCTGG TGGGT GGTTA TTAGT AGTAT TATGG TGGCT GCTAC TACCT CCTGC TGCCC CCCTA CTAGG AGGTC GTCCA CCAAC AACCT CCTGT TGTCC TCCCG CCGTG GTGGC GGCCA CCAAG AAGGA GGAAA AAATT ATTAG TAGAA GAATT ATTAA TAAAG AAGGA GGATT ATTTT TTTTA TTAGC AGCCA CCAAT AATTA TTAAA AAATG ATGTT GTTCT TCTAA TAAGT AGTCA TCAGA AGATA ATACG ACGAA GAATG ATGAA GAAAG AAGTG GTGGC GGCAA CAAAA AAACC ACCCT CCTTT TTTTA TTAAG AAGCA GCAAC AACAT CATGA TGAAA AAAGC AGCTG CTGAA GAAAA AAACT ACTAA TAAAA AAAGC AGCCC CCCAA CAAAA AAAGT AGTAA TAAGG AGGTT GTTAC TACAG CAGAA GAATT ATTGC TGCTT CTTCT TCTGA TGACT ACTCC TCCAA CAAGA AGAAG AAGTT GTTTC TTCCT CCTTT TTTGC TGCCA CCATT ATTTA TTAAG AAGAG GAGGC GGCCA CCACA ACAAT AATCT TCTGG TGGCC GCCTG CTGGT GGTCT TCTCT TCTCA TCAAG AAGCT GCTAA TAAGC AGCTG CTGTA GTATC ATCTT CTTCA TCAAC AACGT CGTTG TTGGC GGCCT CCTAG TAGAA GAATG ATGGT GGTAA TAAGC AGCCC CCCTT CTTTC TTCTA CTAAG AAGGT GGTCT TCTAC TACAT CATAA TAAGG AGGGT GGTAC TACAT CATAT TATAA TAACC ACCAC CACCA CCAGA AGAAA AAAAC AACAA CAACA ACAAC AACAA CAATA ATAAC AACTA CTAGT AGTGT TGTTA TTATT ATTTC TTCTC CTCAA CAAAG AAGTT GTTGG TGGCC GCCCT CCTTA TTACA ACAAT AATCT TCTTA TTACA ACACG ACGCC GCCCA CCACC ACCTC CTCTT CTTTC TTCAT CATGA TGATA ATAGT AGTCC TCCCT CCTGG TGGAC GACCT CCTAG TAGAG GAGGG GGGAT GATTG TTGAG GAGTG GTGGT GGTTT TTTTA TTAAT AATTT TTTCT TCTGG TGGCC GCCCT CCTGT TGTGT TGTCT TCTCA TCACA ACAAA AAAAG AAGCA GCAGT AGTTC TTCAT CATTT TTTTG TTGAT GATTG TTGTC GTCAC CACCT CCTTC TTCTC CTCCC CCCTG CTGTT GTTCT TCTGA TGAAC AACAA CAAGA AGAGG AGGAT GATCT TCTAA TAACT ACTGT TGTTG TTGTC GTCAA CAATG ATGTT GTTTA TTAAG AAGAT GATAT TATAG TAGCA GCAGA AGAAG AAGTC GTCAG CAGGA GGACC ACCTT CTTTT TTTTC TTCAG CAGAC GACCC CCCAG CAGGA GGAAT AATCA TCAAA AAAGC AGCCC CCCTG CTGTA GTAAC AACTT CTTAA TAACA ACAGC AGCAT CATAA TAAGG AGGGT GGTTA TTAGT AGTTA TTAAT AATAG TAGGA GGACA ACACG ACGTA GTATT ATTAG TAGAG GAGAT GATGT TGTTC TTCGA CGAAG AAGCA GCATC ATCAA CAAAA AAACA ACATT ATTTG TTGAT GATCA TCAAA AAAAC AACAA CAAAA AAATC ATCAC CACAC CACAT CATCA TCATT ATTGT TGTAA TAAAA AAATA ATAAT AATAG TAGTT GTTAT TATTC TTCAT CATTT TTTAA TAACC ACCAA CAAAG AAGTG GTGAT GATCC TCCTC CTCGA CGAAA AAAGA AGACT ACTTT TTTAA TAAAA AAAGC AGCAA CAATA ATATA ATAGA AGAAA AAATA ATAAA AAAAT AATTA TTAAA AAAAT AATAA TAAAG AAGGA GGAGG AGGAC GACTC CTCTA CTACT ACTTA TTATT ATTAT TATAT TATGC TGCAG CAGAT GATAG TAGAC GACCA CCACT ACTGT TGTGC TGCTG CTGTG GTGAA GAAAT AATAA TAAGT AGTTT TTTCT TCTAT TATTT TTTAC TACAA CAATA ATATA ATAAA AAATG ATGAT GATCA TCAAG AAGTA GTATA ATAGT AGTGT TGTAT TATGC TGCAT CATTT TTTAT TATGC TGCTA CTAAG AAGAA GAACA ACAGA AGAAG AAGCC GCCAA CAATG ATGTT GTTTA TTAAT AATGA TGAAA AAATG ATGCT GCTTA TTAGA AGAAA AAACA ACATA ATAAA AAAGA AGAAG AAGAA GAACA ACATT ATTTG TTGGA GGAAA AAATT ATTAG TAGTG GTGGT GGTCT TCTGG TGGTA GTATA ATACT ACTAA TAATA ATACT ACTGA TGAGG AGGAA GAAAG AAGTC GTCCT CCTCT TCTCA TCATT ATTTC TTCAG CAGCT GCTAG TAGCA GCATA ATATT ATTAC TACAA CAAAT AATGA TGACA ACAAC AACAC CACTA CTATG ATGAT GATTT TTTGC TGCTA CTATC ATCTA CTAGT AGTAG TAGTT GTTAC TACTG CTGCC GCCTG CTGTA GTAGC AGCAC CACTT CTTGA TGAAA AAACC ACCAT CATTG TTGCA GCATT ATTAA TAAAG AAGTA GTAGC AGCTA CTAGG AGGTT GTTAC TACTT CTTCT TCTGG TGGCA GCATA ATATA ATATC ATCTC CTCAT CATAA TAACT ACTAG TAGCA GCATT ATTGT TGTAG TAGTG GTGAC GACAG CAGAA GAATT ATTGT TGTAA TAACT ACTAC TACAG CAGCC GCCAT CATAC TACAA CAAAA AAATA ATATC ATCAT CATCT TCTTC TTCCT CCTAT TATGT TGTCA TCAAA AAACT ACTTA TTATC ATCAA CAAAG AAGAC GACAA CAATT ATTAA TAACT ACTTC TTCTC CTCTC CTCCA CCATT ATTAT TATGT TGTAA TAAAA AAATT ATTGG TGGTA GTAAA AAATG ATGCA GCAAA AAATA ATATT ATTAG TAGTT GTTTT TTTGA TGAAA AAAAT AATTC TTCAA CAATT ATTTG TTGAG GAGGA GGATA ATAAA AAATA ATAAT AATCT TCTCC TCCTT CTTTC TTCAC CACTA CTAAA AAAAT AATAC TACTG CTGTA GTACA ACAAC AACAA CAAAG AAGCA GCAGG AGGGA GGACA ACAAA AAAGT AGTAA TAAAA AAACC ACCAG CAGGC GGCAT CATTC TTCAA CAATA ATAAT AATTG TTGAT GATTT TTTTC TTCAT CATCC TCCAT CATTT TTTAA TAAAA AAAGA AGAGT AGTAT TATCA TCATC ATCAC CACAC CACAT CATTT TTTTC TTCAA CAAGA AGATT ATTGG TGGTT GTTTC TTCAA CAAGA AGATA ATACA ACAAT AATAC TACTG CTGCC GCCAA CAACT ACTAA TAATT ATTAG TAGAT GATAA TAACT ACTGA TGATA ATAAC AACTT CTTTC TTCGC CGCCA CCACT ACTAG TAGAC GACTT CTTTT TTTCA TCAAG AAGCC GCCAG CAGTG GTGCA GCAAC AACAC CACTT CTTGT TGTAC TACAT CATAT TATTT TTTTG TTGTT GTTTT TTTCA TCATG ATGTG GTGTA GTACA ACACA ACACA ACATG ATGAA GAAGT AGTCC TCCCA CCAAC AACAA CAAAA AAAAT AATAA TAAAA AAAGC AGCCT CCTTA TTAAA AAATT ATTAA TAAGA AGAAA AAAAA AAAAA AAACA ACACC ACCAG CAGAA GAAAG AAGTA GTATC ATCAC CACTG CTGTT GTTTT TTTTA TTATT ATTAC TACTG CTGCT GCTTA TTAAT AATCC TCCAA CAAGT AGTGA TGAAT AATGT TGTCA TCACT ACTTA TTAAT AATTT TTTTA TTAAT AATAA TAATG ATGGA GGAAA AAAAC AACAC CACAA CAACC ACCTA CTAAG AAGTA GTAGT AGTTT TTTGA TGAGA AGAGA AGAAA AAACC ACCCT CCTAG TAGTC GTCAA CAACA ACATA ATACT ACTTG TTGTC GTCTT CTTCA TCAGG AGGAC GACAA CAAGG AGGCC GCCAA CAATC ATCTG CTGTC GTCCT CCTGA TGAAC AACAT CATTA TTAAA AAAAC AACTT CTTTG TTGTA GTACC ACCCA CCATA ATATC ATCAC CACAG CAGCT GCTTT TTTTC TTCTT CTTCA TCATT ATTAC TACCT CCTAA TAAAG AAGGA GGAAA AAAAG AAGAT GATCT TCTGA TGAAA AAACA ACAAA AAACT ACTAT TATAT TATTA TTATC ATCAA CAATT ATTTC TTCAT CATTG TTGAA GAATT ATTAC TACTG CTGTA GTAGA AGAAA AAATA,\n",
       " EmptyLabel )"
      ]
     },
     "execution_count": 32,
     "metadata": {},
     "output_type": "execute_result"
    }
   ],
   "source": [
    "learn.data.train_ds[0]"
   ]
  },
  {
   "cell_type": "code",
   "execution_count": 33,
   "metadata": {},
   "outputs": [],
   "source": [
    "lr = 1e-2/1.35**2"
   ]
  },
  {
   "cell_type": "code",
   "execution_count": 34,
   "metadata": {},
   "outputs": [
    {
     "data": {
      "text/html": [
       "Total time: 1:31:18 <p><table style='width:300px; margin-bottom:10px'>\n",
       "  <tr>\n",
       "    <th>epoch</th>\n",
       "    <th>train_loss</th>\n",
       "    <th>valid_loss</th>\n",
       "    <th>accuracy</th>\n",
       "  </tr>\n",
       "  <tr>\n",
       "    <th>1</th>\n",
       "    <th>2.263601</th>\n",
       "    <th>2.244481</th>\n",
       "    <th>0.279138</th>\n",
       "  </tr>\n",
       "</table>\n"
      ],
      "text/plain": [
       "<IPython.core.display.HTML object>"
      ]
     },
     "metadata": {},
     "output_type": "display_data"
    }
   ],
   "source": [
    "learn.fit_one_cycle(1, lr, moms=(0.8,0.7), pct_start=0.9)"
   ]
  },
  {
   "cell_type": "code",
   "execution_count": 35,
   "metadata": {},
   "outputs": [],
   "source": [
    "learn.save('mammal_in_training')"
   ]
  },
  {
   "cell_type": "code",
   "execution_count": null,
   "metadata": {},
   "outputs": [],
   "source": []
  },
  {
   "cell_type": "markdown",
   "metadata": {},
   "source": [
    "# Part 4\n",
    "\n",
    "700,000 - 1,000,000"
   ]
  },
  {
   "cell_type": "code",
   "execution_count": 36,
   "metadata": {},
   "outputs": [],
   "source": [
    "data = GenomicTextLMDataBunch.from_df(path, df[700000:], df_valid, bs=400, tokenizer=tok, vocab=model_vocab,\n",
    "                              chunksize=20000, text_cols=0, label_cols=1)"
   ]
  },
  {
   "cell_type": "code",
   "execution_count": 37,
   "metadata": {},
   "outputs": [],
   "source": [
    "learn.data = data"
   ]
  },
  {
   "cell_type": "code",
   "execution_count": 38,
   "metadata": {},
   "outputs": [
    {
     "data": {
      "text/plain": [
       "(Text GGCTA CTAAA AAATT ATTGC TGCAA CAAGT AGTCC TCCAA CAATC ATCTA CTATT ATTTT TTTTC TTCTG CTGAT GATCT TCTTA TTATG ATGTG GTGTT GTTCA TCACC ACCTG CTGAA GAAAG AAGCA GCAAA AAAAT AATAA TAATG ATGAG GAGTT GTTCA TCAGA AGATA ATATT ATTCT TCTTG TTGCA GCATG ATGGA GGAAA AAACA ACATA ATACT ACTCA TCATT ATTGT TGTGA TGATC ATCAG CAGAA GAATG ATGAA GAAGG AGGAA GAAGT AGTTA TTATT ATTGC TGCTA CTAAT AATGC TGCAC CACTT CTTAC TACAA CAAAT AATAT TATGT TGTTT TTTAT TATCC TCCCT CCTGC TGCGA CGAGC AGCTA CTAAT AATGT TGTGT TGTCT TCTCA TCAAT AATTC TTCCT CCTGA TGAAA AAAGT AGTCA TCATT ATTAT TATTA TTACC ACCTT CTTGC TGCTC CTCCT CCTTT TTTCT TCTAG TAGTA GTATT ATTTT TTTAA TAAAA AAAGA AGATG ATGAA GAAAA AAAAG AAGTG GTGAT GATAA TAAAT AATTT TTTCA TCAAA AAAAT AATAA TAATA ATAAA AAAAC AACAT CATCA TCATT ATTAT TATTT TTTTT TTTGA TGACA ACATT ATTGA TGAGG AGGAT GATGT TGTCA TCATT ATTTT TTTGT TGTAA TAAAT AATTA TTAAC AACCT CCTAT TATGA TGACA ACATT ATTTT TTTTA TTACT ACTTT TTTTT TTTGG TGGTT GTTAA TAATC ATCCT CCTTC TTCAG CAGAT GATTT TTTAC TACTC CTCTT CTTCA TCATT ATTGC TGCTT CTTTT TTTAA TAACT ACTAT TATGA TGAAT AATTA TTAAA AAAGT AGTAA TAATG ATGAG GAGTT GTTGA TGAAT AATTA TTAGG AGGTA GTAAA AAATG ATGTC GTCTA CTAAC AACAT CATAA TAATT ATTAC TACCA CCATG ATGTC GTCCT CCTCA TCAGT AGTAA TAAAA AAAGA AGATG ATGAT GATTG TTGTT GTTAA TAATG ATGTG GTGTC GTCTG CTGAT GATGA TGATG ATGGC GGCTG CTGGT GGTTG TTGAC GACTA CTAGA AGAAA AAATT ATTAT TATCT TCTTC TTCAG CAGTT GTTCC TCCAC CACAT CATTT TTTTC TTCAA CAAAA AAATG ATGAA GAATG ATGCA GCACC ACCGT CGTGG TGGGT GGTGG TGGAA GAATG ATGGA GGAAA AAAAT AATAA TAATA ATAAT AATTT TTTAA TAAGG AGGCA GCACA ACATT ATTAA TAACC ACCAT CATTA TTAAT AATAT TATAG TAGAT GATCT TCTAG TAGGG GGGTG GTGAC GACCA CCAAT AATTG TTGCC GCCCC CCCTG CTGTT GTTTG TTGCC GCCCA CCAGG AGGAC GACAG CAGGG GGGAA GAACT ACTTT TTTGG TGGGT GGTTT TTTTA TTAAA AAAAC AACTG CTGAT GATAC TACCA CCAAG AAGGG GGGGT GGTAC TACCT CCTGG TGGGA GGATG ATGCT GCTGA TGAAT AATGT TGTTC TTCAG CAGTG GTGCT GCTAA TAAAA AAACC ACCAG CAGGA GGAAA AAAGT AGTCC TCCAG CAGGC GGCAA CAAGT AGTGC TGCTG CTGAG GAGTG GTGGA GGATC ATCAG CAGGC GGCTA CTACA ACATA ATAGA AGATT ATTAC TACTG CTGCA GCACA ACAAT AATTA TTAAT AATTA TTATA ATAGT AGTAA TAAAT AATTG TTGAT GATTC TTCTG CTGTA GTATG ATGCA GCAAC AACTT CTTAA TAAAT AATAA TAAAC AACCC CCCAG CAGTT GTTTA TTATT ATTGA TGAGG AGGCA GCATG ATGAT GATCC TCCAG CAGTT GTTTG TTGCC GCCCG CCGTG GTGTG GTGAG GAGAA GAACC ACCTG CTGAT GATTT TTTCT TCTGT TGTGA TGAAC AACAT CATGG TGGAG GAGAT GATTT TTTAG TAGCC GCCAT CATAG TAGGT GGTGG TGGCT GCTGA TGAAG AAGGA GGAGA AGAGA AGACA ACATA ATAAT AATAT TATAG TAGAT GATGA TGATG ATGAT GATGT TGTTA TTAAT AATGA TGATA ATAGC AGCAA CAATG ATGGT GGTAA TAACC ACCAT CATTT TTTAT TATTG TTGAT GATGA TGACA ACAGG AGGAC GACTG CTGGA GGACT ACTTT TTTTT TTTTA TTAAG AAGAC GACTT CTTAG TAGCC GCCAA CAAAG AAGAT GATAA TAACA ACATT ATTCT TCTCT TCTGA TGAAA AAATC ATCTT CTTTC TTCTT CTTGA TGATA ATATC ATCCT CCTTA TTACC ACCCT CCTAC TACCC CCCAG CAGAA GAATT ATTTT TTTCT TCTGA TGATT ATTCT TCTTC TTCCT CCTTT TTTTT TTTAC TACTC CTCCC CCCAA CAATG ATGTA GTAAC AACCT CCTGT TGTGC TGCCG CCGAA GAAGT AGTTT TTTAT TATTA TTATA ATAAT AATGC TGCCC CCCTT CTTAA TAAAC AACTT CTTCC TCCTT CTTAT TATTT TTTGT TGTTT TTTAT TATTT TTTGT TGTCT TCTTC TTCCT CCTCT TCTGC TGCTA CTAGA AGAAT AATAT TATAA TAAGC AGCTT CTTCT TCTTT TTTAG TAGGA GGAGG AGGAT GATAG TAGAG GAGGC GGCAT CATTA TTATG ATGTT GTTAT TATTT TTTAT TATCT TCTTT TTTGT TGTAC TACCC CCCCA CCAAG AAGCA GCATC ATCCA CCAGT AGTAT TATAT TATTT TTTAG TAGTG GTGAA GAATG ATGAA GAATG ATGAA GAATG ATGAC GACCT CCTAG TAGGT GGTAT TATTT TTTTT TTTTT TTTTT TTTAC TACTC CTCTT CTTCA TCAAA AAAGT AGTAA TAATA ATACA ACAAT AATAA TAAAA AAATA ATACA ACATG ATGAT GATAC TACCA CCATC ATCCT CCTGT TGTTT TTTTA TTACT ACTGA TGATG ATGAG GAGAA GAAAC AACAA CAAGT AGTAT TATCT TCTAA TAAGA AGATG ATGTT GTTCT TCTGT TGTAA TAACA ACAAG AAGCA GCATA ATAAG AAGAA GAATA ATACG ACGTT GTTAA TAATA ATAAA AAATT ATTAT TATGA TGAAG AAGCC GCCAA CAAAG AAGAT GATGG TGGAA GAAAA AAATC ATCAG CAGAT GATCT TCTGT TGTCT TCTGA TGATT ATTGC TGCAA CAAAG AAGCC GCCAG CAGTT GTTCT TCTCT TCTTT TTTCC TCCAT CATTA TTACT ACTCT TCTGT TGTAT TATTA TTAAA AAATA ATAAT AATGC TGCTG CTGGC GGCCA CCAAA AAACA ACATA ATAGT AGTGA TGACT ACTTG TTGGA GGAGG AGGAC GACCC CCCTC CTCTC CTCCT CCTTT TTTCA TCAGT AGTAA TAAGA AGAGA AGAGT AGTAG TAGGA GGAAT AATCA TCAGA AGATA ATATA ATACA ACAAA AAATG ATGAA GAAGA AGACT ACTAT TATGT TGTCA TCAGT AGTCT TCTTA TTATT ATTAT TATGG TGGAT GATAC TACTG CTGAT GATGA TGAAA AAAGT AGTTT TTTTC TTCTG CTGGT GGTAA TAATC ATCTG CTGCA GCAAA AAAAT AATAG TAGAT GATTT TTTTA TTATA ATAGA AGATA ATAAT AATTG TTGCT GCTGT TGTGG TGGAA GAAAA AAAGA AGAAG AAGTG GTGAC GACTA CTAAA AAATG ATGTA GTAAA AAAAT AATAT TATAA TAATC ATCTC CTCTG CTGCT GCTGG TGGTA GTATG ATGTT GTTTA TTAGA AGACC ACCAG CAGGA GGAAA AAATC ATCAA CAAAA AAATG ATGCA GCATG ATGAC GACCT CCTAG TAGTC GTCAG CAGAC GACAA CAAAG AAGCA GCAAA AAAAG AAGGT GGTTC TTCTT CTTTA TTACG ACGTG GTGTT GTTCT TCTTC TTCTT CTTGT TGTAT TATCA TCATC ATCAG CAGTG GTGAG GAGCC GCCTT CTTTT TTTTC TTCAT CATTT TTTAA TAAGT AGTAC TACAA CAATG ATGAA GAAGT AGTGT TGTCT TCTCT TCTGC TGCCT CCTTA TTAAG AAGAA GAAAT AATTC TTCTT CTTCA TCAGA AGAGG AGGCA GCAGA AGAAA AAATT ATTCA TCATT ATTAT TATTC TTCTT CTTTA TTATT ATTAA TAACT ACTCA TCACT ACTGT TGTGC TGCCC CCCTT CTTCT TCTCC TCCTT CTTCT TCTTC TTCTG CTGCA GCACC ACCTT CTTTT TTTCC TCCTG CTGTG GTGTA GTATT ATTGT TGTCT TCTCC TCCCA CCATT ATTTT TTTAA TAAAA AAATG ATGTA GTATT ATTAA TAACT ACTGA TGAGA AGAAC AACTA CTAAA AAAGA AGATA ATAGC AGCAA CAAAG AAGTG GTGTT GTTGT TGTCA TCAAT AATAT TATTA TTATA ATAAA AAAGT AGTAT TATAG TAGTA GTAAG AAGAC GACAG CAGCA GCATA ATAGA AGAAC AACTA CTACA ACATG ATGGA GGAGA AGAAT AATAT TATAT TATTG TTGAT GATAA TAACA ACAGC AGCAT CATCT TCTTT TTTTA TTACA ACACA ACAGT AGTGA TGATG ATGAA GAATT ATTAA TAATA ATAAT AATTA TTAAA AAACC ACCAA CAAAC AACAA CAAAA AAACC ACCAA CAAAC AACAA CAACA ACAAA AAAAC AACAG CAGTT GTTTT TTTAC TACAG CAGCT GCTAC TACTT CTTGG TGGGA GGAAA AAATA ATATC ATCTG CTGTA GTAAA AAACA ACAAA AAAGT AGTTT TTTCA TCATA ATAAT AATAA TAATT ATTAA TAACT ACTCT TCTTG TTGGA GGAAT AATAT TATCG TCGTC GTCAC CACTT CTTGT TGTAC TACAA CAAAT AATGC TGCTG CTGCA GCAAT,\n",
       " EmptyLabel )"
      ]
     },
     "execution_count": 38,
     "metadata": {},
     "output_type": "execute_result"
    }
   ],
   "source": [
    "learn.data.train_ds[0]"
   ]
  },
  {
   "cell_type": "code",
   "execution_count": 39,
   "metadata": {},
   "outputs": [],
   "source": [
    "lr = 1e-2/1.35**3"
   ]
  },
  {
   "cell_type": "code",
   "execution_count": 40,
   "metadata": {},
   "outputs": [
    {
     "data": {
      "text/html": [
       "Total time: 1:31:34 <p><table style='width:300px; margin-bottom:10px'>\n",
       "  <tr>\n",
       "    <th>epoch</th>\n",
       "    <th>train_loss</th>\n",
       "    <th>valid_loss</th>\n",
       "    <th>accuracy</th>\n",
       "  </tr>\n",
       "  <tr>\n",
       "    <th>1</th>\n",
       "    <th>2.244592</th>\n",
       "    <th>2.207216</th>\n",
       "    <th>0.293235</th>\n",
       "  </tr>\n",
       "</table>\n"
      ],
      "text/plain": [
       "<IPython.core.display.HTML object>"
      ]
     },
     "metadata": {},
     "output_type": "display_data"
    }
   ],
   "source": [
    "learn.fit_one_cycle(1, lr, moms=(0.8,0.7), pct_start=0.9)"
   ]
  },
  {
   "cell_type": "code",
   "execution_count": 41,
   "metadata": {},
   "outputs": [],
   "source": [
    "learn.save('mammal_in_training')"
   ]
  },
  {
   "cell_type": "code",
   "execution_count": null,
   "metadata": {},
   "outputs": [],
   "source": []
  },
  {
   "cell_type": "markdown",
   "metadata": {},
   "source": [
    "# Part 5\n",
    "\n",
    "df 1,000,000 - 2,000,000\n",
    "\n",
    "0-200,000"
   ]
  },
  {
   "cell_type": "code",
   "execution_count": 42,
   "metadata": {},
   "outputs": [],
   "source": [
    "df = next(df_iter)"
   ]
  },
  {
   "cell_type": "code",
   "execution_count": 43,
   "metadata": {},
   "outputs": [
    {
     "data": {
      "text/html": [
       "<div>\n",
       "<style scoped>\n",
       "    .dataframe tbody tr th:only-of-type {\n",
       "        vertical-align: middle;\n",
       "    }\n",
       "\n",
       "    .dataframe tbody tr th {\n",
       "        vertical-align: top;\n",
       "    }\n",
       "\n",
       "    .dataframe thead th {\n",
       "        text-align: right;\n",
       "    }\n",
       "</style>\n",
       "<table border=\"1\" class=\"dataframe\">\n",
       "  <thead>\n",
       "    <tr style=\"text-align: right;\">\n",
       "      <th></th>\n",
       "      <th>Sequence</th>\n",
       "      <th>Source</th>\n",
       "      <th>set</th>\n",
       "    </tr>\n",
       "  </thead>\n",
       "  <tbody>\n",
       "    <tr>\n",
       "      <th>1000000</th>\n",
       "      <td>CATTGTTTTCATTCTCCATGACCGCTGTGGGTCACTTTCTATTATT...</td>\n",
       "      <td>NCBI Human</td>\n",
       "      <td>train</td>\n",
       "    </tr>\n",
       "    <tr>\n",
       "      <th>1000001</th>\n",
       "      <td>CACTTCAAAATGAAAAAATAATTATTGGAACTACATTGGGGGAACT...</td>\n",
       "      <td>NCBI Human</td>\n",
       "      <td>train</td>\n",
       "    </tr>\n",
       "    <tr>\n",
       "      <th>1000002</th>\n",
       "      <td>CAGTACAGCAGAATTCAAGGTCAGGGTAATTGCTTTCAGACAATAC...</td>\n",
       "      <td>NCBI Human</td>\n",
       "      <td>train</td>\n",
       "    </tr>\n",
       "    <tr>\n",
       "      <th>1000003</th>\n",
       "      <td>GATGGGGAAGAGTCAAGAACAGACAGCAGACGAGAAAAATAAATGA...</td>\n",
       "      <td>NCBI Human</td>\n",
       "      <td>train</td>\n",
       "    </tr>\n",
       "    <tr>\n",
       "      <th>1000004</th>\n",
       "      <td>AAGTAAATTGAAAACCTAGACAAGATTTTCCATTCTAGATGCCATT...</td>\n",
       "      <td>NCBI Human</td>\n",
       "      <td>train</td>\n",
       "    </tr>\n",
       "  </tbody>\n",
       "</table>\n",
       "</div>"
      ],
      "text/plain": [
       "                                                  Sequence      Source    set\n",
       "1000000  CATTGTTTTCATTCTCCATGACCGCTGTGGGTCACTTTCTATTATT...  NCBI Human  train\n",
       "1000001  CACTTCAAAATGAAAAAATAATTATTGGAACTACATTGGGGGAACT...  NCBI Human  train\n",
       "1000002  CAGTACAGCAGAATTCAAGGTCAGGGTAATTGCTTTCAGACAATAC...  NCBI Human  train\n",
       "1000003  GATGGGGAAGAGTCAAGAACAGACAGCAGACGAGAAAAATAAATGA...  NCBI Human  train\n",
       "1000004  AAGTAAATTGAAAACCTAGACAAGATTTTCCATTCTAGATGCCATT...  NCBI Human  train"
      ]
     },
     "execution_count": 43,
     "metadata": {},
     "output_type": "execute_result"
    }
   ],
   "source": [
    "df.head()"
   ]
  },
  {
   "cell_type": "code",
   "execution_count": 44,
   "metadata": {},
   "outputs": [],
   "source": [
    "data = GenomicTextLMDataBunch.from_df(path, df[:200000], df_valid, bs=400, tokenizer=tok, vocab=model_vocab,\n",
    "                              chunksize=20000, text_cols=0, label_cols=1)"
   ]
  },
  {
   "cell_type": "code",
   "execution_count": 45,
   "metadata": {},
   "outputs": [],
   "source": [
    "learn.data = data"
   ]
  },
  {
   "cell_type": "code",
   "execution_count": 46,
   "metadata": {},
   "outputs": [
    {
     "data": {
      "text/plain": [
       "(Text CATTG TTGTT GTTTT TTTCA TCATT ATTCT TCTCC TCCAT CATGA TGACC ACCGC CGCTG CTGTG GTGGG GGGTC GTCAC CACTT CTTTC TTCTA CTATT ATTAT TATTT TTTGG TGGCC GCCTT CTTCA TCATC ATCCA CCAAA AAACT ACTCT TCTGA TGATG ATGCT GCTCA TCATC ATCTG CTGAA GAAGT AGTTT TTTAC TACAC CACTA CTATT ATTCT TCTAT TATTA TTATA ATAAC AACAT CATTC TTCTT CTTTT TTTTG TTGTA GTAAT AATTT TTTTA TTATT ATTGT TGTTA TTATC ATCAT CATAT TATGT TGTGG TGGAC GACCT CCTCC TCCAG CAGTC GTCAT CATAT TATCT TCTCT TCTAC TACAT CATTT TTTCT TCTTG TTGAG GAGGG GGGTT GTTTC TTCAG CAGTA GTATT ATTTG TTGAT GATTC TTCCT CCTAA TAATA ATATC ATCTA CTACC ACCCC CCCAC CACCT CCTCA TCATC ATCCC CCCCT CCTAG TAGTA GTAAA AAAAT AATGC TGCAG CAGCA GCACT ACTAC TACAG CAGCA GCATA ATAGT AGTGT TGTTT TTTAA TAAGA AGAGC AGCAC CACAA CAAGT AGTTA TTAGA AGACA ACAAC AACTC CTCAA CAAGG AGGTC GTCAA CAAGT AGTAC TACCA CCAAA AAATC ATCTA CTACC ACCCC CCCTC CTCAT CATTA TTAAC AACAT CATGT TGTAA TAACC ACCTT CTTGG TGGGA GGAGG AGGCC GCCAG CAGCT GCTAA TAATG ATGTT GTTTC TTCAA CAATG ATGCC GCCTC CTCAG CAGTT GTTTC TTCCT CCTTA TTATC ATCTC CTCTA CTAAA AAAAT AATGA TGAGA AGAAT AATAA TAATG ATGAT GATAT TATTA TTAAT AATAC TACCT CCTCA TCACA ACAGC AGCAT CATTG TTGTA GTAAG AAGAA GAATC ATCAT CATAT TATGG TGGAA GAATA ATAAT AATGC TGCAT CATAT TATAA TAAAG AAGCA GCACT ACTTA TTAGA AGAAC AACAG CAGTA GTATC ATCTG CTGCC GCCAC CACAT CATAA TAATA ATAAA AAATG ATGCT GCTCA TCAAT AATAA TAAAT AATTT TTTAC TACTA CTATT ATTTT TTTCA TCATT ATTAC TACTG CTGCA GCACT ACTAT TATTA TTACC ACCTT CTTAA TAAAA AAAGT AGTCT TCTTC TTCCT CCTTC TTCTG CTGTA GTATG ATGTT GTTTA TTATG ATGAT GATTC TTCAT CATTA TTAAC AACAC CACCC CCCTA CTAGC AGCCT CCTCA TCAGT AGTAC TACTG CTGCT GCTCA TCAAA AAAAA AAATC ATCCA CCATT ATTTT TTTTT TTTTC TTCAC CACTT CTTGT TGTAC TACAA CAAAA AAATT ATTCC TCCCT CCTAG TAGAC GACTA CTATT ATTAC TACGT CGTAT TATAA TAATG ATGGC GGCTT CTTTT TTTCT TCTGA TGAAT AATTT TTTTA TTATT ATTTA TTACT ACTTA TTATT ATTTA TTATT ATTTA TTAGA AGAGA AGACA ACAGG AGGGT GGTAT TATCA TCACT ACTGT TGTGT TGTCA TCACC ACCCA CCAGG AGGCT GCTGC TGCAG CAGTG GTGCA GCAGT AGTGG TGGTG GTGTG GTGAC GACCA CCACG ACGGT GGTTT TTTAC TACTG CTGTA GTAGC AGCCT CCTTG TTGAC GACCT CCTCC TCCCA CCAAA AAACT ACTCA TCAGG AGGCA GCAAT AATCC TCCTC CTCCC CCCAC CACCT CCTCA TCAGC AGCCT CCTCC TCCTG CTGAA GAATA ATAGC AGCTG CTGGG GGGAC GACTA CTACA ACAGG AGGCA GCATG ATGGG GGGCC GCCAT CATCA TCACG ACGTC GTCCA CCAGC AGCTA CTAAT AATTT TTTTT TTTTA TTAAT AATTG TTGTT GTTTG TTGTA GTAGC AGCAA CAATG ATGGG GGGGT GGTTT TTTCA TCACC ACCAG CAGGT GGTTG TTGCC GCCCA CCAGG AGGCT GCTAG TAGTT GTTTT TTTGA TGAAC AACTC CTCCT CCTGA TGAGC AGCTC CTCAA CAAGT AGTGA TGATC ATCCA CCACC ACCCA CCACC ACCTT CTTGT TGTCT TCTAG TAGGA GGATT ATTAC TACAG CAGGC GGCAT CATGA TGAGG AGGTA GTAGT AGTGT TGTCT TCTGT TGTAA TAATA ATAGG AGGCT GCTAG TAGTG GTGCT GCTAA TAAGA AGAAT AATAT TATAG TAGGC GGCAT CATGA TGAGC AGCCA CCATC ATCGC CGCTC CTCCT CCTGG TGGAC GACTG CTGAA GAATT ATTTT TTTAA TAATT ATTTA TTAAC AACCC CCCTT CTTCT TCTTA TTAAG AAGAT GATCT TCTAG TAGCT GCTCT TCTTA TTACT ACTTT TTTCG TCGGC GGCCA CCAAT AATAA TAACC ACCTT CTTTT TTTAT TATCT TCTTA TTACC ACCCA CCAGA AGAAA AAATT ATTGA TGAAT AATCC TCCAT CATTT TTTGA TGAAA AAAAT AATAA TAAAT AATAT TATTT TTTCA TCAGA AGAAT AATTT TTTCT TCTCT TCTAT TATAT TATTC TTCAT CATAA TAACC ACCAT CATGC TGCTG CTGTC GTCTT CTTCT TCTCG TCGCT GCTAC TACTC CTCTG CTGTG GTGGG GGGGA GGAAG AAGCA GCAAG AAGGT GGTCT TCTGT TGTGT TGTTT TTTCC TCCCT CCTAA TAAAC AACTA CTAGC AGCTG CTGAG GAGTC GTCTT CTTAA TAACT ACTTC TTCTA CTACC ACCCA CCATT ATTCT TCTGT TGTTC TTCTT CTTTT TTTTA TTATT ATTCT TCTTT TTTAT TATCT TCTTC TTCAA CAATA ATACC ACCTT CTTGC TGCTC CTCTA CTACC ACCAG CAGAA GAAAA AAATT ATTCC TCCTC CTCTA CTAAA AAACT ACTTG TTGAT GATCA TCAAG AAGTC GTCTT CTTAT TATTT TTTAT TATCC TCCTA CTAAC AACAT CATAA TAAAC AACCA CCAGC AGCTA CTATT ATTTC TTCCC CCCTC CTCTT CTTGC TGCAC CACCT CCTGC TGCTT CTTTC TTCTT CTTCT TCTTA TTATG ATGTT GTTAC TACTA CTATC ATCAT CATAC TACCT CCTCT TCTTC TTCTT CTTCT TCTAA TAATC ATCTC CTCCT CCTTG TTGAA GAAAG AAGAG GAGTC GTCAT CATCC TCCGT CGTAC TACTC CTCTC CTCTA CTACT ACTCC TCCAT CATTT TTTCC TCCCA CCAGT AGTGT TGTCT TCTTA TTATT ATTTC TTCCC CCCAT CATTT TTTCC TCCCA CCAAT AATGT TGTCT TCTCA TCACT ACTAT TATTA TTAAC AACTT CTTCC TCCAG CAGAC GACAT CATCT TCTAC TACTT CTTGT TGTAC TACCA CCACA ACATC ATCAC CACTT CTTCT TCTAA TAAAA AAATT ATTTA TTACT ACTAT TATTC TTCAA CAAAA AAAGT AGTAA TAAGT AGTTG TTGCG GCGAC GACTG CTGCA GCATT ATTAC TACCA CCAAA AAACC ACCAA CAAAA AAAAA AAAAA AAAAA AAAGC AGCCT CCTCT TCTCT TCTTC TTCAG CAGAA GAATT ATTTT TTTTC TTCTT CTTAC TACAA CAACT ACTCC TCCTT CTTCA TCACA ACAGC AGCAT CATTA TTAAA AAATA ATATA ATATT ATTGA TGACC ACCAT CATCC TCCAC CACTT CTTGA TGAAA AAAAT AATTT TTTCC TCCTC CTCCT CCTTC TTCAT CATTA TTAGC AGCTT CTTTC TTCAT CATAT TATAA TAATC ATCAC CACTC CTCTG CTGTA GTATT ATTCT TCTTT TTTCT TCTTA TTAAA AAAGT AGTAA TAATA ATAGA AGAAA AAAGA AGAAA AAACT ACTAT TATAA TAATG ATGGT GGTAG TAGTC GTCAA CAAAA AAAAT AATCC TCCAT CATGT TGTTC TTCAA CAAGC AGCAT CATAG TAGGC GGCCC CCCCA CCACT ACTAT TATTG TTGCT GCTCT TCTTA TTAAA AAAAC AACTC CTCTA CTAAT AATTT TTTCT TCTTT TTTAT TATCA TCAGC AGCAA CAAAA AAATA ATAGG AGGGA GGATA ATAAT AATAT TATTT TTTGT TGTCT TCTTG TTGCT GCTTT TTTGT TGTTC TTCAC CACTA CTAGT AGTTT TTTGT TGTAA TAATG ATGCA GCAAA AAAAA AAAAT AATAA TAAAA AAACA ACAAA AAAAT AATAA TAATG ATGAA GAATC ATCTG CTGAT GATAA TAATG ATGCC GCCAT CATAA TAAAA AAAGA AGACA ACATG ATGAA GAAAT AATAT TATAT TATAA TAAAG AAGCA GCAGC AGCTA CTAAG AAGTA GTAAG AAGAT GATTT TTTGA TGATA ATAAC AACTT CTTGG TGGTA GTAAC AACAG CAGAT GATAG TAGGC GGCTA CTACA ACAGA AGAAA AAAAT AATGA TGATA ATACA ACAAA AAAAA AAATT ATTGC TGCTA CTACC ACCAA CAATT ATTGG TGGCT GCTGT TGTGA TGAAC AACTC CTCCT CCTGA TGAAG AAGGA GGAAC AACCA CCAAA AAAGC AGCTG CTGTG GTGTA GTATC ATCTT CTTAC TACCT CCTAG TAGAA GAAGG AGGTT GTTTT TTTTT TTTCA TCAGT AGTAT TATTA TTAAA AAAAG AAGGT GGTTT TTTCA TCAAA AAAGC AGCAT CATCT TCTTC TTCAT CATCA TCAAA AAAGC AGCAT CATTA TTACC ACCAT CATGT TGTCC TCCAT CATTA TTATG ATGGC GGCTT CTTTT TTTAC TACCA CCAGG AGGAA GAAGT AGTTA TTAGG AGGAG GAGAC GACTT CTTCA TCAAA AAATA ATAAA AAAAA AAAAC AACCT CCTTC TTCTG CTGAC GACCT CCTAC TACCT CCTGG TGGAC,\n",
       " EmptyLabel )"
      ]
     },
     "execution_count": 46,
     "metadata": {},
     "output_type": "execute_result"
    }
   ],
   "source": [
    "learn.data.train_ds[0]"
   ]
  },
  {
   "cell_type": "code",
   "execution_count": 47,
   "metadata": {},
   "outputs": [],
   "source": [
    "lr = 1e-2/1.35**4"
   ]
  },
  {
   "cell_type": "code",
   "execution_count": 48,
   "metadata": {},
   "outputs": [
    {
     "data": {
      "text/html": [
       "Total time: 1:02:11 <p><table style='width:300px; margin-bottom:10px'>\n",
       "  <tr>\n",
       "    <th>epoch</th>\n",
       "    <th>train_loss</th>\n",
       "    <th>valid_loss</th>\n",
       "    <th>accuracy</th>\n",
       "  </tr>\n",
       "  <tr>\n",
       "    <th>1</th>\n",
       "    <th>2.234741</th>\n",
       "    <th>2.197642</th>\n",
       "    <th>0.297131</th>\n",
       "  </tr>\n",
       "</table>\n"
      ],
      "text/plain": [
       "<IPython.core.display.HTML object>"
      ]
     },
     "metadata": {},
     "output_type": "display_data"
    }
   ],
   "source": [
    "learn.fit_one_cycle(1, lr, moms=(0.8,0.7), pct_start=0.9)"
   ]
  },
  {
   "cell_type": "code",
   "execution_count": 49,
   "metadata": {},
   "outputs": [],
   "source": [
    "learn.save('mammal_in_training')"
   ]
  },
  {
   "cell_type": "code",
   "execution_count": null,
   "metadata": {},
   "outputs": [],
   "source": []
  },
  {
   "cell_type": "markdown",
   "metadata": {},
   "source": [
    "# Part 6\n",
    "\n",
    "200,000 - 400,000"
   ]
  },
  {
   "cell_type": "code",
   "execution_count": 50,
   "metadata": {},
   "outputs": [],
   "source": [
    "data = GenomicTextLMDataBunch.from_df(path, df[200000:400000], df_valid, bs=400, tokenizer=tok, vocab=model_vocab,\n",
    "                              chunksize=20000, text_cols=0, label_cols=1)"
   ]
  },
  {
   "cell_type": "code",
   "execution_count": 51,
   "metadata": {},
   "outputs": [],
   "source": [
    "learn.data = data"
   ]
  },
  {
   "cell_type": "code",
   "execution_count": 52,
   "metadata": {},
   "outputs": [
    {
     "data": {
      "text/plain": [
       "(Text CACTA CTAAT AATTA TTAGA AGAGA AGATT ATTAA TAATC ATCTT CTTGC TGCTG CTGTT GTTGG TGGGT GGTAA TAATA ATATT ATTGA TGAGC AGCTT CTTCT TCTGA TGAAA AAAGT AGTTC TTCCG CCGTC GTCAC CACTT CTTAT TATTC TTCAA CAAAG AAGCA GCAGT AGTGA TGAAT AATAA TAATC ATCCT CCTTA TTAAT AATAC TACTG CTGAA GAAGT AGTTG TTGGT GGTAA TAACT ACTTC TTCTA CTATG ATGTT GTTGC TGCCA CCACT ACTAT TATCT TCTTC TTCAA CAACC ACCAT CATGC TGCAT CATAC TACTT CTTCT TCTTT TTTCT TCTAG TAGGA GGATG ATGGA GGAAC AACCA CCAAC AACCT CCTCA TCAAA AAAAA AAAGA AGAAA AAAAG AAGTC GTCCA CCAAA AAAGT AGTAC TACAG CAGCT GCTTG TTGGA GGATT ATTTG TTGGT GGTTT TTTAG TAGAT GATAA TAAGT AGTTA TTATT ATTAG TAGGT GGTCA TCACT ACTCA TCAGT AGTTG TTGCA GCACA ACAGG AGGTT GTTCC TCCTA CTAAA AAAAG AAGTC GTCAT CATTT TTTTC TTCAG CAGGC GGCTT CTTTG TTGTA GTAGG AGGTA GTAGG AGGTG GTGGA GGAAA AAAAA AAAAG AAGAG GAGCT GCTTG TTGAT GATAA TAATA ATAAT AATTG TTGAA GAATA ATAAT AATGG TGGAA GAAGT AGTAA TAACT ACTTT TTTTA TTAGC AGCCT CCTAT TATAT TATTT TTTTA TTACA ACAAA AAAAA AAAAG AAGAC GACCT CCTAC TACCA CCATT ATTTA TTATC ATCTT CTTAA TAACA ACAGT AGTGC TGCTG CTGAA GAAAC AACCT CCTAG TAGTA GTATC ATCAC CACTT CTTAA TAAAA AAAAT AATTT TTTTT TTTCT TCTAA TAATA ATACA ACATA ATAAA AAAAT AATTT TTTGA TGAGA AGAAT AATTT TTTCA TCATA ATAGC AGCAG CAGGT GGTAA TAAAC AACTC CTCTT CTTAT TATTT TTTTA TTAAA AAACA ACATC ATCTT CTTTT TTTGA TGAGG AGGTT GTTGG TGGGC GGCAA CAATA ATAAA AAATT ATTCT TCTAG TAGTG GTGCA GCAGA AGAAA AAAGC AGCAC CACTG CTGTT GTTCT TCTGA TGAGT AGTAA TAACT ACTTG TTGTG GTGAA GAATG ATGTA GTAGA AGAAG AAGTT GTTCA TCATC ATCAG CAGAT GATTA TTATA ATAGA AGAAG AAGGC GGCAG CAGTG GTGAT GATGC TGCTG CTGGC GGCTG CTGAA GAAGC AGCAA CAAGT AGTTA TTACC ACCTC CTCCC CCCCC CCCTT CTTTT TTTTT TTTAT TATCC TCCTT CTTAC TACTT CTTCC TCCAC CACCC CCCCT CCTCT TCTTC TTCTC CTCCT CCTTT TTTCC TCCCT CCTCT TCTTC TTCTT CTTTC TTCTC CTCCT CCTTG TTGCA GCAAG AAGTT GTTTT TTTAA TAAAT AATGC TGCAG CAGCT GCTTA TTATG ATGGA GGAGG AGGTA GTAAA AAAAT AATTG TTGAC GACAT CATCT TCTGA TGATA ATAAA AAACT ACTTC TTCCC CCCAC CACAT CATGT TGTAA TAAAG AAGTG GTGTA GTACA ACAGT AGTTT TTTGA TGATA ATATG ATGTT GTTTG TTGAA GAACA ACAAA AAATG ATGTA GTATA ATACA ACACC ACCTG CTGTA GTAGA AGAAT AATTA TTATC ATCAC CACCA CCAAA AAAAT AATCA TCAAG AAGGT GGTAA TAATG ATGAA GAATA ATATG ATGCC GCCCA CCATC ATCAC CACTT CTTAC TACGA CGAGT AGTTT TTTCC TCCTT CTTAC TACAC CACCA CCACG ACGTA GTAGG AGGTA GTAAT AATAC TACCT CCTGC TGCCA CCACC ACCTC CTCTC CTCTG CTGCT GCTGT TGTCC TCCCC CCCAT CATTC TTCTC CTCAG CAGAT GATAA TAACC ACCAC CACTG CTGAC GACCT CCTGC TGCTT CTTTA TTATG ATGCC GCCAT CATTA TTATA ATAGA AGATT ATTAA TAATT ATTTG TTGTA GTATT ATTTT TTTTC TTCTA CTAGA AGATT ATTTT TTTAT TATGT TGTAA TAAAC AACGG CGGAA GAATC ATCTT CTTAC TACAG CAGTA GTATG ATGTA GTACT ACTTC TTCTC CTCTT CTTTT TTTTC TTCAG CAGTT GTTTG TTGTC GTCGT CGTCT TCTTT TTTCA TCATT ATTCA TCAGT AGTAT TATAA TAATT ATTAT TATCT TCTTG TTGCA GCATT ATTTA TTATC ATCAG CAGTC GTCAT CATTT TTTAT TATTT TTTCT TCTTT TTTGT TGTAT TATTG TTGCC GCCAA CAAGT AGTAC TACTA CTATC ATCTG CTGTA GTAAT AATGT TGTTC TTCCA CCATT ATTAT TATGC TGCAG CAGAT GATCT TCTAT TATCA TCAGT AGTTT TTTGT TGTTA TTACT ACTCA TCATT ATTTA TTACC ACCTG CTGTT GTTGA TGATG ATGGC GGCCA CCATT ATTTG TTGGA GGATT ATTGT TGTTT TTTTC TTCAG CAGTT GTTTT TTTTG TTGTC GTCTG CTGTT GTTAC TACTA CTAAT AATAA TAAAG AAGTT GTTGC TGCTT CTTTG TTGAG GAGCA GCATT ATTTA TTATG ATGTA GTACA ACAAT AATTG TTGTT GTTTG TTGTA GTACA ACATA ATAAG AAGCT GCTTT TTTTA TTATT ATTTT TTTCC TCCTG CTGGG GGGGT GGTAA TAATT ATTAC TACAT CATGG TGGGG GGGGT GGTGG TGGAA GAATG ATGGC GGCTG CTGGA GGATC ATCAT CATAT TATGG TGGTA GTAGG AGGTG GTGTA GTATG ATGTT GTTTA TTAAC AACTT CTTTT TTTTA TTAAA AAAAA AAAAT AATGG TGGAC GACAA CAAAC AACTT CTTTT TTTTT TTTCT TCTAA TAAGG AGGTA GTAGT AGTTG TTGTA GTACC ACCAT CATTT TTTTA TTATA ATACT ACTTT TTTCA TCACC ACCAG CAGTA GTAGT AGTTT TTTTT TTTGA TGAGA AGAGT AGTTC TTCAG CAGCT GCTTC TTCTT CTTCC TCCAT CATGT TGTCT TCTAT TATTC TTCCA CCAGC AGCAC CACTT CTTAG TAGTG GTGTG GTGAT GATGT TGTGT TGTTG TTGTG GTGTT GTTAA TAATC ATCTT CTTTA TTAGC AGCCG CCGTT GTTCT TCTAG TAGTA GTAAA AAATG ATGTG GTGTG GTGGT GGTGG TGGAA GAATC ATCTC CTCTG CTGTA GTATT ATTTT TTTTA TTAAT AATTT TTTGC TGCAT CATGT TGTTT TTTCT TCTAA TAATG ATGAC GACTA CTAAC AACAG CAGTG GTGTT GTTGA TGAAT AATGT TGTCT TCTTT TTTTC TTCAT CATGT TGTGC TGCTT CTTAT TATTT TTTAC TACCA CCAAC AACCG CCGTA GTATA ATATC ATCTT CTTTG TTGAT GATGA TGAAG AAGTT GTTCC TCCTG CTGTT GTTAA TAAAA AAATC ATCTG CTGTT GTTGT TGTAC TACAT CATTT TTTTT TTTAT TATTT TTTAA TAAAT AATTG TTGGG GGGTT GTTTT TTTTT TTTTG TTGTT GTTAT TATTC TTCGG CGGTT GTTTT TTTGG TGGGA GGAGG AGGTT GTTTT TTTTA TTAAA AAAAA AAATG ATGTG GTGTT GTTTT TTTGA TGAAT AATAC TACAA CAAGT AGTTT TTTAT TATTA TTATC ATCAG CAGAC GACCT CCTAT TATGA TGATT ATTTG TTGCA GCAGA AGATA ATACT ACTGT TGTCT TCTCC TCCTG CTGTC GTCTG CTGCG GCGCT GCTTA TTATC ATCTT CTTTA TTATA ATATA ATATA ATATC ATCTA CTATT ATTCT TCTTC TTCAC CACAG CAGTG GTGTT GTTTT TTTTG TTGGA GGAGA AGAGC AGCAA CAAAA AAAGT AGTTT TTTTT TTTAA TAATG ATGTT GTTGA TGATA ATATA ATAGG AGGCC GCCAA CAATT ATTTT TTTTA TTAAA AAATT ATTTG TTGTG GTGTA GTATT ATTGT TGTGC TGCTT CTTTT TTTGA TGATG ATGTT GTTGT TGTGT TGTAT TATAA TAAGA AGAGC AGCTC CTCTT CTTGT TGTCT TCTAA TAACT ACTCA TCAAG AAGCT GCTCA TCACT ACTTA TTAAG AAGAT GATTA TTATC ATCTC CTCTT CTTAT TATGT TGTAT TATTC TTCTC CTCCT CCTAG TAGCA GCAGT AGTTT TTTTA TTATA ATAGT AGTTT TTTTA TTAGG AGGTA GTATC ATCAC CACAT CATTT TTTAT TATAC TACTT CTTAT TATCC TCCAT CATTT TTTGG TGGAG GAGTT GTTAG TAGTT GTTTT TTTTA TTATA ATATA ATATA ATATC ATCGA CGAGA AGAGT AGTTA TTATA ATATA ATATT ATTGA TGATG ATGAT GATTT TTTTT TTTTT TTTTT TTTGC TGCAT CATGT TGTGG TGGAT GATAT TATCC TCCTT CTTTG TTGCA GCACC ACCTT CTTTA TTATC ATCAG CAGAT GATAT TATCA TCAGT AGTTG TTGTC GTCCA CCATA ATACA ACAGA AGATG ATGTG GTGTG GTGTC GTCTA CTATT ATTTC TTCTG CTGGA GGAGT AGTAT TATCT TCTGC TGCTC CTCTG CTGTT GTTCC TCCAT CATTG TTGAT GATCT TCTGT TGTTG TTGTT GTTTT TTTTC TTCTG CTGTC GTCTT CTTTG TTGCA GCACT ACTGA TGATC ATCTC CTCAC CACAT CATGG TGGTC GTCTT CTTGG TGGAC GACTA CTACT ACTCC TCCAG CAGCT GCTTT TTTAT TATAG TAGAA GAAAG AAGTC GTCTT CTTCA TCAGA AGATT ATTTG TTGAG GAGAG GAGTG GTGTT,\n",
       " EmptyLabel )"
      ]
     },
     "execution_count": 52,
     "metadata": {},
     "output_type": "execute_result"
    }
   ],
   "source": [
    "learn.data.train_ds[0]"
   ]
  },
  {
   "cell_type": "code",
   "execution_count": 53,
   "metadata": {},
   "outputs": [],
   "source": [
    "lr = 1e-2/1.35**5"
   ]
  },
  {
   "cell_type": "code",
   "execution_count": 54,
   "metadata": {},
   "outputs": [
    {
     "data": {
      "text/html": [
       "Total time: 1:02:16 <p><table style='width:300px; margin-bottom:10px'>\n",
       "  <tr>\n",
       "    <th>epoch</th>\n",
       "    <th>train_loss</th>\n",
       "    <th>valid_loss</th>\n",
       "    <th>accuracy</th>\n",
       "  </tr>\n",
       "  <tr>\n",
       "    <th>1</th>\n",
       "    <th>2.130705</th>\n",
       "    <th>2.186655</th>\n",
       "    <th>0.301050</th>\n",
       "  </tr>\n",
       "</table>\n"
      ],
      "text/plain": [
       "<IPython.core.display.HTML object>"
      ]
     },
     "metadata": {},
     "output_type": "display_data"
    }
   ],
   "source": [
    "learn.fit_one_cycle(1, lr, moms=(0.8,0.7), pct_start=0.9)"
   ]
  },
  {
   "cell_type": "code",
   "execution_count": 55,
   "metadata": {},
   "outputs": [],
   "source": [
    "learn.save('mammal_in_training')"
   ]
  },
  {
   "cell_type": "code",
   "execution_count": null,
   "metadata": {},
   "outputs": [],
   "source": []
  },
  {
   "cell_type": "code",
   "execution_count": null,
   "metadata": {},
   "outputs": [],
   "source": []
  },
  {
   "cell_type": "code",
   "execution_count": null,
   "metadata": {},
   "outputs": [],
   "source": []
  },
  {
   "cell_type": "code",
   "execution_count": null,
   "metadata": {},
   "outputs": [],
   "source": []
  },
  {
   "cell_type": "code",
   "execution_count": null,
   "metadata": {},
   "outputs": [],
   "source": []
  },
  {
   "cell_type": "markdown",
   "metadata": {},
   "source": [
    "# Part 7\n",
    "\n",
    "400,000-700,000"
   ]
  },
  {
   "cell_type": "code",
   "execution_count": null,
   "metadata": {},
   "outputs": [],
   "source": [
    "data = GenomicTextLMDataBunch.from_df(path, df[400000:700000], df_valid, bs=400, tokenizer=tok, vocab=model_vocab,\n",
    "                              chunksize=20000, text_cols=0, label_cols=1)"
   ]
  },
  {
   "cell_type": "code",
   "execution_count": null,
   "metadata": {},
   "outputs": [],
   "source": [
    "learn.data = data"
   ]
  },
  {
   "cell_type": "code",
   "execution_count": null,
   "metadata": {},
   "outputs": [],
   "source": [
    "learn.data.train_ds[0]"
   ]
  },
  {
   "cell_type": "code",
   "execution_count": null,
   "metadata": {},
   "outputs": [],
   "source": [
    "lr = 1e-2/1.35**6"
   ]
  },
  {
   "cell_type": "code",
   "execution_count": null,
   "metadata": {},
   "outputs": [],
   "source": [
    "learn.fit_one_cycle(1, lr, moms=(0.8,0.7), pct_start=0.9)"
   ]
  },
  {
   "cell_type": "code",
   "execution_count": null,
   "metadata": {},
   "outputs": [],
   "source": [
    "learn.save('mammal_in_training')"
   ]
  },
  {
   "cell_type": "code",
   "execution_count": null,
   "metadata": {},
   "outputs": [],
   "source": []
  },
  {
   "cell_type": "markdown",
   "metadata": {},
   "source": [
    "# Part 8\n",
    "\n",
    "700,000 - 1,000,000"
   ]
  },
  {
   "cell_type": "code",
   "execution_count": null,
   "metadata": {},
   "outputs": [],
   "source": [
    "data = GenomicTextLMDataBunch.from_df(path, df[700000:], df_valid, bs=400, tokenizer=tok, vocab=model_vocab,\n",
    "                              chunksize=20000, text_cols=0, label_cols=1)"
   ]
  },
  {
   "cell_type": "code",
   "execution_count": null,
   "metadata": {},
   "outputs": [],
   "source": [
    "learn.data = data"
   ]
  },
  {
   "cell_type": "code",
   "execution_count": null,
   "metadata": {},
   "outputs": [],
   "source": [
    "learn.data.train_ds[0]"
   ]
  },
  {
   "cell_type": "code",
   "execution_count": null,
   "metadata": {},
   "outputs": [],
   "source": [
    "lr = 1e-2/1.35**7"
   ]
  },
  {
   "cell_type": "code",
   "execution_count": null,
   "metadata": {},
   "outputs": [],
   "source": [
    "learn.fit_one_cycle(1, lr, moms=(0.8,0.7), pct_start=0.9)"
   ]
  },
  {
   "cell_type": "code",
   "execution_count": null,
   "metadata": {},
   "outputs": [],
   "source": [
    "learn.save('mammal_in_training')"
   ]
  },
  {
   "cell_type": "code",
   "execution_count": null,
   "metadata": {},
   "outputs": [],
   "source": []
  },
  {
   "cell_type": "markdown",
   "metadata": {},
   "source": [
    "# Part 9\n",
    "\n",
    "df 2,000,000 - 3,000,000\n",
    "\n",
    "0-200,000"
   ]
  },
  {
   "cell_type": "code",
   "execution_count": null,
   "metadata": {},
   "outputs": [],
   "source": [
    "df = next(df_iter)"
   ]
  },
  {
   "cell_type": "code",
   "execution_count": null,
   "metadata": {},
   "outputs": [],
   "source": [
    "df.head()"
   ]
  },
  {
   "cell_type": "code",
   "execution_count": null,
   "metadata": {},
   "outputs": [],
   "source": [
    "data = GenomicTextLMDataBunch.from_df(path, df[:200000], df_valid, bs=400, tokenizer=tok, vocab=model_vocab,\n",
    "                              chunksize=20000, text_cols=0, label_cols=1)"
   ]
  },
  {
   "cell_type": "code",
   "execution_count": null,
   "metadata": {},
   "outputs": [],
   "source": [
    "learn.data = data"
   ]
  },
  {
   "cell_type": "code",
   "execution_count": null,
   "metadata": {},
   "outputs": [],
   "source": [
    "learn.data.train_ds[0]"
   ]
  },
  {
   "cell_type": "code",
   "execution_count": null,
   "metadata": {},
   "outputs": [],
   "source": [
    "lr = 1e-2/1.35**8"
   ]
  },
  {
   "cell_type": "code",
   "execution_count": null,
   "metadata": {},
   "outputs": [],
   "source": [
    "learn.fit_one_cycle(1, lr, moms=(0.8,0.7), pct_start=0.9)"
   ]
  },
  {
   "cell_type": "code",
   "execution_count": null,
   "metadata": {},
   "outputs": [],
   "source": [
    "learn.save('mammal_in_training')"
   ]
  },
  {
   "cell_type": "code",
   "execution_count": null,
   "metadata": {},
   "outputs": [],
   "source": []
  },
  {
   "cell_type": "markdown",
   "metadata": {},
   "source": [
    "# Part 10\n",
    "\n",
    "200,000 - 400,000"
   ]
  },
  {
   "cell_type": "code",
   "execution_count": null,
   "metadata": {},
   "outputs": [],
   "source": [
    "data = GenomicTextLMDataBunch.from_df(path, df[200000:400000], df_valid, bs=400, tokenizer=tok, vocab=model_vocab,\n",
    "                              chunksize=20000, text_cols=0, label_cols=1)"
   ]
  },
  {
   "cell_type": "code",
   "execution_count": null,
   "metadata": {},
   "outputs": [],
   "source": [
    "learn.data = data"
   ]
  },
  {
   "cell_type": "code",
   "execution_count": null,
   "metadata": {},
   "outputs": [],
   "source": [
    "learn.data.train_ds[0]"
   ]
  },
  {
   "cell_type": "code",
   "execution_count": null,
   "metadata": {},
   "outputs": [],
   "source": [
    "lr = 1e-2/1.35**9"
   ]
  },
  {
   "cell_type": "code",
   "execution_count": null,
   "metadata": {},
   "outputs": [],
   "source": [
    "learn.fit_one_cycle(1, lr, moms=(0.8,0.7), pct_start=0.9)"
   ]
  },
  {
   "cell_type": "code",
   "execution_count": null,
   "metadata": {},
   "outputs": [],
   "source": [
    "learn.save('mammal_in_training')"
   ]
  },
  {
   "cell_type": "code",
   "execution_count": null,
   "metadata": {},
   "outputs": [],
   "source": []
  },
  {
   "cell_type": "markdown",
   "metadata": {},
   "source": [
    "# Part 11\n",
    "\n",
    "400,000-700,000"
   ]
  },
  {
   "cell_type": "code",
   "execution_count": null,
   "metadata": {},
   "outputs": [],
   "source": [
    "data = GenomicTextLMDataBunch.from_df(path, df[400000:700000], df_valid, bs=400, tokenizer=tok, vocab=model_vocab,\n",
    "                              chunksize=20000, text_cols=0, label_cols=1)"
   ]
  },
  {
   "cell_type": "code",
   "execution_count": null,
   "metadata": {},
   "outputs": [],
   "source": [
    "learn.data = data"
   ]
  },
  {
   "cell_type": "code",
   "execution_count": null,
   "metadata": {},
   "outputs": [],
   "source": [
    "learn.data.train_ds[0]"
   ]
  },
  {
   "cell_type": "code",
   "execution_count": null,
   "metadata": {},
   "outputs": [],
   "source": [
    "lr = 1e-2/1.35**10"
   ]
  },
  {
   "cell_type": "code",
   "execution_count": null,
   "metadata": {},
   "outputs": [],
   "source": [
    "learn.fit_one_cycle(1, lr, moms=(0.8,0.7), pct_start=0.9)"
   ]
  },
  {
   "cell_type": "code",
   "execution_count": null,
   "metadata": {},
   "outputs": [],
   "source": [
    "learn.save('mammal_in_training')"
   ]
  },
  {
   "cell_type": "code",
   "execution_count": null,
   "metadata": {},
   "outputs": [],
   "source": []
  },
  {
   "cell_type": "markdown",
   "metadata": {},
   "source": [
    "# Part 12\n",
    "\n",
    "700,000 - 1,000,000"
   ]
  },
  {
   "cell_type": "code",
   "execution_count": null,
   "metadata": {},
   "outputs": [],
   "source": [
    "data = GenomicTextLMDataBunch.from_df(path, df[700000:], df_valid, bs=400, tokenizer=tok, vocab=model_vocab,\n",
    "                              chunksize=20000, text_cols=0, label_cols=1)"
   ]
  },
  {
   "cell_type": "code",
   "execution_count": null,
   "metadata": {},
   "outputs": [],
   "source": [
    "learn.data = data"
   ]
  },
  {
   "cell_type": "code",
   "execution_count": null,
   "metadata": {},
   "outputs": [],
   "source": [
    "learn.data.train_ds[0]"
   ]
  },
  {
   "cell_type": "code",
   "execution_count": null,
   "metadata": {},
   "outputs": [],
   "source": [
    "lr = 1e-2/1.35**11"
   ]
  },
  {
   "cell_type": "code",
   "execution_count": null,
   "metadata": {},
   "outputs": [],
   "source": [
    "learn.fit_one_cycle(1, lr, moms=(0.8,0.7), pct_start=0.9)"
   ]
  },
  {
   "cell_type": "code",
   "execution_count": null,
   "metadata": {},
   "outputs": [],
   "source": [
    "learn.save('mammal_in_training')"
   ]
  },
  {
   "cell_type": "code",
   "execution_count": null,
   "metadata": {},
   "outputs": [],
   "source": []
  },
  {
   "cell_type": "markdown",
   "metadata": {},
   "source": [
    "# Part 13\n",
    "\n",
    "df 3,000,000 - 4,000,000\n",
    "\n",
    "0-200,000"
   ]
  },
  {
   "cell_type": "code",
   "execution_count": null,
   "metadata": {},
   "outputs": [],
   "source": [
    "df = next(df_iter)"
   ]
  },
  {
   "cell_type": "code",
   "execution_count": null,
   "metadata": {},
   "outputs": [],
   "source": [
    "df.head()"
   ]
  },
  {
   "cell_type": "code",
   "execution_count": null,
   "metadata": {},
   "outputs": [],
   "source": [
    "data = GenomicTextLMDataBunch.from_df(path, df[:200000], df_valid, bs=400, tokenizer=tok, vocab=model_vocab,\n",
    "                              chunksize=20000, text_cols=0, label_cols=1)"
   ]
  },
  {
   "cell_type": "code",
   "execution_count": null,
   "metadata": {},
   "outputs": [],
   "source": [
    "learn.data = data"
   ]
  },
  {
   "cell_type": "code",
   "execution_count": null,
   "metadata": {},
   "outputs": [],
   "source": [
    "learn.data.train_ds[0]"
   ]
  },
  {
   "cell_type": "code",
   "execution_count": null,
   "metadata": {},
   "outputs": [],
   "source": [
    "lr = 1e-2/1.35**12"
   ]
  },
  {
   "cell_type": "code",
   "execution_count": null,
   "metadata": {},
   "outputs": [],
   "source": [
    "learn.fit_one_cycle(1, lr, moms=(0.8,0.7), pct_start=0.9)"
   ]
  },
  {
   "cell_type": "code",
   "execution_count": null,
   "metadata": {},
   "outputs": [],
   "source": [
    "learn.save('mammal_in_training')"
   ]
  },
  {
   "cell_type": "code",
   "execution_count": null,
   "metadata": {},
   "outputs": [],
   "source": []
  },
  {
   "cell_type": "markdown",
   "metadata": {},
   "source": [
    "# Part 14\n",
    "\n",
    "200,000 - 400,000"
   ]
  },
  {
   "cell_type": "code",
   "execution_count": null,
   "metadata": {},
   "outputs": [],
   "source": [
    "data = GenomicTextLMDataBunch.from_df(path, df[200000:400000], df_valid, bs=400, tokenizer=tok, vocab=model_vocab,\n",
    "                              chunksize=20000, text_cols=0, label_cols=1)"
   ]
  },
  {
   "cell_type": "code",
   "execution_count": null,
   "metadata": {},
   "outputs": [],
   "source": [
    "learn.data = data"
   ]
  },
  {
   "cell_type": "code",
   "execution_count": null,
   "metadata": {},
   "outputs": [],
   "source": [
    "learn.data.train_ds[0]"
   ]
  },
  {
   "cell_type": "code",
   "execution_count": null,
   "metadata": {},
   "outputs": [],
   "source": [
    "lr = 1e-2/1.35**13"
   ]
  },
  {
   "cell_type": "code",
   "execution_count": null,
   "metadata": {},
   "outputs": [],
   "source": [
    "learn.fit_one_cycle(1, lr, moms=(0.8,0.7), pct_start=0.9)"
   ]
  },
  {
   "cell_type": "code",
   "execution_count": null,
   "metadata": {},
   "outputs": [],
   "source": [
    "learn.save('mammal_in_training')"
   ]
  },
  {
   "cell_type": "code",
   "execution_count": null,
   "metadata": {},
   "outputs": [],
   "source": []
  },
  {
   "cell_type": "markdown",
   "metadata": {},
   "source": [
    "# Part 15\n",
    "\n",
    "400,000-700,000"
   ]
  },
  {
   "cell_type": "code",
   "execution_count": null,
   "metadata": {},
   "outputs": [],
   "source": [
    "data = GenomicTextLMDataBunch.from_df(path, df[400000:700000], df_valid, bs=400, tokenizer=tok, vocab=model_vocab,\n",
    "                              chunksize=20000, text_cols=0, label_cols=1)"
   ]
  },
  {
   "cell_type": "code",
   "execution_count": null,
   "metadata": {},
   "outputs": [],
   "source": [
    "learn.data = data"
   ]
  },
  {
   "cell_type": "code",
   "execution_count": null,
   "metadata": {},
   "outputs": [],
   "source": [
    "learn.data.train_ds[0]"
   ]
  },
  {
   "cell_type": "code",
   "execution_count": null,
   "metadata": {},
   "outputs": [],
   "source": [
    "lr = 1e-2/1.35**14"
   ]
  },
  {
   "cell_type": "code",
   "execution_count": null,
   "metadata": {},
   "outputs": [],
   "source": [
    "learn.fit_one_cycle(1, lr, moms=(0.8,0.7), pct_start=0.9)"
   ]
  },
  {
   "cell_type": "code",
   "execution_count": null,
   "metadata": {},
   "outputs": [],
   "source": [
    "learn.save('mammal_in_training')"
   ]
  },
  {
   "cell_type": "code",
   "execution_count": null,
   "metadata": {},
   "outputs": [],
   "source": []
  },
  {
   "cell_type": "markdown",
   "metadata": {},
   "source": [
    "# Part 16\n",
    "\n",
    "700,000 - 1,000,000"
   ]
  },
  {
   "cell_type": "code",
   "execution_count": null,
   "metadata": {},
   "outputs": [],
   "source": [
    "data = GenomicTextLMDataBunch.from_df(path, df[700000:], df_valid, bs=400, tokenizer=tok, vocab=model_vocab,\n",
    "                              chunksize=20000, text_cols=0, label_cols=1)"
   ]
  },
  {
   "cell_type": "code",
   "execution_count": null,
   "metadata": {},
   "outputs": [],
   "source": [
    "learn.data = data"
   ]
  },
  {
   "cell_type": "code",
   "execution_count": null,
   "metadata": {},
   "outputs": [],
   "source": [
    "learn.data.train_ds[0]"
   ]
  },
  {
   "cell_type": "code",
   "execution_count": null,
   "metadata": {},
   "outputs": [],
   "source": [
    "lr = 1e-2/1.35**15"
   ]
  },
  {
   "cell_type": "code",
   "execution_count": null,
   "metadata": {},
   "outputs": [],
   "source": [
    "learn.fit_one_cycle(1, lr, moms=(0.8,0.7), pct_start=0.9)"
   ]
  },
  {
   "cell_type": "code",
   "execution_count": null,
   "metadata": {},
   "outputs": [],
   "source": [
    "learn.save('mammal_in_training')"
   ]
  },
  {
   "cell_type": "code",
   "execution_count": null,
   "metadata": {},
   "outputs": [],
   "source": []
  },
  {
   "cell_type": "code",
   "execution_count": null,
   "metadata": {},
   "outputs": [],
   "source": []
  },
  {
   "cell_type": "code",
   "execution_count": null,
   "metadata": {},
   "outputs": [],
   "source": []
  },
  {
   "cell_type": "markdown",
   "metadata": {},
   "source": [
    "# check length"
   ]
  },
  {
   "cell_type": "markdown",
   "metadata": {},
   "source": [
    "# Part 17\n",
    "\n",
    "df 4,000,000 - \n",
    "\n",
    "0-200,000"
   ]
  },
  {
   "cell_type": "code",
   "execution_count": null,
   "metadata": {},
   "outputs": [],
   "source": [
    "df = next(df_iter)"
   ]
  },
  {
   "cell_type": "code",
   "execution_count": null,
   "metadata": {},
   "outputs": [],
   "source": [
    "df.head()"
   ]
  },
  {
   "cell_type": "code",
   "execution_count": null,
   "metadata": {},
   "outputs": [],
   "source": [
    "data = GenomicTextLMDataBunch.from_df(path, df[:200000], df_valid, bs=400, tokenizer=tok, vocab=model_vocab,\n",
    "                              chunksize=20000, text_cols=0, label_cols=1)"
   ]
  },
  {
   "cell_type": "code",
   "execution_count": null,
   "metadata": {},
   "outputs": [],
   "source": [
    "learn.data = data"
   ]
  },
  {
   "cell_type": "code",
   "execution_count": null,
   "metadata": {},
   "outputs": [],
   "source": [
    "learn.data.train_ds[0]"
   ]
  },
  {
   "cell_type": "code",
   "execution_count": null,
   "metadata": {},
   "outputs": [],
   "source": [
    "lr = 1e-2/1.35**12"
   ]
  },
  {
   "cell_type": "code",
   "execution_count": null,
   "metadata": {},
   "outputs": [],
   "source": [
    "learn.fit_one_cycle(1, lr, moms=(0.8,0.7), pct_start=0.9)"
   ]
  },
  {
   "cell_type": "code",
   "execution_count": null,
   "metadata": {},
   "outputs": [],
   "source": [
    "learn.save('mammal_in_training')"
   ]
  },
  {
   "cell_type": "code",
   "execution_count": null,
   "metadata": {},
   "outputs": [],
   "source": []
  },
  {
   "cell_type": "markdown",
   "metadata": {},
   "source": [
    "# Part 14\n",
    "\n",
    "200,000 - 400,000"
   ]
  },
  {
   "cell_type": "code",
   "execution_count": null,
   "metadata": {},
   "outputs": [],
   "source": [
    "data = GenomicTextLMDataBunch.from_df(path, df[200000:400000], df_valid, bs=400, tokenizer=tok, vocab=model_vocab,\n",
    "                              chunksize=20000, text_cols=0, label_cols=1)"
   ]
  },
  {
   "cell_type": "code",
   "execution_count": null,
   "metadata": {},
   "outputs": [],
   "source": [
    "learn.data = data"
   ]
  },
  {
   "cell_type": "code",
   "execution_count": null,
   "metadata": {},
   "outputs": [],
   "source": [
    "learn.data.train_ds[0]"
   ]
  },
  {
   "cell_type": "code",
   "execution_count": null,
   "metadata": {},
   "outputs": [],
   "source": [
    "lr = 1e-2/1.35**13"
   ]
  },
  {
   "cell_type": "code",
   "execution_count": null,
   "metadata": {},
   "outputs": [],
   "source": [
    "learn.fit_one_cycle(1, lr, moms=(0.8,0.7), pct_start=0.9)"
   ]
  },
  {
   "cell_type": "code",
   "execution_count": null,
   "metadata": {},
   "outputs": [],
   "source": [
    "learn.save('mammal_in_training')"
   ]
  },
  {
   "cell_type": "code",
   "execution_count": null,
   "metadata": {},
   "outputs": [],
   "source": []
  },
  {
   "cell_type": "markdown",
   "metadata": {},
   "source": [
    "# Part 15\n",
    "\n",
    "400,000-700,000"
   ]
  },
  {
   "cell_type": "code",
   "execution_count": null,
   "metadata": {},
   "outputs": [],
   "source": [
    "data = GenomicTextLMDataBunch.from_df(path, df[400000:700000], df_valid, bs=400, tokenizer=tok, vocab=model_vocab,\n",
    "                              chunksize=20000, text_cols=0, label_cols=1)"
   ]
  },
  {
   "cell_type": "code",
   "execution_count": null,
   "metadata": {},
   "outputs": [],
   "source": [
    "learn.data = data"
   ]
  },
  {
   "cell_type": "code",
   "execution_count": null,
   "metadata": {},
   "outputs": [],
   "source": [
    "learn.data.train_ds[0]"
   ]
  },
  {
   "cell_type": "code",
   "execution_count": null,
   "metadata": {},
   "outputs": [],
   "source": [
    "lr = 1e-2/1.35**14"
   ]
  },
  {
   "cell_type": "code",
   "execution_count": null,
   "metadata": {},
   "outputs": [],
   "source": [
    "learn.fit_one_cycle(1, lr, moms=(0.8,0.7), pct_start=0.9)"
   ]
  },
  {
   "cell_type": "code",
   "execution_count": null,
   "metadata": {},
   "outputs": [],
   "source": [
    "learn.save('mammal_in_training')"
   ]
  },
  {
   "cell_type": "code",
   "execution_count": null,
   "metadata": {},
   "outputs": [],
   "source": []
  },
  {
   "cell_type": "markdown",
   "metadata": {},
   "source": [
    "# Part 16\n",
    "\n",
    "700,000 - 1,000,000"
   ]
  },
  {
   "cell_type": "code",
   "execution_count": null,
   "metadata": {},
   "outputs": [],
   "source": [
    "data = GenomicTextLMDataBunch.from_df(path, df[700000:], df_valid, bs=400, tokenizer=tok, vocab=model_vocab,\n",
    "                              chunksize=20000, text_cols=0, label_cols=1)"
   ]
  },
  {
   "cell_type": "code",
   "execution_count": null,
   "metadata": {},
   "outputs": [],
   "source": [
    "learn.data = data"
   ]
  },
  {
   "cell_type": "code",
   "execution_count": null,
   "metadata": {},
   "outputs": [],
   "source": [
    "learn.data.train_ds[0]"
   ]
  },
  {
   "cell_type": "code",
   "execution_count": null,
   "metadata": {},
   "outputs": [],
   "source": [
    "lr = 1e-2/1.35**15"
   ]
  },
  {
   "cell_type": "code",
   "execution_count": null,
   "metadata": {},
   "outputs": [],
   "source": [
    "learn.fit_one_cycle(1, lr, moms=(0.8,0.7), pct_start=0.9)"
   ]
  },
  {
   "cell_type": "code",
   "execution_count": null,
   "metadata": {},
   "outputs": [],
   "source": [
    "learn.save('mammal_in_training')"
   ]
  },
  {
   "cell_type": "code",
   "execution_count": null,
   "metadata": {},
   "outputs": [],
   "source": []
  },
  {
   "cell_type": "code",
   "execution_count": null,
   "metadata": {},
   "outputs": [],
   "source": []
  },
  {
   "cell_type": "code",
   "execution_count": null,
   "metadata": {},
   "outputs": [],
   "source": []
  },
  {
   "cell_type": "code",
   "execution_count": null,
   "metadata": {},
   "outputs": [],
   "source": []
  },
  {
   "cell_type": "code",
   "execution_count": null,
   "metadata": {},
   "outputs": [],
   "source": []
  }
 ],
 "metadata": {
  "kernelspec": {
   "display_name": "Python 3",
   "language": "python",
   "name": "python3"
  },
  "language_info": {
   "codemirror_mode": {
    "name": "ipython",
    "version": 3
   },
   "file_extension": ".py",
   "mimetype": "text/x-python",
   "name": "python",
   "nbconvert_exporter": "python",
   "pygments_lexer": "ipython3",
   "version": "3.7.2"
  }
 },
 "nbformat": 4,
 "nbformat_minor": 2
}

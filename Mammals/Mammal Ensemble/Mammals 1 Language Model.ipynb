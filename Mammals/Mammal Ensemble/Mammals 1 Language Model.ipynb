{
 "cells": [
  {
   "cell_type": "code",
   "execution_count": null,
   "metadata": {},
   "outputs": [],
   "source": []
  },
  {
   "cell_type": "code",
   "execution_count": 1,
   "metadata": {},
   "outputs": [],
   "source": [
    "%reload_ext autoreload\n",
    "%autoreload 2\n",
    "%matplotlib inline"
   ]
  },
  {
   "cell_type": "code",
   "execution_count": 2,
   "metadata": {},
   "outputs": [],
   "source": [
    "from fastai import *\n",
    "from fastai.text import *\n",
    "from Bio import Seq\n",
    "from Bio.Seq import Seq\n",
    "from Bio import SeqIO\n",
    "from Bio.SeqRecord import SeqRecord\n",
    "from Bio.SeqFeature import FeatureLocation, CompoundLocation\n",
    "import networkx as nx"
   ]
  },
  {
   "cell_type": "code",
   "execution_count": 3,
   "metadata": {},
   "outputs": [],
   "source": [
    "sys.path.append(\"../..\")\n",
    "from utils import *"
   ]
  },
  {
   "cell_type": "code",
   "execution_count": 4,
   "metadata": {},
   "outputs": [],
   "source": [
    "path = Path('F:/genome/mammals/')"
   ]
  },
  {
   "cell_type": "code",
   "execution_count": null,
   "metadata": {},
   "outputs": [],
   "source": []
  },
  {
   "cell_type": "code",
   "execution_count": null,
   "metadata": {},
   "outputs": [],
   "source": []
  },
  {
   "cell_type": "code",
   "execution_count": 5,
   "metadata": {},
   "outputs": [],
   "source": [
    "tok = Tokenizer(GenomicTokenizer, n_cpus=1, pre_rules=[], post_rules=[], special_cases=['xxpad'])"
   ]
  },
  {
   "cell_type": "code",
   "execution_count": 6,
   "metadata": {},
   "outputs": [],
   "source": [
    "df_valid = pd.read_csv(path/'mammal_val.csv')"
   ]
  },
  {
   "cell_type": "code",
   "execution_count": 7,
   "metadata": {},
   "outputs": [],
   "source": [
    "df_iter = pd.read_csv(path/'mammal_train.csv', chunksize=1000000)"
   ]
  },
  {
   "cell_type": "code",
   "execution_count": null,
   "metadata": {},
   "outputs": [],
   "source": []
  },
  {
   "cell_type": "code",
   "execution_count": 8,
   "metadata": {},
   "outputs": [],
   "source": [
    "df = next(df_iter)"
   ]
  },
  {
   "cell_type": "code",
   "execution_count": 9,
   "metadata": {
    "scrolled": true
   },
   "outputs": [
    {
     "data": {
      "text/html": [
       "<div>\n",
       "<style scoped>\n",
       "    .dataframe tbody tr th:only-of-type {\n",
       "        vertical-align: middle;\n",
       "    }\n",
       "\n",
       "    .dataframe tbody tr th {\n",
       "        vertical-align: top;\n",
       "    }\n",
       "\n",
       "    .dataframe thead th {\n",
       "        text-align: right;\n",
       "    }\n",
       "</style>\n",
       "<table border=\"1\" class=\"dataframe\">\n",
       "  <thead>\n",
       "    <tr style=\"text-align: right;\">\n",
       "      <th></th>\n",
       "      <th>Sequence</th>\n",
       "      <th>Source</th>\n",
       "      <th>set</th>\n",
       "    </tr>\n",
       "  </thead>\n",
       "  <tbody>\n",
       "    <tr>\n",
       "      <th>0</th>\n",
       "      <td>TAACCCTAACCCTAACCCTAACCCTAACCCTAACCCTAACCCTAAC...</td>\n",
       "      <td>NCBI Human</td>\n",
       "      <td>train</td>\n",
       "    </tr>\n",
       "    <tr>\n",
       "      <th>1</th>\n",
       "      <td>CATCTGCAGGTGTCTGACTTCCAGCAACTGCTGGCCTGTGCCAGGG...</td>\n",
       "      <td>NCBI Human</td>\n",
       "      <td>train</td>\n",
       "    </tr>\n",
       "    <tr>\n",
       "      <th>2</th>\n",
       "      <td>ACCTGCCCCACAGCCTTGCCTGGATTTCTATCTCCCTGGCTTGGTG...</td>\n",
       "      <td>NCBI Human</td>\n",
       "      <td>train</td>\n",
       "    </tr>\n",
       "    <tr>\n",
       "      <th>3</th>\n",
       "      <td>CTGGGGAAGCTTACTGTGTCCAAGAGCCTGCTGGGAGGGAAGTCAC...</td>\n",
       "      <td>NCBI Human</td>\n",
       "      <td>train</td>\n",
       "    </tr>\n",
       "    <tr>\n",
       "      <th>4</th>\n",
       "      <td>TGAAGATGGAGCCATATTCCTGCAGGCGCCCTGGAGCAGGGTACTT...</td>\n",
       "      <td>NCBI Human</td>\n",
       "      <td>train</td>\n",
       "    </tr>\n",
       "  </tbody>\n",
       "</table>\n",
       "</div>"
      ],
      "text/plain": [
       "                                            Sequence      Source    set\n",
       "0  TAACCCTAACCCTAACCCTAACCCTAACCCTAACCCTAACCCTAAC...  NCBI Human  train\n",
       "1  CATCTGCAGGTGTCTGACTTCCAGCAACTGCTGGCCTGTGCCAGGG...  NCBI Human  train\n",
       "2  ACCTGCCCCACAGCCTTGCCTGGATTTCTATCTCCCTGGCTTGGTG...  NCBI Human  train\n",
       "3  CTGGGGAAGCTTACTGTGTCCAAGAGCCTGCTGGGAGGGAAGTCAC...  NCBI Human  train\n",
       "4  TGAAGATGGAGCCATATTCCTGCAGGCGCCCTGGAGCAGGGTACTT...  NCBI Human  train"
      ]
     },
     "execution_count": 9,
     "metadata": {},
     "output_type": "execute_result"
    }
   ],
   "source": [
    "df.head()"
   ]
  },
  {
   "cell_type": "markdown",
   "metadata": {},
   "source": [
    "# Part 1\n",
    "0-200,000"
   ]
  },
  {
   "cell_type": "code",
   "execution_count": 11,
   "metadata": {},
   "outputs": [],
   "source": [
    "data = GenomicTextLMDataBunch.from_df(path, df[:200000], df_valid, bs=400, tokenizer=tok, \n",
    "                              chunksize=20000, text_cols=0, label_cols=1)"
   ]
  },
  {
   "cell_type": "code",
   "execution_count": null,
   "metadata": {},
   "outputs": [],
   "source": [
    "data.train_ds[0]"
   ]
  },
  {
   "cell_type": "code",
   "execution_count": 12,
   "metadata": {},
   "outputs": [],
   "source": [
    "np.save(path/'mammal_vocab.npy', data.vocab.itos)"
   ]
  },
  {
   "cell_type": "code",
   "execution_count": null,
   "metadata": {},
   "outputs": [],
   "source": []
  },
  {
   "cell_type": "code",
   "execution_count": null,
   "metadata": {},
   "outputs": [],
   "source": []
  },
  {
   "cell_type": "code",
   "execution_count": null,
   "metadata": {},
   "outputs": [],
   "source": []
  },
  {
   "cell_type": "code",
   "execution_count": 10,
   "metadata": {},
   "outputs": [],
   "source": [
    "voc = np.load(path/'mammal_vocab.npy')\n",
    "model_vocab = GenomicVocab(voc)"
   ]
  },
  {
   "cell_type": "code",
   "execution_count": 12,
   "metadata": {},
   "outputs": [],
   "source": [
    "data = GenomicTextLMDataBunch.from_df(path, df[:200000], df_valid, bs=400, tokenizer=tok, vocab=model_vocab,\n",
    "                              chunksize=20000, text_cols=0, label_cols=1)"
   ]
  },
  {
   "cell_type": "code",
   "execution_count": 11,
   "metadata": {},
   "outputs": [
    {
     "data": {
      "text/plain": [
       "(1025, 1025)"
      ]
     },
     "execution_count": 11,
     "metadata": {},
     "output_type": "execute_result"
    }
   ],
   "source": [
    "len(model_vocab.stoi), len(model_vocab.itos)"
   ]
  },
  {
   "cell_type": "code",
   "execution_count": 15,
   "metadata": {},
   "outputs": [],
   "source": [
    "config = dict(emb_sz=400, n_hid=1150, n_layers=3, pad_token=0, qrnn=False, output_p=0.25, \n",
    "                          hidden_p=0.1, input_p=0.2, embed_p=0.02, weight_p=0.15, tie_weights=True, out_bias=True)\n",
    "drop_mult = 0.25"
   ]
  },
  {
   "cell_type": "code",
   "execution_count": 16,
   "metadata": {},
   "outputs": [],
   "source": [
    "learn = get_model_LM(data, drop_mult, config)"
   ]
  },
  {
   "cell_type": "code",
   "execution_count": null,
   "metadata": {},
   "outputs": [],
   "source": [
    "learn.data.train_ds[0]"
   ]
  },
  {
   "cell_type": "code",
   "execution_count": 17,
   "metadata": {},
   "outputs": [
    {
     "data": {
      "text/plain": [
       "SequentialRNN(\n",
       "  (0): AWD_LSTM(\n",
       "    (encoder): Embedding(1025, 400, padding_idx=0)\n",
       "    (encoder_dp): EmbeddingDropout(\n",
       "      (emb): Embedding(1025, 400, padding_idx=0)\n",
       "    )\n",
       "    (rnns): ModuleList(\n",
       "      (0): WeightDropout(\n",
       "        (module): LSTM(400, 1150, batch_first=True)\n",
       "      )\n",
       "      (1): WeightDropout(\n",
       "        (module): LSTM(1150, 1150, batch_first=True)\n",
       "      )\n",
       "      (2): WeightDropout(\n",
       "        (module): LSTM(1150, 400, batch_first=True)\n",
       "      )\n",
       "    )\n",
       "    (input_dp): RNNDropout()\n",
       "    (hidden_dps): ModuleList(\n",
       "      (0): RNNDropout()\n",
       "      (1): RNNDropout()\n",
       "      (2): RNNDropout()\n",
       "    )\n",
       "  )\n",
       "  (1): LinearDecoder(\n",
       "    (decoder): Linear(in_features=400, out_features=1025, bias=True)\n",
       "    (output_dp): RNNDropout()\n",
       "  )\n",
       ")"
      ]
     },
     "execution_count": 17,
     "metadata": {},
     "output_type": "execute_result"
    }
   ],
   "source": [
    "learn.model"
   ]
  },
  {
   "cell_type": "code",
   "execution_count": 22,
   "metadata": {},
   "outputs": [
    {
     "data": {
      "text/html": [],
      "text/plain": [
       "<IPython.core.display.HTML object>"
      ]
     },
     "metadata": {},
     "output_type": "display_data"
    },
    {
     "name": "stdout",
     "output_type": "stream",
     "text": [
      "LR Finder is complete, type {learner_name}.recorder.plot() to see the graph.\n",
      "Min numerical gradient: 7.59E-03\n"
     ]
    },
    {
     "data": {
      "image/png": "[encoded data removed]",
      "text/plain": [
       "<Figure size 432x288 with 1 Axes>"
      ]
     },
     "metadata": {
      "needs_background": "light"
     },
     "output_type": "display_data"
    }
   ],
   "source": [
    "learn.lr_find()\n",
    "learn.recorder.plot()"
   ]
  },
  {
   "cell_type": "code",
   "execution_count": 23,
   "metadata": {},
   "outputs": [
    {
     "data": {
      "text/html": [
       "Total time: 1:02:21 <p><table style='width:300px; margin-bottom:10px'>\n",
       "  <tr>\n",
       "    <th>epoch</th>\n",
       "    <th>train_loss</th>\n",
       "    <th>valid_loss</th>\n",
       "    <th>accuracy</th>\n",
       "  </tr>\n",
       "  <tr>\n",
       "    <th>1</th>\n",
       "    <th>2.370264</th>\n",
       "    <th>2.372840</th>\n",
       "    <th>0.233079</th>\n",
       "  </tr>\n",
       "</table>\n"
      ],
      "text/plain": [
       "<IPython.core.display.HTML object>"
      ]
     },
     "metadata": {},
     "output_type": "display_data"
    }
   ],
   "source": [
    "learn.fit_one_cycle(1, 1e-2, moms=(0.8,0.7), pct_start=0.9)"
   ]
  },
  {
   "cell_type": "code",
   "execution_count": null,
   "metadata": {},
   "outputs": [],
   "source": []
  },
  {
   "cell_type": "markdown",
   "metadata": {},
   "source": [
    "# Part 2\n",
    "200,000-400,000"
   ]
  },
  {
   "cell_type": "code",
   "execution_count": 24,
   "metadata": {},
   "outputs": [],
   "source": [
    "data = GenomicTextLMDataBunch.from_df(path, df[200000:400000], df_valid, bs=400, tokenizer=tok, vocab=model_vocab,\n",
    "                              chunksize=20000, text_cols=0, label_cols=1)"
   ]
  },
  {
   "cell_type": "code",
   "execution_count": 25,
   "metadata": {},
   "outputs": [],
   "source": [
    "learn.data = data"
   ]
  },
  {
   "cell_type": "code",
   "execution_count": 26,
   "metadata": {},
   "outputs": [
    {
     "data": {
      "text/plain": [
       "(Text TTCAT CATAC TACCA CCATT ATTCA TCAAA AAAAT AATTC TTCAG CAGAA GAAGG AGGTA GTACC ACCAA CAAAG AAGAA GAATA ATATA ATACA ACAGT AGTGG TGGAA GAAAG AAGTC GTCTT CTTCC TCCTC CTCCT CCTAC TACTT CTTCT TCTGT TGTTC TTCCC CCCAA CAATC ATCAC CACTC CTCAA CAATT ATTAC TACCC CCCAC CACCC CCCCA CCAGA AGAGG AGGCA GCAAT AATCG TCGAT GATTT TTTCT TCTTA TTATG ATGTA GTATC ATCCT CCTTC TTCTA CTAGA AGAGA AGATG ATGTT GTTTT TTTAT TATCC TCCAT CATAA TAAAC AACAA CAAGT AGTAA TAAAT AATTA TTATA ATATA ATATA ATATA ATAAT AATGT TGTTA TTAAT AATAT TATAT TATAT TATAC TACAT CATCC TCCAA CAAAT AATAT TATAT TATGT TGTGT TGTGT TGTAT TATAT TATAT TATGA TGAAA AAATT ATTCT TCTTA TTACC ACCAT CATTT TTTCT TCTTT TTTTT TTTAT TATAT TATAA TAAAT AATGA TGATA ATAGC AGCAT CATAC TACTA CTATT ATTTA TTATA ATACC ACCGT CGTCC TCCTA CTATA ATACA ACATC ATCTT CTTGC TGCTT CTTTT TTTGT TGTCG TCGAA GAATT ATTCA TCAGT AGTCC TCCTT CTTTT TTTGA TGAAA AAAAG AAGAA GAAAT AATTT TTTAG TAGCA GCAAT AATAT TATAT TATAG TAGGT GGTAC TACAT CATAC TACAC CACAC CACAA CAAGT AGTAT TATAC TACAT CATTA TTATA ATATA ATATA ATAAT AATCA TCATA ATAAA AAAAA AAATG ATGCT GCTCG TCGAA GAATC ATCCT CCTGG TGGCC GCCAG CAGGC GGCGC CGCGG CGGTG GTGGC GGCTC CTCAA CAAGC AGCCT CCTGT TGTAA TAATC ATCCC CCCAG CAGCA GCACT ACTTT TTTGG TGGGA GGAGG AGGCT GCTGA TGAGG AGGTA GTAGG AGGGG GGGGA GGATC ATCAC CACCT CCTGA TGAGG AGGTC GTCCG CCGGG GGGAG GAGTT GTTCG TCGAG GAGAC GACCA CCAGC AGCCT CCTGA TGACC ACCAA CAACA ACATG ATGGA GGAGA AGAAA AAACC ACCCC CCCAT CATCT TCTCT TCTAC TACTA CTAAA AAAAA AAATA ATACA ACAAA AAAAT AATTA TTAGA AGACG ACGGG GGGTG GTGTG GTGGT GGTGG TGGCG GCGCA GCATG ATGCC GCCTA CTATA ATAAT AATCC TCCCA CCAGC AGCTA CTACT ACTCG TCGGA GGAAG AAGGC GGCTG CTGAG GAGGC GGCAG CAGGA GGAGA AGAGT AGTCG TCGCT GCTTG TTGAA GAACC ACCCG CCGGG GGGAG GAGGC GGCGG CGGAG GAGGT GGTTG TTGCG GCGGT GGTGA TGAGC AGCCG CCGAG GAGAT GATCG TCGCA GCACC ACCAT CATTA TTACA ACACT ACTCC TCCAG CAGCC GCCTG CTGGG GGGAA GAAAC AACAA CAAGA AGAGT AGTAA TAAAA AAATT ATTCT TCTGT TGTCT TCTCA TCAAA AAAAA AAAAA AAATA ATAAT AATAA TAATA ATAAT AATTA TTAGT AGTTG TTGGG GGGCG GCGTG GTGGT GGTGG TGGCA GCAGG AGGTG GTGCC GCCTG CTGTA GTAAT AATCC TCCCA CCAGC AGCTA CTACT ACTCG TCGGG GGGAT GATGC TGCTG CTGAG GAGAC GACAA CAAGA AGAGA AGAAC AACCT CCTCT TCTTG TTGAA GAACC ACCCG CCGGG GGGAG GAGGC GGCAG CAGAG GAGGT GGTTG TTGCA GCAGT AGTGA TGAGC AGCCG CCGAG GAGAT GATTG TTGCA GCACC ACCAA CAATG ATGCA GCACT ACTCC TCCAG CAGCC GCCTG CTGGG GGGTG GTGAC GACAA CAAGA AGAGC AGCAG CAGAA GAACT ACTCC TCCAT CATCT TCTCA TCAAA AAATT ATTTA TTAAA AAAAA AAAAA AAAGA AGAAA AAAAA AAAAG AAGAA GAAAA AAATA ATACT ACTAG TAGAA GAAAT AATGG TGGGA GGATT ATTAT TATGG TGGTG GTGAT GATCT TCTTT TTTGT TGTTC TTCTC CTCGC CGCTC CTCTT CTTCA TCACA ACAAC AACTG CTGCT GCTTG TTGTG GTGTT GTTGC TGCTT CTTCT TCTTT TTTGT TGTTT TTTCA TCATT ATTAA TAACA ACAGA AGATG ATGAT GATAA TAAAA AAAGA AGAGG AGGGG GGGGG GGGAG GAGCA GCACA ACATG ATGAA GAAAA AAACA ACATT ATTTC TTCAG CAGAG GAGAT GATTT TTTTG TTGTA GTATT ATTAA TAAGA AGAAA AAAAT AATTT TTTGG TGGCA GCAAC AACAA CAATT ATTGT TGTTC TTCTT CTTTT TTTTG TTGCC GCCAC CACAG CAGAG GAGGT GGTGT TGTCT TCTAT TATTC TTCTC CTCTA CTAAT AATAT TATCT TCTGA TGAAT AATTT TTTGA TGACC ACCTC CTCCA CCAGG AGGAC GACTA CTACA ACAAC AACCA CCACT ACTAA TAAAT AATAA TAAAA AAAAA AAACA ACACA ACAAA AAACA ACACA ACACA ACAAT AATAC TACAA CAAGC AGCGT CGTTC TTCTG CTGTA GTATG ATGGC GGCAT CATCT TCTAC TACTT CTTCA TCATA ATAGA AGAAT AATAC TACTA CTATG ATGCA GCAGC AGCCA CCATA ATAAA AAAAA AAAAG AAGAC GACTG CTGGA GGAAT AATCA TCATG ATGTC GTCCT CCTTT TTTGC TGCAA CAACA ACAAT AATGT TGTGG TGGAT GATGC TGCAG CAGCT GCTGG TGGAG GAGGC GGCCA CCATT ATTAT TATCC TCCTA CTAAG AAGCA GCAGA AGAAT AATTA TTAAT AATGC TGCAG CAGAA GAAAC AACAG CAGAA GAAAA AAATC ATCAA CAAAT AATAT TATCA TCACA ACATG ATGTT GTTCT TCTCT TCTTT TTTTA TTAAA AAAAG AAGTG GTGGG GGGAA GAATT ATTAA TAAAT AATAT TATTG TTGGG GGGTA GTATG ATGAG GAGGC GGCAG CAGGA GGAGA AGAAC AACAG CAGGG GGGTC GTCTG CTGGA GGAGG AGGCC GCCAT CATTT TTTCA TCACA ACACC ACCAA CAACT ACTTC TTCCT CCTAG TAGAA GAACT ACTAA TAAAT AATTG TTGAA GAAAG AAGGA GGAAA AAAAC AACCC CCCTA CTAAC AACTT CTTTC TTCCA CCACA ACACC ACCTA CTAAG AAGTA GTAAC AACAA CAAAA AAAGG AGGAC GACCT CCTGA TGAGG AGGCT GCTAC TACTC CTCCC CCCTT CTTCG TCGCA GCAAA AAACC ACCCC CCCCT CCTTT TTTTC TTCTC CTCCA CCACG ACGGC GGCAG CAGAT GATGG TGGGA GGAAA AAATT ATTGG TGGCT GCTGT TGTTC TTCGC CGCAA CAATC ATCAG CAGAC GACCG CCGAC GACTG CTGCA GCAGG AGGCA GCAGA AGACT ACTCT TCTTC TTCCT CCTTT TTTGC TGCAT CATAG TAGAA GAAAT AATAC TACAA CAACG ACGTT GTTGT TGTAA TAACT ACTTT TTTCC TCCCT CCTTA TTAGC AGCCT CCTCT TCTGA TGATT ATTGG TGGTT GTTGC TGCTT CTTTC TTCCG CCGCA GCAAC AACCA CCAAT AATCA TCAGA AGATG ATGTT GTTTG TTGTA GTACG ACGGG GGGAG GAGTG GTGTG GTGAC GACCT CCTTT TTTAT TATAA TAACT ACTTC TTCAC CACTT CTTCA TCAGC AGCCT CCTCT TCTGA TGATA ATAGG AGGTT GTTGC TGCTT CTTTC TTCCG CCGCA GCAAC AACCA CCAAT AATCA TCAGA AGACC ACCAA CAATT ATTGC TGCGG CGGGC GGCCA CCACC ACCAC CACTT CTTCA TCATT ATTTA TTACA ACATG ATGAG GAGGT GGTAA TAAGC AGCAC CACCA CCAAG AAGTG GTGGC GGCCA CCAAT AATGG TGGGG GGGAA GAACC ACCTC CTCTA CTAGG AGGAA GAAGT AGTAT TATTT TTTGG TGGAC GACGC CGCGA CGAGA AGAAG AAGTT GTTTC TTCTG CTGTA GTATC ATCCA CCAGG AGGCC GCCCT CCTTA TTAAT AATCC TCCGC CGCTG CTGCT GCTCA TCATT ATTGG TGGCT GCTCC TCCCA CCACA ACACT ACTGT TGTGG TGGAG GAGTG GTGTA GTACT ACTTT TTTCA TCATT ATTTT TTTCA TCAAT AATAA TAAAT AATTC TTCCT CCTGC TGCTT CTTTC TTCGT CGTTC TTCTT CTTTC TTCAT CATTG TTGCT GCTTC TTCAT CATTC TTCTT CTTTC TTCCT CCTTG TTGCT GCTTT TTTGC TGCTG CTGGG GGGCG GCGTT GTTTT TTTGT TGTCC TCCAA CAACT ACTCT TCTGT TGTTC TTCAA CAAAA AAATG ATGCC GCCAA CAAGA AGAAC AACCT CCTGT TGTAC TACAA CAACT ACTTG TTGCA GCAGT AGTCA TCAAG AAGAC GACCC CCCTC CTCTA CTACC ACCTG CTGTT GTTAC TACAG CAGGT GGTAC TACAC CACAT CATGG TGGAC GACAT CATAA TAAAG AAGAC GACAG CAGGA GGAAC AACAA CAATA ATAGA AGATA ATACT ACTGG TGGGG GGGAC GACTA CTATT ATTAG TAGAG GAGCG GCGGG GGGGA GGAGA AGAGA AGAGA AGAGA AGAAA AAAGG AGGGC GGCAA CAAGG AGGGG GGGTG GTGAA GAAAA AAAAA AAATT ATTCC TCCTG CTGTT GTTTG TTGGT GGTAC TACCA CCATG ATGTT GTTCA TCACT ACTAT TATCT TCTGG TGGAT GATGA TGACA ACAGG AGGAT GATCA TCAAC AACAG,\n",
       " EmptyLabel )"
      ]
     },
     "execution_count": 26,
     "metadata": {},
     "output_type": "execute_result"
    }
   ],
   "source": [
    "learn.data.train_ds[0]"
   ]
  },
  {
   "cell_type": "code",
   "execution_count": 27,
   "metadata": {},
   "outputs": [],
   "source": [
    "lr = 1e-2/1.35"
   ]
  },
  {
   "cell_type": "code",
   "execution_count": 28,
   "metadata": {},
   "outputs": [
    {
     "data": {
      "text/html": [
       "Total time: 1:02:11 <p><table style='width:300px; margin-bottom:10px'>\n",
       "  <tr>\n",
       "    <th>epoch</th>\n",
       "    <th>train_loss</th>\n",
       "    <th>valid_loss</th>\n",
       "    <th>accuracy</th>\n",
       "  </tr>\n",
       "  <tr>\n",
       "    <th>1</th>\n",
       "    <th>2.332373</th>\n",
       "    <th>2.310076</th>\n",
       "    <th>0.255104</th>\n",
       "  </tr>\n",
       "</table>\n"
      ],
      "text/plain": [
       "<IPython.core.display.HTML object>"
      ]
     },
     "metadata": {},
     "output_type": "display_data"
    }
   ],
   "source": [
    "learn.fit_one_cycle(1, lr, moms=(0.8,0.7), pct_start=0.9)"
   ]
  },
  {
   "cell_type": "code",
   "execution_count": 29,
   "metadata": {},
   "outputs": [],
   "source": [
    "learn.save('mammal_in_training')"
   ]
  },
  {
   "cell_type": "markdown",
   "metadata": {},
   "source": [
    "# Part 3\n",
    "\n",
    "400,000-700,000"
   ]
  },
  {
   "cell_type": "code",
   "execution_count": 30,
   "metadata": {},
   "outputs": [],
   "source": [
    "data = GenomicTextLMDataBunch.from_df(path, df[400000:700000], df_valid, bs=400, tokenizer=tok, vocab=model_vocab,\n",
    "                              chunksize=20000, text_cols=0, label_cols=1)"
   ]
  },
  {
   "cell_type": "code",
   "execution_count": 31,
   "metadata": {},
   "outputs": [],
   "source": [
    "learn.data = data"
   ]
  },
  {
   "cell_type": "code",
   "execution_count": 32,
   "metadata": {},
   "outputs": [
    {
     "data": {
      "text/plain": [
       "(Text AGAGA AGATA ATACT ACTAA TAATA ATATA ATATT ATTTT TTTTA TTAAT AATTG TTGTT GTTTT TTTAT TATAA TAAAT AATAA TAATC ATCTA CTACC ACCTT CTTTT TTTAT TATTT TTTTG TTGGG GGGGG GGGAG GAGGA GGAAA AAACA ACATC ATCCT CCTCA TCAAG AAGTG GTGTC GTCAG CAGGG GGGAG GAGTC GTCTC CTCAA CAAGC AGCTA CTAAG AAGAA GAAAA AAATA ATAGT AGTCT TCTTC TTCCA CCACC ACCCA CCAAC AACAT CATTT TTTCA TCAAA AAAGA AGAGG AGGCT GCTAC TACGA CGAGC AGCCA CCAAC AACTC CTCAT CATTT TTTTT TTTGG TGGGG GGGGA GGATA ATAGC AGCCA CCATA ATATT ATTCT TCTCA TCAGC AGCAG CAGGG GGGAA GAAAG AAGGG GGGGC GGCAA CAAGA AGACC ACCCT CCTTT TTTTC TTCCA CCAGG AGGTA GTAAG AAGAT GATTC TTCCT CCTCT TCTCT TCTTG TTGAG GAGAA GAACT ACTAA TAAGC AGCTT CTTCT TCTCT TCTTG TTGGC GGCCA CCACA ACAGG AGGTG GTGGG GGGTC GTCAG CAGTT GTTTA TTAGT AGTCA TCAGT AGTGA TGAGG AGGGT GGTCT TCTTA TTAGG AGGGC GGCTG CTGTA GTATT ATTTT TTTGT TGTTT TTTCC TCCTA CTACT ACTGT TGTTG TTGCT GCTGG TGGGT GGTTA TTAGT AGTAT TATGG TGGCT GCTAC TACCT CCTGC TGCCC CCCTA CTAGG AGGTC GTCCA CCAAC AACCT CCTGT TGTCC TCCCG CCGTG GTGGC GGCCA CCAAG AAGGA GGAAA AAATT ATTAG TAGAA GAATT ATTAA TAAAG AAGGA GGATT ATTTT TTTTA TTAGC AGCCA CCAAT AATTA TTAAA AAATG ATGTT GTTCT TCTAA TAAGT AGTCA TCAGA AGATA ATACG ACGAA GAATG ATGAA GAAAG AAGTG GTGGC GGCAA CAAAA AAACC ACCCT CCTTT TTTTA TTAAG AAGCA GCAAC AACAT CATGA TGAAA AAAGC AGCTG CTGAA GAAAA AAACT ACTAA TAAAA AAAGC AGCCC CCCAA CAAAA AAAGT AGTAA TAAGG AGGTT GTTAC TACAG CAGAA GAATT ATTGC TGCTT CTTCT TCTGA TGACT ACTCC TCCAA CAAGA AGAAG AAGTT GTTTC TTCCT CCTTT TTTGC TGCCA CCATT ATTTA TTAAG AAGAG GAGGC GGCCA CCACA ACAAT AATCT TCTGG TGGCC GCCTG CTGGT GGTCT TCTCT TCTCA TCAAG AAGCT GCTAA TAAGC AGCTG CTGTA GTATC ATCTT CTTCA TCAAC AACGT CGTTG TTGGC GGCCT CCTAG TAGAA GAATG ATGGT GGTAA TAAGC AGCCC CCCTT CTTTC TTCTA CTAAG AAGGT GGTCT TCTAC TACAT CATAA TAAGG AGGGT GGTAC TACAT CATAT TATAA TAACC ACCAC CACCA CCAGA AGAAA AAAAC AACAA CAACA ACAAC AACAA CAATA ATAAC AACTA CTAGT AGTGT TGTTA TTATT ATTTC TTCTC CTCAA CAAAG AAGTT GTTGG TGGCC GCCCT CCTTA TTACA ACAAT AATCT TCTTA TTACA ACACG ACGCC GCCCA CCACC ACCTC CTCTT CTTTC TTCAT CATGA TGATA ATAGT AGTCC TCCCT CCTGG TGGAC GACCT CCTAG TAGAG GAGGG GGGAT GATTG TTGAG GAGTG GTGGT GGTTT TTTTA TTAAT AATTT TTTCT TCTGG TGGCC GCCCT CCTGT TGTGT TGTCT TCTCA TCACA ACAAA AAAAG AAGCA GCAGT AGTTC TTCAT CATTT TTTTG TTGAT GATTG TTGTC GTCAC CACCT CCTTC TTCTC CTCCC CCCTG CTGTT GTTCT TCTGA TGAAC AACAA CAAGA AGAGG AGGAT GATCT TCTAA TAACT ACTGT TGTTG TTGTC GTCAA CAATG ATGTT GTTTA TTAAG AAGAT GATAT TATAG TAGCA GCAGA AGAAG AAGTC GTCAG CAGGA GGACC ACCTT CTTTT TTTTC TTCAG CAGAC GACCC CCCAG CAGGA GGAAT AATCA TCAAA AAAGC AGCCC CCCTG CTGTA GTAAC AACTT CTTAA TAACA ACAGC AGCAT CATAA TAAGG AGGGT GGTTA TTAGT AGTTA TTAAT AATAG TAGGA GGACA ACACG ACGTA GTATT ATTAG TAGAG GAGAT GATGT TGTTC TTCGA CGAAG AAGCA GCATC ATCAA CAAAA AAACA ACATT ATTTG TTGAT GATCA TCAAA AAAAC AACAA CAAAA AAATC ATCAC CACAC CACAT CATCA TCATT ATTGT TGTAA TAAAA AAATA ATAAT AATAG TAGTT GTTAT TATTC TTCAT CATTT TTTAA TAACC ACCAA CAAAG AAGTG GTGAT GATCC TCCTC CTCGA CGAAA AAAGA AGACT ACTTT TTTAA TAAAA AAAGC AGCAA CAATA ATATA ATAGA AGAAA AAATA ATAAA AAAAT AATTA TTAAA AAAAT AATAA TAAAG AAGGA GGAGG AGGAC GACTC CTCTA CTACT ACTTA TTATT ATTAT TATAT TATGC TGCAG CAGAT GATAG TAGAC GACCA CCACT ACTGT TGTGC TGCTG CTGTG GTGAA GAAAT AATAA TAAGT AGTTT TTTCT TCTAT TATTT TTTAC TACAA CAATA ATATA ATAAA AAATG ATGAT GATCA TCAAG AAGTA GTATA ATAGT AGTGT TGTAT TATGC TGCAT CATTT TTTAT TATGC TGCTA CTAAG AAGAA GAACA ACAGA AGAAG AAGCC GCCAA CAATG ATGTT GTTTA TTAAT AATGA TGAAA AAATG ATGCT GCTTA TTAGA AGAAA AAACA ACATA ATAAA AAAGA AGAAG AAGAA GAACA ACATT ATTTG TTGGA GGAAA AAATT ATTAG TAGTG GTGGT GGTCT TCTGG TGGTA GTATA ATACT ACTAA TAATA ATACT ACTGA TGAGG AGGAA GAAAG AAGTC GTCCT CCTCT TCTCA TCATT ATTTC TTCAG CAGCT GCTAG TAGCA GCATA ATATT ATTAC TACAA CAAAT AATGA TGACA ACAAC AACAC CACTA CTATG ATGAT GATTT TTTGC TGCTA CTATC ATCTA CTAGT AGTAG TAGTT GTTAC TACTG CTGCC GCCTG CTGTA GTAGC AGCAC CACTT CTTGA TGAAA AAACC ACCAT CATTG TTGCA GCATT ATTAA TAAAG AAGTA GTAGC AGCTA CTAGG AGGTT GTTAC TACTT CTTCT TCTGG TGGCA GCATA ATATA ATATC ATCTC CTCAT CATAA TAACT ACTAG TAGCA GCATT ATTGT TGTAG TAGTG GTGAC GACAG CAGAA GAATT ATTGT TGTAA TAACT ACTAC TACAG CAGCC GCCAT CATAC TACAA CAAAA AAATA ATATC ATCAT CATCT TCTTC TTCCT CCTAT TATGT TGTCA TCAAA AAACT ACTTA TTATC ATCAA CAAAG AAGAC GACAA CAATT ATTAA TAACT ACTTC TTCTC CTCTC CTCCA CCATT ATTAT TATGT TGTAA TAAAA AAATT ATTGG TGGTA GTAAA AAATG ATGCA GCAAA AAATA ATATT ATTAG TAGTT GTTTT TTTGA TGAAA AAAAT AATTC TTCAA CAATT ATTTG TTGAG GAGGA GGATA ATAAA AAATA ATAAT AATCT TCTCC TCCTT CTTTC TTCAC CACTA CTAAA AAAAT AATAC TACTG CTGTA GTACA ACAAC AACAA CAAAG AAGCA GCAGG AGGGA GGACA ACAAA AAAGT AGTAA TAAAA AAACC ACCAG CAGGC GGCAT CATTC TTCAA CAATA ATAAT AATTG TTGAT GATTT TTTTC TTCAT CATCC TCCAT CATTT TTTAA TAAAA AAAGA AGAGT AGTAT TATCA TCATC ATCAC CACAC CACAT CATTT TTTTC TTCAA CAAGA AGATT ATTGG TGGTT GTTTC TTCAA CAAGA AGATA ATACA ACAAT AATAC TACTG CTGCC GCCAA CAACT ACTAA TAATT ATTAG TAGAT GATAA TAACT ACTGA TGATA ATAAC AACTT CTTTC TTCGC CGCCA CCACT ACTAG TAGAC GACTT CTTTT TTTCA TCAAG AAGCC GCCAG CAGTG GTGCA GCAAC AACAC CACTT CTTGT TGTAC TACAT CATAT TATTT TTTTG TTGTT GTTTT TTTCA TCATG ATGTG GTGTA GTACA ACACA ACACA ACATG ATGAA GAAGT AGTCC TCCCA CCAAC AACAA CAAAA AAAAT AATAA TAAAA AAAGC AGCCT CCTTA TTAAA AAATT ATTAA TAAGA AGAAA AAAAA AAAAA AAACA ACACC ACCAG CAGAA GAAAG AAGTA GTATC ATCAC CACTG CTGTT GTTTT TTTTA TTATT ATTAC TACTG CTGCT GCTTA TTAAT AATCC TCCAA CAAGT AGTGA TGAAT AATGT TGTCA TCACT ACTTA TTAAT AATTT TTTTA TTAAT AATAA TAATG ATGGA GGAAA AAAAC AACAC CACAA CAACC ACCTA CTAAG AAGTA GTAGT AGTTT TTTGA TGAGA AGAGA AGAAA AAACC ACCCT CCTAG TAGTC GTCAA CAACA ACATA ATACT ACTTG TTGTC GTCTT CTTCA TCAGG AGGAC GACAA CAAGG AGGCC GCCAA CAATC ATCTG CTGTC GTCCT CCTGA TGAAC AACAT CATTA TTAAA AAAAC AACTT CTTTG TTGTA GTACC ACCCA CCATA ATATC ATCAC CACAG CAGCT GCTTT TTTTC TTCTT CTTCA TCATT ATTAC TACCT CCTAA TAAAG AAGGA GGAAA AAAAG AAGAT GATCT TCTGA TGAAA AAACA ACAAA AAACT ACTAT TATAT TATTA TTATC ATCAA CAATT ATTTC TTCAT CATTG TTGAA GAATT ATTAC TACTG CTGTA GTAGA AGAAA AAATA,\n",
       " EmptyLabel )"
      ]
     },
     "execution_count": 32,
     "metadata": {},
     "output_type": "execute_result"
    }
   ],
   "source": [
    "learn.data.train_ds[0]"
   ]
  },
  {
   "cell_type": "code",
   "execution_count": 33,
   "metadata": {},
   "outputs": [],
   "source": [
    "lr = 1e-2/1.35**2"
   ]
  },
  {
   "cell_type": "code",
   "execution_count": 34,
   "metadata": {},
   "outputs": [
    {
     "data": {
      "text/html": [
       "Total time: 1:31:18 <p><table style='width:300px; margin-bottom:10px'>\n",
       "  <tr>\n",
       "    <th>epoch</th>\n",
       "    <th>train_loss</th>\n",
       "    <th>valid_loss</th>\n",
       "    <th>accuracy</th>\n",
       "  </tr>\n",
       "  <tr>\n",
       "    <th>1</th>\n",
       "    <th>2.263601</th>\n",
       "    <th>2.244481</th>\n",
       "    <th>0.279138</th>\n",
       "  </tr>\n",
       "</table>\n"
      ],
      "text/plain": [
       "<IPython.core.display.HTML object>"
      ]
     },
     "metadata": {},
     "output_type": "display_data"
    }
   ],
   "source": [
    "learn.fit_one_cycle(1, lr, moms=(0.8,0.7), pct_start=0.9)"
   ]
  },
  {
   "cell_type": "code",
   "execution_count": 35,
   "metadata": {},
   "outputs": [],
   "source": [
    "learn.save('mammal_in_training')"
   ]
  },
  {
   "cell_type": "code",
   "execution_count": null,
   "metadata": {},
   "outputs": [],
   "source": []
  },
  {
   "cell_type": "markdown",
   "metadata": {},
   "source": [
    "# Part 4\n",
    "\n",
    "700,000 - 1,000,000"
   ]
  },
  {
   "cell_type": "code",
   "execution_count": 36,
   "metadata": {},
   "outputs": [],
   "source": [
    "data = GenomicTextLMDataBunch.from_df(path, df[700000:], df_valid, bs=400, tokenizer=tok, vocab=model_vocab,\n",
    "                              chunksize=20000, text_cols=0, label_cols=1)"
   ]
  },
  {
   "cell_type": "code",
   "execution_count": 37,
   "metadata": {},
   "outputs": [],
   "source": [
    "learn.data = data"
   ]
  },
  {
   "cell_type": "code",
   "execution_count": 38,
   "metadata": {},
   "outputs": [
    {
     "data": {
      "text/plain": [
       "(Text GGCTA CTAAA AAATT ATTGC TGCAA CAAGT AGTCC TCCAA CAATC ATCTA CTATT ATTTT TTTTC TTCTG CTGAT GATCT TCTTA TTATG ATGTG GTGTT GTTCA TCACC ACCTG CTGAA GAAAG AAGCA GCAAA AAAAT AATAA TAATG ATGAG GAGTT GTTCA TCAGA AGATA ATATT ATTCT TCTTG TTGCA GCATG ATGGA GGAAA AAACA ACATA ATACT ACTCA TCATT ATTGT TGTGA TGATC ATCAG CAGAA GAATG ATGAA GAAGG AGGAA GAAGT AGTTA TTATT ATTGC TGCTA CTAAT AATGC TGCAC CACTT CTTAC TACAA CAAAT AATAT TATGT TGTTT TTTAT TATCC TCCCT CCTGC TGCGA CGAGC AGCTA CTAAT AATGT TGTGT TGTCT TCTCA TCAAT AATTC TTCCT CCTGA TGAAA AAAGT AGTCA TCATT ATTAT TATTA TTACC ACCTT CTTGC TGCTC CTCCT CCTTT TTTCT TCTAG TAGTA GTATT ATTTT TTTAA TAAAA AAAGA AGATG ATGAA GAAAA AAAAG AAGTG GTGAT GATAA TAAAT AATTT TTTCA TCAAA AAAAT AATAA TAATA ATAAA AAAAC AACAT CATCA TCATT ATTAT TATTT TTTTT TTTGA TGACA ACATT ATTGA TGAGG AGGAT GATGT TGTCA TCATT ATTTT TTTGT TGTAA TAAAT AATTA TTAAC AACCT CCTAT TATGA TGACA ACATT ATTTT TTTTA TTACT ACTTT TTTTT TTTGG TGGTT GTTAA TAATC ATCCT CCTTC TTCAG CAGAT GATTT TTTAC TACTC CTCTT CTTCA TCATT ATTGC TGCTT CTTTT TTTAA TAACT ACTAT TATGA TGAAT AATTA TTAAA AAAGT AGTAA TAATG ATGAG GAGTT GTTGA TGAAT AATTA TTAGG AGGTA GTAAA AAATG ATGTC GTCTA CTAAC AACAT CATAA TAATT ATTAC TACCA CCATG ATGTC GTCCT CCTCA TCAGT AGTAA TAAAA AAAGA AGATG ATGAT GATTG TTGTT GTTAA TAATG ATGTG GTGTC GTCTG CTGAT GATGA TGATG ATGGC GGCTG CTGGT GGTTG TTGAC GACTA CTAGA AGAAA AAATT ATTAT TATCT TCTTC TTCAG CAGTT GTTCC TCCAC CACAT CATTT TTTTC TTCAA CAAAA AAATG ATGAA GAATG ATGCA GCACC ACCGT CGTGG TGGGT GGTGG TGGAA GAATG ATGGA GGAAA AAAAT AATAA TAATA ATAAT AATTT TTTAA TAAGG AGGCA GCACA ACATT ATTAA TAACC ACCAT CATTA TTAAT AATAT TATAG TAGAT GATCT TCTAG TAGGG GGGTG GTGAC GACCA CCAAT AATTG TTGCC GCCCC CCCTG CTGTT GTTTG TTGCC GCCCA CCAGG AGGAC GACAG CAGGG GGGAA GAACT ACTTT TTTGG TGGGT GGTTT TTTTA TTAAA AAAAC AACTG CTGAT GATAC TACCA CCAAG AAGGG GGGGT GGTAC TACCT CCTGG TGGGA GGATG ATGCT GCTGA TGAAT AATGT TGTTC TTCAG CAGTG GTGCT GCTAA TAAAA AAACC ACCAG CAGGA GGAAA AAAGT AGTCC TCCAG CAGGC GGCAA CAAGT AGTGC TGCTG CTGAG GAGTG GTGGA GGATC ATCAG CAGGC GGCTA CTACA ACATA ATAGA AGATT ATTAC TACTG CTGCA GCACA ACAAT AATTA TTAAT AATTA TTATA ATAGT AGTAA TAAAT AATTG TTGAT GATTC TTCTG CTGTA GTATG ATGCA GCAAC AACTT CTTAA TAAAT AATAA TAAAC AACCC CCCAG CAGTT GTTTA TTATT ATTGA TGAGG AGGCA GCATG ATGAT GATCC TCCAG CAGTT GTTTG TTGCC GCCCG CCGTG GTGTG GTGAG GAGAA GAACC ACCTG CTGAT GATTT TTTCT TCTGT TGTGA TGAAC AACAT CATGG TGGAG GAGAT GATTT TTTAG TAGCC GCCAT CATAG TAGGT GGTGG TGGCT GCTGA TGAAG AAGGA GGAGA AGAGA AGACA ACATA ATAAT AATAT TATAG TAGAT GATGA TGATG ATGAT GATGT TGTTA TTAAT AATGA TGATA ATAGC AGCAA CAATG ATGGT GGTAA TAACC ACCAT CATTT TTTAT TATTG TTGAT GATGA TGACA ACAGG AGGAC GACTG CTGGA GGACT ACTTT TTTTT TTTTA TTAAG AAGAC GACTT CTTAG TAGCC GCCAA CAAAG AAGAT GATAA TAACA ACATT ATTCT TCTCT TCTGA TGAAA AAATC ATCTT CTTTC TTCTT CTTGA TGATA ATATC ATCCT CCTTA TTACC ACCCT CCTAC TACCC CCCAG CAGAA GAATT ATTTT TTTCT TCTGA TGATT ATTCT TCTTC TTCCT CCTTT TTTTT TTTAC TACTC CTCCC CCCAA CAATG ATGTA GTAAC AACCT CCTGT TGTGC TGCCG CCGAA GAAGT AGTTT TTTAT TATTA TTATA ATAAT AATGC TGCCC CCCTT CTTAA TAAAC AACTT CTTCC TCCTT CTTAT TATTT TTTGT TGTTT TTTAT TATTT TTTGT TGTCT TCTTC TTCCT CCTCT TCTGC TGCTA CTAGA AGAAT AATAT TATAA TAAGC AGCTT CTTCT TCTTT TTTAG TAGGA GGAGG AGGAT GATAG TAGAG GAGGC GGCAT CATTA TTATG ATGTT GTTAT TATTT TTTAT TATCT TCTTT TTTGT TGTAC TACCC CCCCA CCAAG AAGCA GCATC ATCCA CCAGT AGTAT TATAT TATTT TTTAG TAGTG GTGAA GAATG ATGAA GAATG ATGAA GAATG ATGAC GACCT CCTAG TAGGT GGTAT TATTT TTTTT TTTTT TTTTT TTTAC TACTC CTCTT CTTCA TCAAA AAAGT AGTAA TAATA ATACA ACAAT AATAA TAAAA AAATA ATACA ACATG ATGAT GATAC TACCA CCATC ATCCT CCTGT TGTTT TTTTA TTACT ACTGA TGATG ATGAG GAGAA GAAAC AACAA CAAGT AGTAT TATCT TCTAA TAAGA AGATG ATGTT GTTCT TCTGT TGTAA TAACA ACAAG AAGCA GCATA ATAAG AAGAA GAATA ATACG ACGTT GTTAA TAATA ATAAA AAATT ATTAT TATGA TGAAG AAGCC GCCAA CAAAG AAGAT GATGG TGGAA GAAAA AAATC ATCAG CAGAT GATCT TCTGT TGTCT TCTGA TGATT ATTGC TGCAA CAAAG AAGCC GCCAG CAGTT GTTCT TCTCT TCTTT TTTCC TCCAT CATTA TTACT ACTCT TCTGT TGTAT TATTA TTAAA AAATA ATAAT AATGC TGCTG CTGGC GGCCA CCAAA AAACA ACATA ATAGT AGTGA TGACT ACTTG TTGGA GGAGG AGGAC GACCC CCCTC CTCTC CTCCT CCTTT TTTCA TCAGT AGTAA TAAGA AGAGA AGAGT AGTAG TAGGA GGAAT AATCA TCAGA AGATA ATATA ATACA ACAAA AAATG ATGAA GAAGA AGACT ACTAT TATGT TGTCA TCAGT AGTCT TCTTA TTATT ATTAT TATGG TGGAT GATAC TACTG CTGAT GATGA TGAAA AAAGT AGTTT TTTTC TTCTG CTGGT GGTAA TAATC ATCTG CTGCA GCAAA AAAAT AATAG TAGAT GATTT TTTTA TTATA ATAGA AGATA ATAAT AATTG TTGCT GCTGT TGTGG TGGAA GAAAA AAAGA AGAAG AAGTG GTGAC GACTA CTAAA AAATG ATGTA GTAAA AAAAT AATAT TATAA TAATC ATCTC CTCTG CTGCT GCTGG TGGTA GTATG ATGTT GTTTA TTAGA AGACC ACCAG CAGGA GGAAA AAATC ATCAA CAAAA AAATG ATGCA GCATG ATGAC GACCT CCTAG TAGTC GTCAG CAGAC GACAA CAAAG AAGCA GCAAA AAAAG AAGGT GGTTC TTCTT CTTTA TTACG ACGTG GTGTT GTTCT TCTTC TTCTT CTTGT TGTAT TATCA TCATC ATCAG CAGTG GTGAG GAGCC GCCTT CTTTT TTTTC TTCAT CATTT TTTAA TAAGT AGTAC TACAA CAATG ATGAA GAAGT AGTGT TGTCT TCTCT TCTGC TGCCT CCTTA TTAAG AAGAA GAAAT AATTC TTCTT CTTCA TCAGA AGAGG AGGCA GCAGA AGAAA AAATT ATTCA TCATT ATTAT TATTC TTCTT CTTTA TTATT ATTAA TAACT ACTCA TCACT ACTGT TGTGC TGCCC CCCTT CTTCT TCTCC TCCTT CTTCT TCTTC TTCTG CTGCA GCACC ACCTT CTTTT TTTCC TCCTG CTGTG GTGTA GTATT ATTGT TGTCT TCTCC TCCCA CCATT ATTTT TTTAA TAAAA AAATG ATGTA GTATT ATTAA TAACT ACTGA TGAGA AGAAC AACTA CTAAA AAAGA AGATA ATAGC AGCAA CAAAG AAGTG GTGTT GTTGT TGTCA TCAAT AATAT TATTA TTATA ATAAA AAAGT AGTAT TATAG TAGTA GTAAG AAGAC GACAG CAGCA GCATA ATAGA AGAAC AACTA CTACA ACATG ATGGA GGAGA AGAAT AATAT TATAT TATTG TTGAT GATAA TAACA ACAGC AGCAT CATCT TCTTT TTTTA TTACA ACACA ACAGT AGTGA TGATG ATGAA GAATT ATTAA TAATA ATAAT AATTA TTAAA AAACC ACCAA CAAAC AACAA CAAAA AAACC ACCAA CAAAC AACAA CAACA ACAAA AAAAC AACAG CAGTT GTTTT TTTAC TACAG CAGCT GCTAC TACTT CTTGG TGGGA GGAAA AAATA ATATC ATCTG CTGTA GTAAA AAACA ACAAA AAAGT AGTTT TTTCA TCATA ATAAT AATAA TAATT ATTAA TAACT ACTCT TCTTG TTGGA GGAAT AATAT TATCG TCGTC GTCAC CACTT CTTGT TGTAC TACAA CAAAT AATGC TGCTG CTGCA GCAAT,\n",
       " EmptyLabel )"
      ]
     },
     "execution_count": 38,
     "metadata": {},
     "output_type": "execute_result"
    }
   ],
   "source": [
    "learn.data.train_ds[0]"
   ]
  },
  {
   "cell_type": "code",
   "execution_count": 39,
   "metadata": {},
   "outputs": [],
   "source": [
    "lr = 1e-2/1.35**3"
   ]
  },
  {
   "cell_type": "code",
   "execution_count": 40,
   "metadata": {},
   "outputs": [
    {
     "data": {
      "text/html": [
       "Total time: 1:31:34 <p><table style='width:300px; margin-bottom:10px'>\n",
       "  <tr>\n",
       "    <th>epoch</th>\n",
       "    <th>train_loss</th>\n",
       "    <th>valid_loss</th>\n",
       "    <th>accuracy</th>\n",
       "  </tr>\n",
       "  <tr>\n",
       "    <th>1</th>\n",
       "    <th>2.244592</th>\n",
       "    <th>2.207216</th>\n",
       "    <th>0.293235</th>\n",
       "  </tr>\n",
       "</table>\n"
      ],
      "text/plain": [
       "<IPython.core.display.HTML object>"
      ]
     },
     "metadata": {},
     "output_type": "display_data"
    }
   ],
   "source": [
    "learn.fit_one_cycle(1, lr, moms=(0.8,0.7), pct_start=0.9)"
   ]
  },
  {
   "cell_type": "code",
   "execution_count": 41,
   "metadata": {},
   "outputs": [],
   "source": [
    "learn.save('mammal_in_training')"
   ]
  },
  {
   "cell_type": "code",
   "execution_count": null,
   "metadata": {},
   "outputs": [],
   "source": []
  },
  {
   "cell_type": "markdown",
   "metadata": {},
   "source": [
    "# Part 5\n",
    "\n",
    "df 1,000,000 - 2,000,000\n",
    "\n",
    "0-200,000"
   ]
  },
  {
   "cell_type": "code",
   "execution_count": 18,
   "metadata": {},
   "outputs": [],
   "source": [
    "df = next(df_iter)"
   ]
  },
  {
   "cell_type": "code",
   "execution_count": 19,
   "metadata": {},
   "outputs": [
    {
     "data": {
      "text/html": [
       "<div>\n",
       "<style scoped>\n",
       "    .dataframe tbody tr th:only-of-type {\n",
       "        vertical-align: middle;\n",
       "    }\n",
       "\n",
       "    .dataframe tbody tr th {\n",
       "        vertical-align: top;\n",
       "    }\n",
       "\n",
       "    .dataframe thead th {\n",
       "        text-align: right;\n",
       "    }\n",
       "</style>\n",
       "<table border=\"1\" class=\"dataframe\">\n",
       "  <thead>\n",
       "    <tr style=\"text-align: right;\">\n",
       "      <th></th>\n",
       "      <th>Sequence</th>\n",
       "      <th>Source</th>\n",
       "      <th>set</th>\n",
       "    </tr>\n",
       "  </thead>\n",
       "  <tbody>\n",
       "    <tr>\n",
       "      <th>1000000</th>\n",
       "      <td>CATTGTTTTCATTCTCCATGACCGCTGTGGGTCACTTTCTATTATT...</td>\n",
       "      <td>NCBI Human</td>\n",
       "      <td>train</td>\n",
       "    </tr>\n",
       "    <tr>\n",
       "      <th>1000001</th>\n",
       "      <td>CACTTCAAAATGAAAAAATAATTATTGGAACTACATTGGGGGAACT...</td>\n",
       "      <td>NCBI Human</td>\n",
       "      <td>train</td>\n",
       "    </tr>\n",
       "    <tr>\n",
       "      <th>1000002</th>\n",
       "      <td>CAGTACAGCAGAATTCAAGGTCAGGGTAATTGCTTTCAGACAATAC...</td>\n",
       "      <td>NCBI Human</td>\n",
       "      <td>train</td>\n",
       "    </tr>\n",
       "    <tr>\n",
       "      <th>1000003</th>\n",
       "      <td>GATGGGGAAGAGTCAAGAACAGACAGCAGACGAGAAAAATAAATGA...</td>\n",
       "      <td>NCBI Human</td>\n",
       "      <td>train</td>\n",
       "    </tr>\n",
       "    <tr>\n",
       "      <th>1000004</th>\n",
       "      <td>AAGTAAATTGAAAACCTAGACAAGATTTTCCATTCTAGATGCCATT...</td>\n",
       "      <td>NCBI Human</td>\n",
       "      <td>train</td>\n",
       "    </tr>\n",
       "  </tbody>\n",
       "</table>\n",
       "</div>"
      ],
      "text/plain": [
       "                                                  Sequence      Source    set\n",
       "1000000  CATTGTTTTCATTCTCCATGACCGCTGTGGGTCACTTTCTATTATT...  NCBI Human  train\n",
       "1000001  CACTTCAAAATGAAAAAATAATTATTGGAACTACATTGGGGGAACT...  NCBI Human  train\n",
       "1000002  CAGTACAGCAGAATTCAAGGTCAGGGTAATTGCTTTCAGACAATAC...  NCBI Human  train\n",
       "1000003  GATGGGGAAGAGTCAAGAACAGACAGCAGACGAGAAAAATAAATGA...  NCBI Human  train\n",
       "1000004  AAGTAAATTGAAAACCTAGACAAGATTTTCCATTCTAGATGCCATT...  NCBI Human  train"
      ]
     },
     "execution_count": 19,
     "metadata": {},
     "output_type": "execute_result"
    }
   ],
   "source": [
    "df.head()"
   ]
  },
  {
   "cell_type": "code",
   "execution_count": 19,
   "metadata": {},
   "outputs": [],
   "source": [
    "data = GenomicTextLMDataBunch.from_df(path, df[:200000], df_valid, bs=400, tokenizer=tok, vocab=model_vocab,\n",
    "                              chunksize=20000, text_cols=0, label_cols=1)"
   ]
  },
  {
   "cell_type": "code",
   "execution_count": 20,
   "metadata": {},
   "outputs": [],
   "source": [
    "learn.data = data"
   ]
  },
  {
   "cell_type": "code",
   "execution_count": 46,
   "metadata": {},
   "outputs": [
    {
     "data": {
      "text/plain": [
       "(Text CATTG TTGTT GTTTT TTTCA TCATT ATTCT TCTCC TCCAT CATGA TGACC ACCGC CGCTG CTGTG GTGGG GGGTC GTCAC CACTT CTTTC TTCTA CTATT ATTAT TATTT TTTGG TGGCC GCCTT CTTCA TCATC ATCCA CCAAA AAACT ACTCT TCTGA TGATG ATGCT GCTCA TCATC ATCTG CTGAA GAAGT AGTTT TTTAC TACAC CACTA CTATT ATTCT TCTAT TATTA TTATA ATAAC AACAT CATTC TTCTT CTTTT TTTTG TTGTA GTAAT AATTT TTTTA TTATT ATTGT TGTTA TTATC ATCAT CATAT TATGT TGTGG TGGAC GACCT CCTCC TCCAG CAGTC GTCAT CATAT TATCT TCTCT TCTAC TACAT CATTT TTTCT TCTTG TTGAG GAGGG GGGTT GTTTC TTCAG CAGTA GTATT ATTTG TTGAT GATTC TTCCT CCTAA TAATA ATATC ATCTA CTACC ACCCC CCCAC CACCT CCTCA TCATC ATCCC CCCCT CCTAG TAGTA GTAAA AAAAT AATGC TGCAG CAGCA GCACT ACTAC TACAG CAGCA GCATA ATAGT AGTGT TGTTT TTTAA TAAGA AGAGC AGCAC CACAA CAAGT AGTTA TTAGA AGACA ACAAC AACTC CTCAA CAAGG AGGTC GTCAA CAAGT AGTAC TACCA CCAAA AAATC ATCTA CTACC ACCCC CCCTC CTCAT CATTA TTAAC AACAT CATGT TGTAA TAACC ACCTT CTTGG TGGGA GGAGG AGGCC GCCAG CAGCT GCTAA TAATG ATGTT GTTTC TTCAA CAATG ATGCC GCCTC CTCAG CAGTT GTTTC TTCCT CCTTA TTATC ATCTC CTCTA CTAAA AAAAT AATGA TGAGA AGAAT AATAA TAATG ATGAT GATAT TATTA TTAAT AATAC TACCT CCTCA TCACA ACAGC AGCAT CATTG TTGTA GTAAG AAGAA GAATC ATCAT CATAT TATGG TGGAA GAATA ATAAT AATGC TGCAT CATAT TATAA TAAAG AAGCA GCACT ACTTA TTAGA AGAAC AACAG CAGTA GTATC ATCTG CTGCC GCCAC CACAT CATAA TAATA ATAAA AAATG ATGCT GCTCA TCAAT AATAA TAAAT AATTT TTTAC TACTA CTATT ATTTT TTTCA TCATT ATTAC TACTG CTGCA GCACT ACTAT TATTA TTACC ACCTT CTTAA TAAAA AAAGT AGTCT TCTTC TTCCT CCTTC TTCTG CTGTA GTATG ATGTT GTTTA TTATG ATGAT GATTC TTCAT CATTA TTAAC AACAC CACCC CCCTA CTAGC AGCCT CCTCA TCAGT AGTAC TACTG CTGCT GCTCA TCAAA AAAAA AAATC ATCCA CCATT ATTTT TTTTT TTTTC TTCAC CACTT CTTGT TGTAC TACAA CAAAA AAATT ATTCC TCCCT CCTAG TAGAC GACTA CTATT ATTAC TACGT CGTAT TATAA TAATG ATGGC GGCTT CTTTT TTTCT TCTGA TGAAT AATTT TTTTA TTATT ATTTA TTACT ACTTA TTATT ATTTA TTATT ATTTA TTAGA AGAGA AGACA ACAGG AGGGT GGTAT TATCA TCACT ACTGT TGTGT TGTCA TCACC ACCCA CCAGG AGGCT GCTGC TGCAG CAGTG GTGCA GCAGT AGTGG TGGTG GTGTG GTGAC GACCA CCACG ACGGT GGTTT TTTAC TACTG CTGTA GTAGC AGCCT CCTTG TTGAC GACCT CCTCC TCCCA CCAAA AAACT ACTCA TCAGG AGGCA GCAAT AATCC TCCTC CTCCC CCCAC CACCT CCTCA TCAGC AGCCT CCTCC TCCTG CTGAA GAATA ATAGC AGCTG CTGGG GGGAC GACTA CTACA ACAGG AGGCA GCATG ATGGG GGGCC GCCAT CATCA TCACG ACGTC GTCCA CCAGC AGCTA CTAAT AATTT TTTTT TTTTA TTAAT AATTG TTGTT GTTTG TTGTA GTAGC AGCAA CAATG ATGGG GGGGT GGTTT TTTCA TCACC ACCAG CAGGT GGTTG TTGCC GCCCA CCAGG AGGCT GCTAG TAGTT GTTTT TTTGA TGAAC AACTC CTCCT CCTGA TGAGC AGCTC CTCAA CAAGT AGTGA TGATC ATCCA CCACC ACCCA CCACC ACCTT CTTGT TGTCT TCTAG TAGGA GGATT ATTAC TACAG CAGGC GGCAT CATGA TGAGG AGGTA GTAGT AGTGT TGTCT TCTGT TGTAA TAATA ATAGG AGGCT GCTAG TAGTG GTGCT GCTAA TAAGA AGAAT AATAT TATAG TAGGC GGCAT CATGA TGAGC AGCCA CCATC ATCGC CGCTC CTCCT CCTGG TGGAC GACTG CTGAA GAATT ATTTT TTTAA TAATT ATTTA TTAAC AACCC CCCTT CTTCT TCTTA TTAAG AAGAT GATCT TCTAG TAGCT GCTCT TCTTA TTACT ACTTT TTTCG TCGGC GGCCA CCAAT AATAA TAACC ACCTT CTTTT TTTAT TATCT TCTTA TTACC ACCCA CCAGA AGAAA AAATT ATTGA TGAAT AATCC TCCAT CATTT TTTGA TGAAA AAAAT AATAA TAAAT AATAT TATTT TTTCA TCAGA AGAAT AATTT TTTCT TCTCT TCTAT TATAT TATTC TTCAT CATAA TAACC ACCAT CATGC TGCTG CTGTC GTCTT CTTCT TCTCG TCGCT GCTAC TACTC CTCTG CTGTG GTGGG GGGGA GGAAG AAGCA GCAAG AAGGT GGTCT TCTGT TGTGT TGTTT TTTCC TCCCT CCTAA TAAAC AACTA CTAGC AGCTG CTGAG GAGTC GTCTT CTTAA TAACT ACTTC TTCTA CTACC ACCCA CCATT ATTCT TCTGT TGTTC TTCTT CTTTT TTTTA TTATT ATTCT TCTTT TTTAT TATCT TCTTC TTCAA CAATA ATACC ACCTT CTTGC TGCTC CTCTA CTACC ACCAG CAGAA GAAAA AAATT ATTCC TCCTC CTCTA CTAAA AAACT ACTTG TTGAT GATCA TCAAG AAGTC GTCTT CTTAT TATTT TTTAT TATCC TCCTA CTAAC AACAT CATAA TAAAC AACCA CCAGC AGCTA CTATT ATTTC TTCCC CCCTC CTCTT CTTGC TGCAC CACCT CCTGC TGCTT CTTTC TTCTT CTTCT TCTTA TTATG ATGTT GTTAC TACTA CTATC ATCAT CATAC TACCT CCTCT TCTTC TTCTT CTTCT TCTAA TAATC ATCTC CTCCT CCTTG TTGAA GAAAG AAGAG GAGTC GTCAT CATCC TCCGT CGTAC TACTC CTCTC CTCTA CTACT ACTCC TCCAT CATTT TTTCC TCCCA CCAGT AGTGT TGTCT TCTTA TTATT ATTTC TTCCC CCCAT CATTT TTTCC TCCCA CCAAT AATGT TGTCT TCTCA TCACT ACTAT TATTA TTAAC AACTT CTTCC TCCAG CAGAC GACAT CATCT TCTAC TACTT CTTGT TGTAC TACCA CCACA ACATC ATCAC CACTT CTTCT TCTAA TAAAA AAATT ATTTA TTACT ACTAT TATTC TTCAA CAAAA AAAGT AGTAA TAAGT AGTTG TTGCG GCGAC GACTG CTGCA GCATT ATTAC TACCA CCAAA AAACC ACCAA CAAAA AAAAA AAAAA AAAAA AAAGC AGCCT CCTCT TCTCT TCTTC TTCAG CAGAA GAATT ATTTT TTTTC TTCTT CTTAC TACAA CAACT ACTCC TCCTT CTTCA TCACA ACAGC AGCAT CATTA TTAAA AAATA ATATA ATATT ATTGA TGACC ACCAT CATCC TCCAC CACTT CTTGA TGAAA AAAAT AATTT TTTCC TCCTC CTCCT CCTTC TTCAT CATTA TTAGC AGCTT CTTTC TTCAT CATAT TATAA TAATC ATCAC CACTC CTCTG CTGTA GTATT ATTCT TCTTT TTTCT TCTTA TTAAA AAAGT AGTAA TAATA ATAGA AGAAA AAAGA AGAAA AAACT ACTAT TATAA TAATG ATGGT GGTAG TAGTC GTCAA CAAAA AAAAT AATCC TCCAT CATGT TGTTC TTCAA CAAGC AGCAT CATAG TAGGC GGCCC CCCCA CCACT ACTAT TATTG TTGCT GCTCT TCTTA TTAAA AAAAC AACTC CTCTA CTAAT AATTT TTTCT TCTTT TTTAT TATCA TCAGC AGCAA CAAAA AAATA ATAGG AGGGA GGATA ATAAT AATAT TATTT TTTGT TGTCT TCTTG TTGCT GCTTT TTTGT TGTTC TTCAC CACTA CTAGT AGTTT TTTGT TGTAA TAATG ATGCA GCAAA AAAAA AAAAT AATAA TAAAA AAACA ACAAA AAAAT AATAA TAATG ATGAA GAATC ATCTG CTGAT GATAA TAATG ATGCC GCCAT CATAA TAAAA AAAGA AGACA ACATG ATGAA GAAAT AATAT TATAT TATAA TAAAG AAGCA GCAGC AGCTA CTAAG AAGTA GTAAG AAGAT GATTT TTTGA TGATA ATAAC AACTT CTTGG TGGTA GTAAC AACAG CAGAT GATAG TAGGC GGCTA CTACA ACAGA AGAAA AAAAT AATGA TGATA ATACA ACAAA AAAAA AAATT ATTGC TGCTA CTACC ACCAA CAATT ATTGG TGGCT GCTGT TGTGA TGAAC AACTC CTCCT CCTGA TGAAG AAGGA GGAAC AACCA CCAAA AAAGC AGCTG CTGTG GTGTA GTATC ATCTT CTTAC TACCT CCTAG TAGAA GAAGG AGGTT GTTTT TTTTT TTTCA TCAGT AGTAT TATTA TTAAA AAAAG AAGGT GGTTT TTTCA TCAAA AAAGC AGCAT CATCT TCTTC TTCAT CATCA TCAAA AAAGC AGCAT CATTA TTACC ACCAT CATGT TGTCC TCCAT CATTA TTATG ATGGC GGCTT CTTTT TTTAC TACCA CCAGG AGGAA GAAGT AGTTA TTAGG AGGAG GAGAC GACTT CTTCA TCAAA AAATA ATAAA AAAAA AAAAC AACCT CCTTC TTCTG CTGAC GACCT CCTAC TACCT CCTGG TGGAC,\n",
       " EmptyLabel )"
      ]
     },
     "execution_count": 46,
     "metadata": {},
     "output_type": "execute_result"
    }
   ],
   "source": [
    "learn.data.train_ds[0]"
   ]
  },
  {
   "cell_type": "code",
   "execution_count": 47,
   "metadata": {},
   "outputs": [],
   "source": [
    "lr = 1e-2/1.35**4"
   ]
  },
  {
   "cell_type": "code",
   "execution_count": 48,
   "metadata": {},
   "outputs": [
    {
     "data": {
      "text/html": [
       "Total time: 1:02:11 <p><table style='width:300px; margin-bottom:10px'>\n",
       "  <tr>\n",
       "    <th>epoch</th>\n",
       "    <th>train_loss</th>\n",
       "    <th>valid_loss</th>\n",
       "    <th>accuracy</th>\n",
       "  </tr>\n",
       "  <tr>\n",
       "    <th>1</th>\n",
       "    <th>2.234741</th>\n",
       "    <th>2.197642</th>\n",
       "    <th>0.297131</th>\n",
       "  </tr>\n",
       "</table>\n"
      ],
      "text/plain": [
       "<IPython.core.display.HTML object>"
      ]
     },
     "metadata": {},
     "output_type": "display_data"
    }
   ],
   "source": [
    "learn.fit_one_cycle(1, lr, moms=(0.8,0.7), pct_start=0.9)"
   ]
  },
  {
   "cell_type": "code",
   "execution_count": 49,
   "metadata": {},
   "outputs": [],
   "source": [
    "learn.save('mammal_in_training')"
   ]
  },
  {
   "cell_type": "code",
   "execution_count": null,
   "metadata": {},
   "outputs": [],
   "source": []
  },
  {
   "cell_type": "markdown",
   "metadata": {},
   "source": [
    "# Part 6\n",
    "\n",
    "200,000 - 400,000"
   ]
  },
  {
   "cell_type": "code",
   "execution_count": 50,
   "metadata": {},
   "outputs": [],
   "source": [
    "data = GenomicTextLMDataBunch.from_df(path, df[200000:400000], df_valid, bs=400, tokenizer=tok, vocab=model_vocab,\n",
    "                              chunksize=20000, text_cols=0, label_cols=1)"
   ]
  },
  {
   "cell_type": "code",
   "execution_count": 51,
   "metadata": {},
   "outputs": [],
   "source": [
    "learn.data = data"
   ]
  },
  {
   "cell_type": "code",
   "execution_count": 52,
   "metadata": {},
   "outputs": [
    {
     "data": {
      "text/plain": [
       "(Text CACTA CTAAT AATTA TTAGA AGAGA AGATT ATTAA TAATC ATCTT CTTGC TGCTG CTGTT GTTGG TGGGT GGTAA TAATA ATATT ATTGA TGAGC AGCTT CTTCT TCTGA TGAAA AAAGT AGTTC TTCCG CCGTC GTCAC CACTT CTTAT TATTC TTCAA CAAAG AAGCA GCAGT AGTGA TGAAT AATAA TAATC ATCCT CCTTA TTAAT AATAC TACTG CTGAA GAAGT AGTTG TTGGT GGTAA TAACT ACTTC TTCTA CTATG ATGTT GTTGC TGCCA CCACT ACTAT TATCT TCTTC TTCAA CAACC ACCAT CATGC TGCAT CATAC TACTT CTTCT TCTTT TTTCT TCTAG TAGGA GGATG ATGGA GGAAC AACCA CCAAC AACCT CCTCA TCAAA AAAAA AAAGA AGAAA AAAAG AAGTC GTCCA CCAAA AAAGT AGTAC TACAG CAGCT GCTTG TTGGA GGATT ATTTG TTGGT GGTTT TTTAG TAGAT GATAA TAAGT AGTTA TTATT ATTAG TAGGT GGTCA TCACT ACTCA TCAGT AGTTG TTGCA GCACA ACAGG AGGTT GTTCC TCCTA CTAAA AAAAG AAGTC GTCAT CATTT TTTTC TTCAG CAGGC GGCTT CTTTG TTGTA GTAGG AGGTA GTAGG AGGTG GTGGA GGAAA AAAAA AAAAG AAGAG GAGCT GCTTG TTGAT GATAA TAATA ATAAT AATTG TTGAA GAATA ATAAT AATGG TGGAA GAAGT AGTAA TAACT ACTTT TTTTA TTAGC AGCCT CCTAT TATAT TATTT TTTTA TTACA ACAAA AAAAA AAAAG AAGAC GACCT CCTAC TACCA CCATT ATTTA TTATC ATCTT CTTAA TAACA ACAGT AGTGC TGCTG CTGAA GAAAC AACCT CCTAG TAGTA GTATC ATCAC CACTT CTTAA TAAAA AAAAT AATTT TTTTT TTTCT TCTAA TAATA ATACA ACATA ATAAA AAAAT AATTT TTTGA TGAGA AGAAT AATTT TTTCA TCATA ATAGC AGCAG CAGGT GGTAA TAAAC AACTC CTCTT CTTAT TATTT TTTTA TTAAA AAACA ACATC ATCTT CTTTT TTTGA TGAGG AGGTT GTTGG TGGGC GGCAA CAATA ATAAA AAATT ATTCT TCTAG TAGTG GTGCA GCAGA AGAAA AAAGC AGCAC CACTG CTGTT GTTCT TCTGA TGAGT AGTAA TAACT ACTTG TTGTG GTGAA GAATG ATGTA GTAGA AGAAG AAGTT GTTCA TCATC ATCAG CAGAT GATTA TTATA ATAGA AGAAG AAGGC GGCAG CAGTG GTGAT GATGC TGCTG CTGGC GGCTG CTGAA GAAGC AGCAA CAAGT AGTTA TTACC ACCTC CTCCC CCCCC CCCTT CTTTT TTTTT TTTAT TATCC TCCTT CTTAC TACTT CTTCC TCCAC CACCC CCCCT CCTCT TCTTC TTCTC CTCCT CCTTT TTTCC TCCCT CCTCT TCTTC TTCTT CTTTC TTCTC CTCCT CCTTG TTGCA GCAAG AAGTT GTTTT TTTAA TAAAT AATGC TGCAG CAGCT GCTTA TTATG ATGGA GGAGG AGGTA GTAAA AAAAT AATTG TTGAC GACAT CATCT TCTGA TGATA ATAAA AAACT ACTTC TTCCC CCCAC CACAT CATGT TGTAA TAAAG AAGTG GTGTA GTACA ACAGT AGTTT TTTGA TGATA ATATG ATGTT GTTTG TTGAA GAACA ACAAA AAATG ATGTA GTATA ATACA ACACC ACCTG CTGTA GTAGA AGAAT AATTA TTATC ATCAC CACCA CCAAA AAAAT AATCA TCAAG AAGGT GGTAA TAATG ATGAA GAATA ATATG ATGCC GCCCA CCATC ATCAC CACTT CTTAC TACGA CGAGT AGTTT TTTCC TCCTT CTTAC TACAC CACCA CCACG ACGTA GTAGG AGGTA GTAAT AATAC TACCT CCTGC TGCCA CCACC ACCTC CTCTC CTCTG CTGCT GCTGT TGTCC TCCCC CCCAT CATTC TTCTC CTCAG CAGAT GATAA TAACC ACCAC CACTG CTGAC GACCT CCTGC TGCTT CTTTA TTATG ATGCC GCCAT CATTA TTATA ATAGA AGATT ATTAA TAATT ATTTG TTGTA GTATT ATTTT TTTTC TTCTA CTAGA AGATT ATTTT TTTAT TATGT TGTAA TAAAC AACGG CGGAA GAATC ATCTT CTTAC TACAG CAGTA GTATG ATGTA GTACT ACTTC TTCTC CTCTT CTTTT TTTTC TTCAG CAGTT GTTTG TTGTC GTCGT CGTCT TCTTT TTTCA TCATT ATTCA TCAGT AGTAT TATAA TAATT ATTAT TATCT TCTTG TTGCA GCATT ATTTA TTATC ATCAG CAGTC GTCAT CATTT TTTAT TATTT TTTCT TCTTT TTTGT TGTAT TATTG TTGCC GCCAA CAAGT AGTAC TACTA CTATC ATCTG CTGTA GTAAT AATGT TGTTC TTCCA CCATT ATTAT TATGC TGCAG CAGAT GATCT TCTAT TATCA TCAGT AGTTT TTTGT TGTTA TTACT ACTCA TCATT ATTTA TTACC ACCTG CTGTT GTTGA TGATG ATGGC GGCCA CCATT ATTTG TTGGA GGATT ATTGT TGTTT TTTTC TTCAG CAGTT GTTTT TTTTG TTGTC GTCTG CTGTT GTTAC TACTA CTAAT AATAA TAAAG AAGTT GTTGC TGCTT CTTTG TTGAG GAGCA GCATT ATTTA TTATG ATGTA GTACA ACAAT AATTG TTGTT GTTTG TTGTA GTACA ACATA ATAAG AAGCT GCTTT TTTTA TTATT ATTTT TTTCC TCCTG CTGGG GGGGT GGTAA TAATT ATTAC TACAT CATGG TGGGG GGGGT GGTGG TGGAA GAATG ATGGC GGCTG CTGGA GGATC ATCAT CATAT TATGG TGGTA GTAGG AGGTG GTGTA GTATG ATGTT GTTTA TTAAC AACTT CTTTT TTTTA TTAAA AAAAA AAAAT AATGG TGGAC GACAA CAAAC AACTT CTTTT TTTTT TTTCT TCTAA TAAGG AGGTA GTAGT AGTTG TTGTA GTACC ACCAT CATTT TTTTA TTATA ATACT ACTTT TTTCA TCACC ACCAG CAGTA GTAGT AGTTT TTTTT TTTGA TGAGA AGAGT AGTTC TTCAG CAGCT GCTTC TTCTT CTTCC TCCAT CATGT TGTCT TCTAT TATTC TTCCA CCAGC AGCAC CACTT CTTAG TAGTG GTGTG GTGAT GATGT TGTGT TGTTG TTGTG GTGTT GTTAA TAATC ATCTT CTTTA TTAGC AGCCG CCGTT GTTCT TCTAG TAGTA GTAAA AAATG ATGTG GTGTG GTGGT GGTGG TGGAA GAATC ATCTC CTCTG CTGTA GTATT ATTTT TTTTA TTAAT AATTT TTTGC TGCAT CATGT TGTTT TTTCT TCTAA TAATG ATGAC GACTA CTAAC AACAG CAGTG GTGTT GTTGA TGAAT AATGT TGTCT TCTTT TTTTC TTCAT CATGT TGTGC TGCTT CTTAT TATTT TTTAC TACCA CCAAC AACCG CCGTA GTATA ATATC ATCTT CTTTG TTGAT GATGA TGAAG AAGTT GTTCC TCCTG CTGTT GTTAA TAAAA AAATC ATCTG CTGTT GTTGT TGTAC TACAT CATTT TTTTT TTTAT TATTT TTTAA TAAAT AATTG TTGGG GGGTT GTTTT TTTTT TTTTG TTGTT GTTAT TATTC TTCGG CGGTT GTTTT TTTGG TGGGA GGAGG AGGTT GTTTT TTTTA TTAAA AAAAA AAATG ATGTG GTGTT GTTTT TTTGA TGAAT AATAC TACAA CAAGT AGTTT TTTAT TATTA TTATC ATCAG CAGAC GACCT CCTAT TATGA TGATT ATTTG TTGCA GCAGA AGATA ATACT ACTGT TGTCT TCTCC TCCTG CTGTC GTCTG CTGCG GCGCT GCTTA TTATC ATCTT CTTTA TTATA ATATA ATATA ATATC ATCTA CTATT ATTCT TCTTC TTCAC CACAG CAGTG GTGTT GTTTT TTTTG TTGGA GGAGA AGAGC AGCAA CAAAA AAAGT AGTTT TTTTT TTTAA TAATG ATGTT GTTGA TGATA ATATA ATAGG AGGCC GCCAA CAATT ATTTT TTTTA TTAAA AAATT ATTTG TTGTG GTGTA GTATT ATTGT TGTGC TGCTT CTTTT TTTGA TGATG ATGTT GTTGT TGTGT TGTAT TATAA TAAGA AGAGC AGCTC CTCTT CTTGT TGTCT TCTAA TAACT ACTCA TCAAG AAGCT GCTCA TCACT ACTTA TTAAG AAGAT GATTA TTATC ATCTC CTCTT CTTAT TATGT TGTAT TATTC TTCTC CTCCT CCTAG TAGCA GCAGT AGTTT TTTTA TTATA ATAGT AGTTT TTTTA TTAGG AGGTA GTATC ATCAC CACAT CATTT TTTAT TATAC TACTT CTTAT TATCC TCCAT CATTT TTTGG TGGAG GAGTT GTTAG TAGTT GTTTT TTTTA TTATA ATATA ATATA ATATC ATCGA CGAGA AGAGT AGTTA TTATA ATATA ATATT ATTGA TGATG ATGAT GATTT TTTTT TTTTT TTTTT TTTGC TGCAT CATGT TGTGG TGGAT GATAT TATCC TCCTT CTTTG TTGCA GCACC ACCTT CTTTA TTATC ATCAG CAGAT GATAT TATCA TCAGT AGTTG TTGTC GTCCA CCATA ATACA ACAGA AGATG ATGTG GTGTG GTGTC GTCTA CTATT ATTTC TTCTG CTGGA GGAGT AGTAT TATCT TCTGC TGCTC CTCTG CTGTT GTTCC TCCAT CATTG TTGAT GATCT TCTGT TGTTG TTGTT GTTTT TTTTC TTCTG CTGTC GTCTT CTTTG TTGCA GCACT ACTGA TGATC ATCTC CTCAC CACAT CATGG TGGTC GTCTT CTTGG TGGAC GACTA CTACT ACTCC TCCAG CAGCT GCTTT TTTAT TATAG TAGAA GAAAG AAGTC GTCTT CTTCA TCAGA AGATT ATTTG TTGAG GAGAG GAGTG GTGTT,\n",
       " EmptyLabel )"
      ]
     },
     "execution_count": 52,
     "metadata": {},
     "output_type": "execute_result"
    }
   ],
   "source": [
    "learn.data.train_ds[0]"
   ]
  },
  {
   "cell_type": "code",
   "execution_count": 53,
   "metadata": {},
   "outputs": [],
   "source": [
    "lr = 1e-2/1.35**5"
   ]
  },
  {
   "cell_type": "code",
   "execution_count": 54,
   "metadata": {},
   "outputs": [
    {
     "data": {
      "text/html": [
       "Total time: 1:02:16 <p><table style='width:300px; margin-bottom:10px'>\n",
       "  <tr>\n",
       "    <th>epoch</th>\n",
       "    <th>train_loss</th>\n",
       "    <th>valid_loss</th>\n",
       "    <th>accuracy</th>\n",
       "  </tr>\n",
       "  <tr>\n",
       "    <th>1</th>\n",
       "    <th>2.130705</th>\n",
       "    <th>2.186655</th>\n",
       "    <th>0.301050</th>\n",
       "  </tr>\n",
       "</table>\n"
      ],
      "text/plain": [
       "<IPython.core.display.HTML object>"
      ]
     },
     "metadata": {},
     "output_type": "display_data"
    }
   ],
   "source": [
    "learn.fit_one_cycle(1, lr, moms=(0.8,0.7), pct_start=0.9)"
   ]
  },
  {
   "cell_type": "code",
   "execution_count": 55,
   "metadata": {},
   "outputs": [],
   "source": [
    "learn.save('mammal_in_training')"
   ]
  },
  {
   "cell_type": "code",
   "execution_count": 22,
   "metadata": {},
   "outputs": [],
   "source": [
    "learn.load('mammal_in_training');"
   ]
  },
  {
   "cell_type": "code",
   "execution_count": null,
   "metadata": {},
   "outputs": [],
   "source": []
  },
  {
   "cell_type": "code",
   "execution_count": null,
   "metadata": {},
   "outputs": [],
   "source": []
  },
  {
   "cell_type": "code",
   "execution_count": null,
   "metadata": {},
   "outputs": [],
   "source": []
  },
  {
   "cell_type": "code",
   "execution_count": null,
   "metadata": {},
   "outputs": [],
   "source": []
  },
  {
   "cell_type": "markdown",
   "metadata": {},
   "source": [
    "# Part 7\n",
    "\n",
    "400,000-700,000"
   ]
  },
  {
   "cell_type": "code",
   "execution_count": 23,
   "metadata": {},
   "outputs": [],
   "source": [
    "data = GenomicTextLMDataBunch.from_df(path, df[400000:700000], df_valid, bs=400, tokenizer=tok, vocab=model_vocab,\n",
    "                              chunksize=20000, text_cols=0, label_cols=1)"
   ]
  },
  {
   "cell_type": "code",
   "execution_count": 24,
   "metadata": {},
   "outputs": [],
   "source": [
    "learn.data = data"
   ]
  },
  {
   "cell_type": "code",
   "execution_count": 25,
   "metadata": {},
   "outputs": [
    {
     "data": {
      "text/plain": [
       "(Text GCCTT CTTAT TATTA TTAGT AGTTT TTTTA TTAAC AACAT CATGG TGGAA GAATT ATTGA TGATT ATTTT TTTAA TAAAA AAATG ATGGT GGTGT TGTCA TCACC ACCTG CTGGC GGCTC CTCTC CTCCT CCTAG TAGGC GGCTC CTCCT CCTGT TGTTT TTTCT TCTCT TCTAA TAACA ACATT ATTAC TACTC CTCCC CCCAT CATGA TGAAA AAATC ATCAG CAGTC GTCTT CTTAC TACAA CAAAT AATTA TTAAT AATTT TTTTT TTTCC TCCTT CTTTT TTTGC TGCCT CCTCA TCAGG AGGCT GCTCC TCCAT CATTA TTATG ATGGC GGCTT CTTGG TGGCA GCATG ATGGC GGCAC CACTG CTGTT GTTAC TACTG CTGAT GATCG TCGTG GTGTG GTGTA GTATA ATAAA AAAAA AAATT ATTTT TTTTG TTGAT GATAT TATTT TTTTG TTGTT GTTCA TCATC ATCAC CACGG CGGTT GTTTT TTTTT TTTGG TGGCA GCATT ATTAA TAATT ATTTA TTATT ATTAA TAAAA AAATA ATATT ATTAT TATTT TTTGA TGATT ATTAT TATGG TGGAG GAGTT GTTTT TTTTG TTGAT GATCC TCCCT CCTGA TGAGG AGGCA GCAAG AAGTA GTACC ACCTC CTCTC CTCTC CTCAC CACCT CCTCA TCATT ATTCC TCCAG CAGTC GTCTA CTAGT AGTTC TTCTG CTGGC GGCCT CCTTG TTGTA GTAAT AATAA TAACC ACCTC CTCCC CCCAG CAGAC GACAA CAAGT AGTTT TTTTG TTGCT GCTTA TTATA ATAAT AATTT TTTTC TTCTT CTTTT TTTGA TGAAA AAATG ATGGA GGAAG AAGCC GCCTG CTGAT GATAT TATCA TCAGA AGAGA AGAGA AGACT ACTGA TGAAA AAACT ACTGT TGTTA TTATT ATTAA TAAGC AGCCA CCAAT AATTG TTGTA GTACC ACCGC CGCCT CCTGC TGCCA CCAGG AGGAG GAGAG GAGAA GAATC ATCAT CATGC TGCTG CTGTC GTCCT CCTTT TTTTC TTCTG CTGCT GCTCC TCCTT CTTTC TTCGC CGCCT CCTCT TCTTT TTTCT TCTTA TTACT ACTAT TATAT TATGC TGCCA CCAGA AGACT ACTCT TCTCA TCAGC AGCTC CTCAG CAGCA GCAGA AGAAG AAGTC GTCCT CCTTG TTGTC GTCCA CCATT ATTTC TTCCA CCAGC AGCTG CTGCT GCTGG TGGCA GCATT ATTGA TGAGC AGCAC CACGG CGGCC GCCAC CACAT CATTG TTGCT GCTAT TATTG TTGGG GGGAT GATGC TGCCT CCTGG TGGGG GGGTT GTTAC TACTT CTTCT TCTTC TTCAT CATTT TTTAG TAGAG GAGAG GAGGT GGTCA TCAAA AAAGG AGGCC GCCAG CAGGG GGGTC GTCTT CTTAT TATTC TTCTC CTCCG CCGGA GGAAA AAATA ATAAA AAACC ACCCC CCCAA CAAGG AGGGC GGCTA CTATT ATTGA TGAGC AGCTC CTCCT CCTCC TCCAG CAGAC GACCC CCCTT CTTGA TGACA ACAGG AGGGC GGCCC CCCTT CTTGT TGTGG TGGCC GCCCA CCAAA AAAGC AGCAT CATTC TTCCT CCTTT TTTCT TCTCT TCTGC TGCTG CTGGA GGAAT AATCT TCTGT TGTCA TCAGT AGTTA TTAGC AGCTC CTCTG CTGGC GGCAA CAAAA AAAAT AATCA TCAAG AAGTT GTTTC TTCCT CCTCG TCGCT GCTCT TCTGA TGAAC AACTT CTTAC TACTC CTCCA CCATC ATCCA CCACA ACACA ACAAG AAGTT GTTTC TTCCC CCCTT CTTAG TAGAA GAAAT AATTA TTATG ATGGA GGAAA AAAAG AAGAA GAAAC AACTT CTTGT TGTTC TTCGT CGTAT TATAA TAATT ATTCT TCTCA TCAAA AAATG ATGTC GTCAG CAGAA GAACT ACTGG TGGAA GAAAG AAGGC GGCCC CCCTG CTGAG GAGAG GAGAC GACCA CCATC ATCTT CTTGC TGCCC CCCCA CCAAC AACCC CCCCT CCTTT TTTCA TCATT ATTTA TTAAC AACAG CAGAA GAACA ACATG ATGTA GTAAC AACTT CTTCC TCCTT CTTTG TTGCT GCTCT TCTAT TATTT TTTCC TCCAC CACGT CGTTT TTTCA TCAAG AAGGA GGAAT AATCC TCCCC CCCAA CAAGG AGGCT GCTGC TGCCT CCTCA TCATA ATAAT AATAA TAAAA AAAAT AATCA TCAGG AGGAA GAACA ACAAG AAGGT GGTAA TAAGA AGAGC AGCCA CCAAG AAGTT GTTAA TAATC ATCAA CAAGG AGGAA GAAGT AGTAA TAAAC AACTG CTGCT GCTAT TATGG TGGGA GGACC ACCCA CCAGC AGCTG CTGTG GTGCT GCTCA TCAGG AGGGA GGAGG AGGAC GACTG CTGAA GAATC ATCAT CATTA TTAGA AGAAA AAATG ATGTA GTAGC AGCCC CCCTG CTGGC GGCCT CCTCG TCGAG GAGAT GATTT TTTGT TGTTT TTTAT TATTA TTAAG AAGGA GGATT ATTTT TTTCT TCTTC TTCAA CAAGG AGGGC GGCAA CAAAG AAGAG GAGAA GAAGG AGGAT GATCT TCTGT TGTGA TGATG ATGGC GGCTC CTCAA CAACT ACTCC TCCAA CAAAG AAGAT GATTT TTTTA TTAAT AATGG TGGGG GGGTG GTGGG GGGGT GGTGA TGAGA AGACT ACTCA TCAAA AAAAA AAAGA AGATT ATTCC TCCAT CATGA TGAGC AGCTT CTTTC TTCAG CAGCC GCCGG CGGGC GGCTG CTGGA GGAGA AGAGT AGTTG TTGTA GTAAA AAAGA AGATC ATCCT CCTGC TGCTT CTTTG TTGAA GAAGA AGAAG AAGCC GCCTG CTGCC GCCTT CTTTA TTACT ACTTC TTCTT CTTCT TCTAT TATCT TCTGA TGACT ACTGG TGGGT GGTCT TCTGG TGGCA GCATC ATCGT CGTGG TGGAG GAGAA GAAGT AGTTG TTGGC GGCAA CAAAG AAGTT GTTTG TTGCC GCCTG CTGTG GTGTG GTGCT GCTTA TTAAC AACTT CTTCT TCTCC TCCCA CCAAA AAAAT AATGT TGTGT TGTCT TCTCT TCTCT TCTGG TGGGT GGTCC TCCCA CCATA ATACT ACTCA TCAGA AGAGG AGGAT GATAT TATGC TGCTT CTTTC TTCAG CAGTT GTTCT TCTGA TGAAA AAATG ATGTA GTATC ATCAA CAAGA AGAGG AGGGC GGCAC CACTC CTCCT CCTGT TGTGT TGTTA TTAGG AGGAC GACTG CTGGC GGCAT CATTG TTGAA GAAAG AAGTC GTCAC CACAT CATAT TATCA TCATT ATTCA TCACA ACATA ATATC ATCTA CTACA ACATT ATTTG TTGCA GCAAC AACAA CAAAA AAATC ATCCA CCACC ACCCT CCTGT TGTGC TGCAA CAAAA AAACA ACACC ACCAT CATCA TCACA ACATC ATCTA CTATT ATTCC TCCTC CTCTA CTAGT AGTTT TTTAA TAACC ACCTG CTGTA GTAAA AAACA ACAAT AATGT TGTAA TAAGG AGGTA GTAAT AATTT TTTTT TTTAG TAGCT GCTAC TACAT CATTT TTTTA TTACA ACAGA AGATG ATGAA GAACA ACAGG AGGCT GCTCA TCAGT AGTCT TCTGC TGCAG CAGGA GGATT ATTGC TGCCT CCTAA TAAGG AGGCC GCCAT CATGT TGTGA TGACT ACTAG TAGTA GTAAG AAGAG GAGGC GGCAA CAAAG AAGCT GCTTT TTTGA TGACT ACTGT TGTTG TTGAG GAGTC GTCCA CCAGA AGAAG AAGGA GGACA ACACC ACCCC CCCAT CATCC TCCTG CTGTG GTGCT GCTTG TTGTT GTTCT TCTAC TACTA CTAAG AAGCC GCCGC CGCAA CAACG ACGCC GCCTC CTCAA CAAGG AGGGT GGTGC TGCCA CCAAA AAAGT AGTGT TGTGC TGCCA CCATG ATGAG GAGAG GAGCA GCACA ACACA ACAGT AGTAA TAAAC AACTA CTAGC AGCTA CTAAC AACAA CAAGG AGGGC GGCCG CCGCA GCAGG AGGGT GGTTG TTGAA GAAAC AACCA CCACT ACTGT TGTCT TCTTG TTGAT GATCT TCTGA TGATT ATTTG TTGCA GCAGT AGTGA TGAAT AATGC TGCTA CTAGC AGCAC CACTG CTGTG GTGAT GATTG TTGAC GACTT CTTAC TACAG CAGGA GGACA ACACA ACATA ATAGA AGAAC AACAA CAAAT AATCT TCTGG TGGGA GGAAC AACTT CTTAC TACTG CTGTT GTTAT TATTC TTCCC CCCAG CAGAG GAGAA GAAGA AGACA ACACT ACTGG TGGGA GGACA ACATT ATTGG TGGGC GGCCC CCCCA CCAAA AAAGG AGGAA GAATT ATTTA TTACC ACCCA CCATC ATCTT CTTGG TGGAG GAGGT GGTTT TTTAT TATGT TGTTC TTCTT CTTGG TGGAA GAAAA AAATT ATTTT TTTTC TTCCT CCTTC TTCAG CAGAC GACTG CTGGA GGAAG AAGAA GAAGA AGACA ACAAG AAGGA GGATA ATATC ATCTC CTCAT CATCA TCAAC AACTG CTGAA GAAGG AGGAA GAAAT AATTC TTCCT CCTTA TTATA ATAAG AAGGA GGAAG AAGCT GCTTT TTTAT TATTC TTCAC CACAC CACAC CACAG CAGGA GGAGA AGAGG AGGAT GATCA TCAGA AGATC ATCCC CCCAC CACTG CTGTA GTAGT AGTTC TTCTG CTGGG GGGTA GTAGT AGTAT TATTT TTTAG TAGCT GCTAT TATGT TGTGC TGCAG CAGTG GTGAA GAACA ACACT ACTTT TTTTG TTGAG GAGGG GGGAT GATGT TGTGT TGTGT TGTGT TGTAG TAGCA GCAAG AAGGC GGCAG CAGGG GGGTA GTAAT AATGG TGGGT GGTAT TATAC TACGC CGCTT CTTTC TTCTT CTTCA TCAAC AACTA CTAAA AAACC,\n",
       " EmptyLabel )"
      ]
     },
     "execution_count": 25,
     "metadata": {},
     "output_type": "execute_result"
    }
   ],
   "source": [
    "learn.data.train_ds[0]"
   ]
  },
  {
   "cell_type": "code",
   "execution_count": 26,
   "metadata": {},
   "outputs": [],
   "source": [
    "lr = 1e-2/1.35**6"
   ]
  },
  {
   "cell_type": "code",
   "execution_count": 28,
   "metadata": {},
   "outputs": [
    {
     "data": {
      "text/html": [
       "Total time: 1:31:34 <p><table style='width:300px; margin-bottom:10px'>\n",
       "  <tr>\n",
       "    <th>epoch</th>\n",
       "    <th>train_loss</th>\n",
       "    <th>valid_loss</th>\n",
       "    <th>accuracy</th>\n",
       "  </tr>\n",
       "  <tr>\n",
       "    <th>1</th>\n",
       "    <th>2.213281</th>\n",
       "    <th>2.171236</th>\n",
       "    <th>0.306331</th>\n",
       "  </tr>\n",
       "</table>\n"
      ],
      "text/plain": [
       "<IPython.core.display.HTML object>"
      ]
     },
     "metadata": {},
     "output_type": "display_data"
    }
   ],
   "source": [
    "learn.fit_one_cycle(1, lr, moms=(0.8,0.7), pct_start=0.9)"
   ]
  },
  {
   "cell_type": "code",
   "execution_count": 29,
   "metadata": {},
   "outputs": [],
   "source": [
    "learn.save('mammal_in_training')"
   ]
  },
  {
   "cell_type": "code",
   "execution_count": null,
   "metadata": {},
   "outputs": [],
   "source": []
  },
  {
   "cell_type": "markdown",
   "metadata": {},
   "source": [
    "# Part 8\n",
    "\n",
    "700,000 - 1,000,000"
   ]
  },
  {
   "cell_type": "code",
   "execution_count": 30,
   "metadata": {},
   "outputs": [],
   "source": [
    "data = GenomicTextLMDataBunch.from_df(path, df[700000:], df_valid, bs=400, tokenizer=tok, vocab=model_vocab,\n",
    "                              chunksize=20000, text_cols=0, label_cols=1)"
   ]
  },
  {
   "cell_type": "code",
   "execution_count": 31,
   "metadata": {},
   "outputs": [],
   "source": [
    "learn.data = data"
   ]
  },
  {
   "cell_type": "code",
   "execution_count": 32,
   "metadata": {},
   "outputs": [
    {
     "data": {
      "text/plain": [
       "(Text CCCTC CTCCT CCTTT TTTTC TTCAA CAATT ATTGT TGTTT TTTGG TGGAA GAATA ATAAT AATTT TTTTG TTGGA GGAAG AAGGA GGAAT AATGA TGATA ATACC ACCAG CAGCT GCTCC TCCTC CTCTT CTTTG TTGTA GTAAC AACTG CTGTA GTAGT AGTAA TAAAT AATTT TTTCG TCGGC GGCTT CTTTG TTGAA GAATC ATCTG CTGGT GGTCC TCCTG CTGGG GGGCT GCTTT TTTTT TTTTT TTTGG TGGGT GGTGG TGGTA GTAGG AGGCT GCTAC TACTA CTACT ACTGC TGCCT CCTCA TCAAT AATTT TTTCA TCAGA AGAAC AACTT CTTGT TGTTA TTACG ACGGT GGTCT TCTAT TATTC TTCAG CAGGG GGGAT GATTC TTCGA CGACT ACTTC TTCTT CTTCC TCCTG CTGGT GGTTT TTTAG TAGTC GTCTT CTTGG TGGGA GGAGG AGGGT GGTGT TGTAT TATTT TTTGT TGTCC TCCAG CAGGA GGAAT AATTT TTTAT TATCC TCCAC CACTT CTTCT TCTTG TTGTA GTAGA AGATT ATTTT TTTCT TCTAG TAGTT GTTTA TTATT ATTTG TTGCA GCACA ACAGA AGAGG AGGTG GTGTT GTTTA TTATA ATAGT AGTAT TATAT TATTC TTCTG CTGAT GATGG TGGTA GTAGT AGTTT TTTGT TGTAT TATTT TTTCT TCTGT TGTGG TGGGG GGGTC GTCAG CAGTG GTGGT GGTAA TAATA ATATC ATCCC CCCCT CCTTT TTTAT TATAA TAATT ATTTT TTTTT TTTTA TTATT ATTGT TGTGT TGTTT TTTAT TATTT TTTTA TTATT ATTCT TCTTC TTCTC CTCTC CTCTT CTTCT TCTCT TCTTC TTCTT CTTTA TTATT ATTAG TAGTC GTCTA CTAGC AGCTA CTAGC AGCAG CAGTC GTCTA CTATC ATCTA CTATT ATTTT TTTGT TGTTA TTAAT AATTT TTTTT TTTTT TTTCA TCAAA AAAAT AATAC TACTA CTAGC AGCTC CTCCT CCTGG TGGAT GATTC TTCAT CATTG TTGAT GATGT TGTTT TTTTG TTGGA GGAGG AGGGT GGTAT TATTT TTTTG TTGTG GTGTC GTCTC CTCTA CTATT ATTTC TTCCT CCTTC TTCAA CAATT ATTCT TCTGC TGCTC CTCTG CTGTT GTTCT TCTTA TTAGT AGTTA TTATT ATTTC TTCTT CTTGT TGTCT TCTTC TTCTG CTGCT GCTAG TAGCT GCTTT TTTTG TTGGA GGATT ATTTG TTGTT GTTTG TTGCT GCTCT TCTTG TTGCT GCTTC TTCTA CTATA ATAGC AGCTC CTCTT CTTTT TTTAA TAATT ATTGT TGTGA TGATG ATGTT GTTAG TAGGT GGTTG TTGTT GTTGA TGATT ATTTG TTGAG GAGAT GATCT TCTTT TTTCT TCTAG TAGGT GGTTT TTTCT TCTGA TGATG ATGTG GTGGG GGGCA GCATT ATTTA TTAAT AATGT TGTTA TTATA ATAAT AATTC TTCTC CTCCC CCCTC CTCTT CTTAA TAATA ATACT ACTGC TGCTT CTTTA TTAGC AGCTG CTGTG GTGTC GTCCC CCCAG CAGAG GAGAT GATTC TTCTG CTGGT GGTAC TACAT CATTG TTGCC GCCTC CTCTT CTTTG TTGTT GTTCT TCTCA TCATT ATTGG TGGTT GTTTC TTCAA CAAAG AAGAA GAACT ACTTC TTCTT CTTGA TGATT ATTTC TTCTG CTGCC GCCTT CTTAA TAATT ATTCC TCCAT CATTA TTATT ATTTA TTACC ACCCA CCAGG AGGAG GAGTC GTCAT CATTC TTCAG CAGGA GGAGC AGCAG CAGAT GATTG TTGTT GTTCA TCAAT AATGT TGTCC TCCAT CATCT TCTAA TAATT ATTGT TGTGT TGTGG TGGTT GTTTT TTTGA TGAGA AGAGA AGAGT AGTTT TTTAT TATTA TTAAT AATCC TCCTG CTGAG GAGTT GTTCC TCCAA CAATT ATTTG TTGAT GATTG TTGAA GAACT ACTGT TGTGG TGGTC GTCTC CTCAG CAGAG GAGAC GACTT CTTTT TTTTG TTGTT GTTAT TATGT TGTTT TTTTC TTCAG CAGTT GTTCT TCTTT TTTTG TTGCA GCATT ATTTG TTGCT GCTGA TGAGG AGGAG GAGTG GTGTT GTTTT TTTAT TATTT TTTCC TCCAA CAATT ATTAT TATGT TGTGG TGGTC GTCAA CAATT ATTTT TTTAG TAGAA GAATA ATAAG AAGTG GTGCC GCCAT CATGT TGTGA TGACA ACACT ACTAA TAAGA AGAAG AAGAA GAATG ATGTA GTATA ATATA ATATT ATTGT TGTTG TTGAT GATTT TTTGG TGGGC GGCTG CTGGA GGAGA AGAGT AGTTC TTCTG CTGTG GTGGA GGATC ATCCA CCATT ATTTG TTGAT GATCC TCCAG CAGAG GAGCT GCTGA TGAGT AGTTC TTCAA CAAGT AGTCT TCTTG TTGAA GAATA ATATC ATCCT CCTTG TTGTT GTTTT TTTCT TCTGT TGTCT TCTCG TCGTT GTTGA TGATC ATCTG CTGTC GTCTA CTAAT AATAT TATTG TTGAC GACAG CAGTG GTGGG GGGGT GGTGT TGTTA TTAAA AAAGT AGTCT TCTCC TCCCA CCACT ACTGT TGTTA TTATT ATTGT TGTGT TGTGG TGGGA GGAGT AGTCT TCTAA TAATT ATTCT TCTCT TCTTT TTTGT TGTAG TAGGT GGTCT TCTCT TCTCT TCTGA TGAAC AACTT CTTGT TGTTT TTTTA TTATG ATGAA GAATC ATCTG CTGGG GGGTG GTGCT GCTCC TCCTG CTGTA GTATT ATTGC TGCAT CATGC TGCAT CATAT TATAT TATAT TATTT TTTAG TAGGA GGATA ATAGT AGTTA TTAGC AGCTC CTCTT CTTAT TATGA TGATT ATTGA TGAAT AATTG TTGAT GATGC TGCCT CCTTT TTTAC TACTA CTATT ATTAT TATGT TGTAA TAATG ATGCC GCCTT CTTTG TTGTC GTCTT CTTTT TTTTT TTTGA TGATC ATCTT CTTTG TTGTT GTTGG TGGTT GTTTA TTAAA AAAAC AACCT CCTGT TGTTT TTTTG TTGTC GTCAG CAGAG GAGAC GACAA CAAGA AGAAC AACTG CTGCA GCAAC AACCC CCCCT CCTGC TGCTT CTTTT TTTTT TTTTT TTTGC TGCCT CCTTC TTCCA CCACT ACTTG TTGCT GCTTG TTGGT GGTAA TAAAT AATTT TTTTG TTGCT GCTCC TCCAT CATCC TCCCT CCTTT TTTAT TATTT TTTTG TTGAG GAGCC GCCTA CTATG ATGTG GTGTG GTGTT GTTTT TTTTG TTGCA GCACT ACTTG TTGAG GAGAT GATGG TGGGT GGTCT TCTCC TCCTG CTGAA GAATA ATATA ATAGG AGGAC GACAC CACCA CCAAT AATGG TGGGT GGTCT TCTTG TTGAC GACTC CTCTG CTGTA GTATC ATCCT CCTCC TCCGT CGTAT TATCC TCCAA CAATT ATTTG TTGCC GCCAG CAGTC GTCTT CTTCT TCTTT TTTCA TCAAT AATTG TTGGG GGGCA GCACA ACAGT AGTTA TTAGC AGCTT CTTAT TATTT TTTAC TACAT CATTT TTTAA TAAGG AGGTT GTTAA TAATA ATATT ATTGT TGTTA TTATG ATGTG GTGTG GTGAA GAATT ATTTG TTGAT GATCC TCCTG CTGTC GTCAT CATCA TCATG ATGAT GATGC TGCTA CTATC ATCTG CTGAT GATTA TTATT ATTTT TTTGC TGCAC CACAC CACTA CTAGT AGTTG TTGAT GATGC TGCAG CAGTG GTGTG GTGCA GCATT ATTGG TGGTC GTCTT CTTTA TTATA ATATT ATTTT TTTGG TGGTT GTTTG TTGTT GTTTT TTTTG TTGTA GTAGT AGTGG TGGGT GGTGG TGGTA GTACT ACTGG TGGTT GTTTT TTTTC TTCCT CCTTT TTTCC TCCAT CATAT TATTT TTTAA TAATG ATGCT GCTTC TTCCT CCTTC TTCAG CAGGA GGAGC AGCTC CTCTT CTTGC TGCAA CAAGG AGGCA GCAGG AGGCC GCCTG CTGGT GGTGG TGGTG GTGAT GATGA TGAAA AAATC ATCCC CCCTC CTCAG CAGCA GCATT ATTTG TTGCT GCTTG TTGTC GTCTG CTGGA GGAAA AAAAG AAGAT GATTT TTTTA TTATT ATTTC TTCTC CTCCT CCTTT TTTGC TGCTT CTTAC TACGA CGAAG AAGCT GCTTA TTAGT AGTTT TTTGG TGGCT GCTGG TGGAT GATGT TGTAA TAAAA AAATT ATTCT TCTGG TGGGT GGTTG TTGAA GAAAA AAATG ATGCT GCTTT TTTTC TTCTT CTTTA TTAAT AATAA TAATG ATGTT GTTGA TGAAT AATAT TATTG TTGGC GGCTC CTCCT CCTCC TCCTC CTCGC CGCTT CTTCT TCTGG TGGCT GCTTA TTATA ATAGG AGGGT GGTTT TTTCT TCTGC TGCTG CTGAG GAGAG GAGGT GGTCC TCCTC CTCTG CTGTT GTTAG TAGTC GTCTG CTGAT GATGG TGGGC GGCTC CTCCC CCCCT CCTTT TTTGT TGTGG TGGGT GGTGA TGACC ACCTG CTGGC GGCCT CCTTT TTTCT TCTCT TCTCT TCTGG TGGCT GCTGC TGCCG CCGTT GTTAA TAACT ACTTT TTTTT TTTTT TTTCT TCTCT TCTTC TTCAT CATTT TTTTG TTGAC GACCT CCTTG TTGGA GGAGA AGAAT AATCT TCTGA TGATG ATGAT GATTA TTATG ATGCC GCCTC CTCGG CGGGG GGGTT GTTGA TGAAC AACTT CTTCT TCTCA TCATG ATGGA GGAGT AGTAT TATCT TCTTA TTAGT AGTGG TGGTG GTGTT GTTCT TCTCT TCTGT TGTAT TATTT TTTCC TCCTG CTGAA GAATT ATTTT TTTTG TTGGG GGGGA GGAAG AAGTC GTCCT CCTTT TTTTT TTTTA TTATA ATAAT AATAT TATCC,\n",
       " EmptyLabel )"
      ]
     },
     "execution_count": 32,
     "metadata": {},
     "output_type": "execute_result"
    }
   ],
   "source": [
    "learn.data.train_ds[0]"
   ]
  },
  {
   "cell_type": "code",
   "execution_count": 33,
   "metadata": {},
   "outputs": [],
   "source": [
    "lr = 1e-2/1.35**7"
   ]
  },
  {
   "cell_type": "code",
   "execution_count": 34,
   "metadata": {},
   "outputs": [
    {
     "data": {
      "text/html": [
       "Total time: 1:31:21 <p><table style='width:300px; margin-bottom:10px'>\n",
       "  <tr>\n",
       "    <th>epoch</th>\n",
       "    <th>train_loss</th>\n",
       "    <th>valid_loss</th>\n",
       "    <th>accuracy</th>\n",
       "  </tr>\n",
       "  <tr>\n",
       "    <th>1</th>\n",
       "    <th>2.268297</th>\n",
       "    <th>2.164488</th>\n",
       "    <th>0.308762</th>\n",
       "  </tr>\n",
       "</table>\n"
      ],
      "text/plain": [
       "<IPython.core.display.HTML object>"
      ]
     },
     "metadata": {},
     "output_type": "display_data"
    }
   ],
   "source": [
    "learn.fit_one_cycle(1, lr, moms=(0.8,0.7), pct_start=0.9)"
   ]
  },
  {
   "cell_type": "code",
   "execution_count": 35,
   "metadata": {},
   "outputs": [],
   "source": [
    "learn.save('mammal_in_training')"
   ]
  },
  {
   "cell_type": "code",
   "execution_count": null,
   "metadata": {},
   "outputs": [],
   "source": []
  },
  {
   "cell_type": "markdown",
   "metadata": {},
   "source": [
    "# Part 9\n",
    "\n",
    "df 2,000,000 - 3,000,000\n",
    "\n",
    "0-200,000"
   ]
  },
  {
   "cell_type": "code",
   "execution_count": 20,
   "metadata": {},
   "outputs": [],
   "source": [
    "df = next(df_iter)"
   ]
  },
  {
   "cell_type": "code",
   "execution_count": 21,
   "metadata": {},
   "outputs": [
    {
     "data": {
      "text/html": [
       "<div>\n",
       "<style scoped>\n",
       "    .dataframe tbody tr th:only-of-type {\n",
       "        vertical-align: middle;\n",
       "    }\n",
       "\n",
       "    .dataframe tbody tr th {\n",
       "        vertical-align: top;\n",
       "    }\n",
       "\n",
       "    .dataframe thead th {\n",
       "        text-align: right;\n",
       "    }\n",
       "</style>\n",
       "<table border=\"1\" class=\"dataframe\">\n",
       "  <thead>\n",
       "    <tr style=\"text-align: right;\">\n",
       "      <th></th>\n",
       "      <th>Sequence</th>\n",
       "      <th>Source</th>\n",
       "      <th>set</th>\n",
       "    </tr>\n",
       "  </thead>\n",
       "  <tbody>\n",
       "    <tr>\n",
       "      <th>2000000</th>\n",
       "      <td>CCCGGCAAGTGTTGCCAGTTTGAGGATGAGCATATGTCCTCAGTAG...</td>\n",
       "      <td>NCBI Pan Troglodytes</td>\n",
       "      <td>train</td>\n",
       "    </tr>\n",
       "    <tr>\n",
       "      <th>2000001</th>\n",
       "      <td>TCTACCCAAATCCTATAAAACGGCCCCACCCTTATCTCCCTTCGCT...</td>\n",
       "      <td>NCBI Pan Troglodytes</td>\n",
       "      <td>train</td>\n",
       "    </tr>\n",
       "    <tr>\n",
       "      <th>2000002</th>\n",
       "      <td>GAGGAGAGGTTTGTGAATAGCAGGAAGTAAGGTTAGGGCCAAAGAT...</td>\n",
       "      <td>NCBI Pan Troglodytes</td>\n",
       "      <td>train</td>\n",
       "    </tr>\n",
       "    <tr>\n",
       "      <th>2000003</th>\n",
       "      <td>GCCAGTCTCACTGATTTTCTTGAAACAAATTTCTTCCTTGACGATC...</td>\n",
       "      <td>NCBI Pan Troglodytes</td>\n",
       "      <td>train</td>\n",
       "    </tr>\n",
       "    <tr>\n",
       "      <th>2000004</th>\n",
       "      <td>TTCTTTTTGTTCCCCTGATCTCACCATAAGCATGTAGTCTTCTAAA...</td>\n",
       "      <td>NCBI Pan Troglodytes</td>\n",
       "      <td>train</td>\n",
       "    </tr>\n",
       "  </tbody>\n",
       "</table>\n",
       "</div>"
      ],
      "text/plain": [
       "                                                  Sequence  \\\n",
       "2000000  CCCGGCAAGTGTTGCCAGTTTGAGGATGAGCATATGTCCTCAGTAG...   \n",
       "2000001  TCTACCCAAATCCTATAAAACGGCCCCACCCTTATCTCCCTTCGCT...   \n",
       "2000002  GAGGAGAGGTTTGTGAATAGCAGGAAGTAAGGTTAGGGCCAAAGAT...   \n",
       "2000003  GCCAGTCTCACTGATTTTCTTGAAACAAATTTCTTCCTTGACGATC...   \n",
       "2000004  TTCTTTTTGTTCCCCTGATCTCACCATAAGCATGTAGTCTTCTAAA...   \n",
       "\n",
       "                       Source    set  \n",
       "2000000  NCBI Pan Troglodytes  train  \n",
       "2000001  NCBI Pan Troglodytes  train  \n",
       "2000002  NCBI Pan Troglodytes  train  \n",
       "2000003  NCBI Pan Troglodytes  train  \n",
       "2000004  NCBI Pan Troglodytes  train  "
      ]
     },
     "execution_count": 21,
     "metadata": {},
     "output_type": "execute_result"
    }
   ],
   "source": [
    "df.head()"
   ]
  },
  {
   "cell_type": "code",
   "execution_count": 38,
   "metadata": {},
   "outputs": [],
   "source": [
    "data = GenomicTextLMDataBunch.from_df(path, df[:200000], df_valid, bs=400, tokenizer=tok, vocab=model_vocab,\n",
    "                              chunksize=20000, text_cols=0, label_cols=1)"
   ]
  },
  {
   "cell_type": "code",
   "execution_count": 39,
   "metadata": {},
   "outputs": [],
   "source": [
    "learn.data = data"
   ]
  },
  {
   "cell_type": "code",
   "execution_count": 40,
   "metadata": {},
   "outputs": [
    {
     "data": {
      "text/plain": [
       "(Text CCCGG CGGCA GCAAG AAGTG GTGTT GTTGC TGCCA CCAGT AGTTT TTTGA TGAGG AGGAT GATGA TGAGC AGCAT CATAT TATGT TGTCC TCCTC CTCAG CAGTA GTAGA AGACC ACCCA CCAAT AATCA TCAAC AACTG CTGAA GAAGA AGAGA AGAAG AAGGT GGTCA TCATT ATTAT TATAA TAACC ACCTA CTATG ATGAT GATGT TGTGG TGGGA GGAGA AGAGG AGGCT GCTCT TCTTT TTTCC TCCCC CCCCT CCTCC TCCTA CTACC ACCTA CTACT ACTCA TCATA ATATA ATATC ATCCC CCCTC CTCCT CCTTC TTCGA CGATT ATTCA TCACC ACCAT CATAT TATAC TACCC CCCCT CCTTA TTAGG AGGAA GAACT ACTAG TAGAT GATTG TTGTA GTAAC AACCC CCCTG CTGAG GAGAG GAGAA GAAGC AGCCT CCTAC TACTT CTTAT TATAA TAAAC AACAC CACAC CACAG CAGAG GAGAA GAAAG AAGAC GACAG CAGAG GAGTG GTGAA GAAGA AGAAA AAAAG AAGGG GGGCA GCAAC AACAA CAAAT AATTT TTTGA TGAGC AGCCA CCAGA AGAGC AGCCA CCATA ATAAT AATCG TCGTA GTACT ACTGT TGTAC TACCT CCTGA TGAGG AGGCC GCCTA CTACA ACATT ATTAT TATCT TCTCT TCTGG TGGAT GATTT TTTCT TCTTC TTCCT CCTTG TTGAG GAGAT GATAA TAACA ACACA ACATT ATTTC TTCCT CCTTA TTATT ATTGT TGTTC TTCGA CGACA ACACA ACAGT AGTTT TTTAA TAAAC AACTG CTGGG GGGGT GGTTT TTTCT TCTGT TGTTA TTAGT AGTTT TTTCT TCTGC TGCCA CCAAA AAAAG AAGCA GCATC ATCCT CCTGA TGATA ATACA ACATG ATGAA GAACT ACTAA TAAGT AGTAG TAGAA GAAAC AACAA CAAGG AGGTT GTTTT TTTCA TCAGC AGCCC CCCAA CAATC ATCTT CTTCT TCTCT TCTGC TGCCT CCTCA TCAAA AAAGA AGACT ACTGG TGGGA GGATA ATAGG AGGGA GGAGG AGGGT GGTTA TTAAA AAACC ACCAA CAACA ACACA ACAAA AAAGG AGGGC GGCAC CACCA CCAGG AGGCT GCTGC TGCTA CTAAA AAACC ACCAG CAGAA GAAGT AGTTA TTATG ATGCA GCAGA AGAGG AGGAC GACTG CTGGG GGGAA GAATG ATGCA GCAGG AGGTC GTCAT CATTA TTAGG AGGTA GTAGT AGTCC TCCAT CATTA TTAAC AACAG CAGGT GGTTG TTGTA GTAGA AGAGA AGAAA AAATA ATAAT AATTT TTTTA TTATA ATATT ATTTA TTATC ATCTT CTTAT TATAG TAGTT GTTAC TACTT CTTCA TCACA ACATG ATGTG GTGGA GGAAA AAAAT AATAT TATTG TTGCT GCTTT TTTCC TCCCA CCATG ATGCA GCACA ACAGT AGTAC TACTG CTGCT GCTAT TATAA TAAAG AAGTT GTTTA TTACT ACTTT TTTTA TTAAA AAATG ATGAA GAATG ATGTG GTGTT GTTTA TTATG ATGTG GTGAA GAAAA AAAGG AGGAA GAATC ATCAA CAACT ACTTA TTAAA AAAGA AGAAA AAAAT AATAT TATTA TTACA ACAAG AAGTC GTCAT CATAG TAGTA GTATT ATTTT TTTCC TCCTT CTTGG TGGGA GGATG ATGCT GCTGT TGTAA TAACA ACAAA AAAAT AATAC TACCA CCACA ACAAA AAACT ACTGG TGGAT GATGG TGGCT GCTTA TTAAA AAAAA AAAAA AAACA ACAGA AGAAA AAATT ATTTA TTATT ATTAT TATTT TTTCA TCACC ACCGT CGTCT TCTAG TAGAT GATAT TATCA TCAGA AGAAA AAATC ATCTG CTGAA GAAAT AATTG TTGAG GAGTT GTTGT TGTCG TCGGT GGTAG TAGGG GGGCC GCCAT CATGC TGCCC CCCCT CCTTC TTCTG CTGGA GGAGG AGGAT GATCT TCTAG TAGAG GAGGA GGAGG AGGAT GATTT TTTTT TTTCT TCTTT TTTAC TACCT CCTCT TCTTC TTCCT CCTAG TAGTT GTTTC TTCTG CTGTT GTTGG TGGTT GTTGC TGCCA CCAGA AGAAT AATCC TCCTT CTTTG TTGCA GCATT ATTCC TCCTT CTTGG TGGAC GACTA CTATA ATAGA AGATG ATGCA GCATC ATCAC CACTT CTTCA TCAGT AGTCT TCTCT TCTAT TATCT TCTCC TCCAT CATCT TCTTC TTCAC CACGT CGTGT TGTCC TCCTT CTTCG TCGTG GTGTG GTGTG GTGTG GTGTG GTGTG GTGTG GTGTG GTGTG GTGTG GTGTG GTGCG GCGTG GTGTG GTGTG GTGTG GTGTC GTCTG CTGAG GAGTC GTCTT CTTCA TCACA ACATA ATAAC AACAT CATCC TCCTT CTTCT TCTCT TCTCT TCTGT TGTGT TGTAT TATCT TCTGT TGTGT TGTCC TCCAT CATAT TATTT TTTGT TGTCC TCCAT CATAT TATTT TTTCC TCCAT CATCT TCTTC TTCTT CTTGT TGTAA TAAGG AGGAC GACAT CATTG TTGGT GGTCA TCATT ATTGG TGGCC GCCTA CTAGA AGAGT AGTTC TTCAC CACTC CTCTT CTTAC TACCC CCCTG CTGTA GTACT ACTAC TACCT CCTCA TCATC ATCTT CTTCA TCACG ACGTG GTGAA GAATA ATATA ATACT ACTTG TTGCA GCAAA AAAGA AGACA ACAAT AATTT TTTCC TCCAA CAAGC AGCAA CAAGG AGGTC GTCAC CACAG CAGTC GTCAC CACAC CACAT CATAC TACCG CCGAG GAGGA GGATT ATTAG TAGGA GGACT ACTTC TTCAG CAGCA GCATA ATATC ATCTT CTTTT TTTGG TGGGA GGAGG AGGGC GGCAC CACAA CAATT ATTCA TCAAC AACCC CCCAC CACAA CAAAA AAACA ACAAG AAGTG GTGAT GATAT TATTC TTCAG CAGAT GATAC TACAG CAGCA GCAGA AGAAG AAGTC GTCAT CATGA TGAAA AAAGT AGTGG TGGGA GGATA ATATA ATAAA AAAGA AGAGC AGCAT CATTT TTTTG TTGAA GAAAC AACTC CTCTG CTGAG GAGGA GGATA ATACT ACTAC TACTA CTACA ACAAT AATGG TGGAA GAAAG AAGAG GAGGG GGGGT GGTGT TGTAT TATAA TAAAG AAGGA GGAAC AACCA CCAGG AGGAC GACAT CATAT TATGT TGTTC TTCAG CAGTT GTTAC TACAC CACAC CACGG CGGGC GGCCC CCCAC CACGA CGAGC AGCTT CTTCA TCAAG AAGTC GTCAA CAAGG AGGAA GAATG ATGTA GTATT ATTGT TGTGA TGATT ATTTC TTCTC CTCAG CAGAA GAATG ATGTG GTGAT GATCA TCAAC AACAT CATTT TTTGC TGCTA CTAAC AACAC CACCC CCCCT CCTCT TCTAG TAGAC GACTC CTCCT CCTAA TAACT ACTTT TTTAG TAGCA GCAAG AAGTC GTCAT CATAT TATCT TCTGA TGAAA AAAAT AATTA TTATG ATGTA GTAGT AGTCA TCAGA AGAAC AACAT CATAA TAAAA AAAAA AAAGG AGGAA GAATC ATCAA CAAAA AAATA ATATT ATTGA TGATG ATGCT GCTGC TGCTG CTGGA GGAAA AAAAA AAACA ACAAT AATCC TCCAA CAAAA AAATA ATACA ACATG ATGTA GTATA ATAGT AGTCA TCAGT AGTGG TGGTG GTGTT GTTGT TGTCA TCAAA AAATG ATGGA GGAGG AGGCA GCAAC AACAC CACAC CACAT CATTT TTTTT TTTTA TTATA ATATT ATTTC TTCTC CTCTG CTGAG GAGCA GCATT ATTTA TTAGC AGCCT CCTTC TTCTT CTTCT TCTAA TAATA ATAAT AATTG TTGAT GATGT TGTCT TCTCC TCCAA CAAGT AGTAG TAGAA GAATT ATTTA TTAAT AATTT TTTCA TCAAT AATAA TAATA ATATT ATTTC TTCTA CTAGC AGCCA CCAAA AAAAA AAATG ATGAC GACCA CCATC ATCCT CCTTG TTGTA GTATA ATAGT AGTCA TCATG ATGCA GCATC ATCAC CACTT CTTAA TAAAG AAGAT GATGA TGAGG AGGAA GAAAT AATGG TGGTT GTTAT TATTA TTAGG AGGTG GTGAT GATTT TTTAG TAGTT GTTGT TGTGG TGGTG GTGTG GTGAA GAACT ACTGT TGTCA TCAGG AGGCC GCCTC CTCTG CTGAG GAGCC GCCCA CCAAG AAGCC GCCAA CAAGC AGCCA CCATC ATCGC CGCAT CATCC TCCCC CCCGG CGGTG GTGAC GACTT CTTGC TGCAC CACAT CATAT TATAG TAGGC GGCCC CCCAG CAGAT GATGG TGGCC GCCTG CTGAA GAAGT AGTAA TAACT ACTGA TGAAG AAGAA GAATC ATCAC CACAA CAAAA AAAGA AGAAG AAGTG GTGAA GAAAA AAATG ATGCC GCCTG CTGCC GCCCC CCCAC CACCT CCTTA TTAAC AACTG CTGAT GATGA TGACA ACATT ATTCC TCCCC CCCCA CCACA ACAAA AAAAG AAGAA GAAGT AGTGT TGTAA TAAAT AATGG TGGCT GCTGA TGATC ATCCT CCTTG TTGCC GCCTT CTTAA TAAGT AGTGA TGATG ATGAC GACAT CATTA TTACC ACCTT CTTGT TGTGA TGAAA AAAGT AGTCC TCCTT CTTTT TTTCC TCCTG CTGGC GGCTC CTCAT CATCC TCCTG CTGGC GGCTC CTCAA CAAAA AAAAT AATCT TCTCC TCCCC CCCCA CCACT ACTGA TGAGC AGCAT CATCT TCTTG TTGCG GCGAC GACCC CCCTC CTCAC CACTC CTCCT CCTGC TGCCC CCCGC CGCCG CCGGA GGAGA AGAAC AACAA CAAAT AATCC TCCCC CCCTT CTTTG TTGAC GACTG CTGTA GTAAT AATTT TTTTC TTCCT CCTTT,\n",
       " EmptyLabel )"
      ]
     },
     "execution_count": 40,
     "metadata": {},
     "output_type": "execute_result"
    }
   ],
   "source": [
    "learn.data.train_ds[0]"
   ]
  },
  {
   "cell_type": "code",
   "execution_count": 41,
   "metadata": {},
   "outputs": [],
   "source": [
    "lr = 1e-2/1.35**8"
   ]
  },
  {
   "cell_type": "code",
   "execution_count": 42,
   "metadata": {},
   "outputs": [
    {
     "data": {
      "text/html": [
       "Total time: 1:02:09 <p><table style='width:300px; margin-bottom:10px'>\n",
       "  <tr>\n",
       "    <th>epoch</th>\n",
       "    <th>train_loss</th>\n",
       "    <th>valid_loss</th>\n",
       "    <th>accuracy</th>\n",
       "  </tr>\n",
       "  <tr>\n",
       "    <th>1</th>\n",
       "    <th>2.255852</th>\n",
       "    <th>2.158983</th>\n",
       "    <th>0.310901</th>\n",
       "  </tr>\n",
       "</table>\n"
      ],
      "text/plain": [
       "<IPython.core.display.HTML object>"
      ]
     },
     "metadata": {},
     "output_type": "display_data"
    }
   ],
   "source": [
    "learn.fit_one_cycle(1, lr, moms=(0.8,0.7), pct_start=0.9)"
   ]
  },
  {
   "cell_type": "code",
   "execution_count": 43,
   "metadata": {},
   "outputs": [],
   "source": [
    "learn.save('mammal_in_training')"
   ]
  },
  {
   "cell_type": "code",
   "execution_count": null,
   "metadata": {},
   "outputs": [],
   "source": []
  },
  {
   "cell_type": "markdown",
   "metadata": {},
   "source": [
    "# Part 10\n",
    "\n",
    "200,000 - 400,000"
   ]
  },
  {
   "cell_type": "code",
   "execution_count": 44,
   "metadata": {},
   "outputs": [],
   "source": [
    "data = GenomicTextLMDataBunch.from_df(path, df[200000:400000], df_valid, bs=400, tokenizer=tok, vocab=model_vocab,\n",
    "                              chunksize=20000, text_cols=0, label_cols=1)"
   ]
  },
  {
   "cell_type": "code",
   "execution_count": 45,
   "metadata": {},
   "outputs": [],
   "source": [
    "learn.data = data"
   ]
  },
  {
   "cell_type": "code",
   "execution_count": 46,
   "metadata": {},
   "outputs": [
    {
     "data": {
      "text/plain": [
       "(Text TTAGA AGATT ATTAG TAGGC GGCAA CAATA ATAAT AATTT TTTCT TCTTA TTAGA AGATA ATATG ATGAC GACAC CACCA CCAAA AAAAG AAGCA GCAAA AAAAG AAGCA GCAAC AACAA CAATA ATAAC AACAA CAAAA AAAAA AAAGA AGATA ATATA ATACA ACATT ATTAA TAACA ACAAT AATAT TATTC TTCAG CAGCA GCAAC AACTT CTTTA TTAAA AAAAT AATTA TTAAT AATGT TGTGA TGATA ATATA ATAAC AACTT CTTAG TAGGT GGTGA TGAAA AAAGA AGAAG AAGCA GCACC ACCAT CATGT TGTAG TAGGC GGCAT CATAT TATCA TCAAA AAAAA AAAGA AGACA ACAGT AGTAG TAGGG GGGAA GAAAT AATAT TATAC TACAA CAAAT AATGA TGACA ACATT ATTTT TTTTC TTCCC CCCCC CCCAG CAGAT GATGG TGGTA GTAGG AGGAA GAAAG AAGTG GTGCA GCATG ATGAT GATAT TATCC TCCTA CTATT ATTCC TCCTG CTGTT GTTTA TTAAA AAATT ATTTT TTTAT TATTA TTACT ACTAT TATTT TTTTG TTGTA GTATT ATTTT TTTTT TTTAA TAATG ATGTA GTAAA AAAAG AAGCT GCTTG TTGGG GGGAG GAGTA GTATC ATCAA CAAAA AAATT ATTTG TTGTA GTAAT AATTT TTTTC TTCAT CATAG TAGGA GGAAT AATAT TATAT TATAT TATAT TATTT TTTTT TTTCC TCCTT CTTTT TTTCA TCAGA AGATG ATGTG GTGAA GAATC ATCTG CTGGC GGCTA CTACA ACACT ACTGG TGGAC GACAG CAGCA GCACT ACTGT TGTGA TGAAA AAAAG AAGAC GACAG CAGAC GACTT CTTTA TTAGT AGTAT TATTC TTCTC CTCTA CTATG ATGTA GTAGT AGTGC TGCCA CCAAG AAGTA GTAGG AGGCA GCAAA AAAAG AAGCT GCTCA TCACT ACTCA TCATG ATGTT GTTCT TCTTA TTATT ATTGC TGCAG CAGCA GCAAT AATTA TTATT ATTGG TGGAG GAGCT GCTGT TGTAC TACAG CAGAT GATTG TTGCC GCCAT CATCA TCATA ATAGT AGTAG TAGCA GCAAT AATTG TTGTA GTAAT AATGT TGTGC TGCAT CATAA TAACA ACAAG AAGGT GGTAG TAGGT GGTAA TAATG ATGAT GATGT TGTAA TAAGA AGAAA AAATA ATATC ATCAA CAACT ACTTT TTTAA TAAAT AATTA TTAGA AGAGG AGGCA GCAGG AGGCA GCAAC AACTG CTGTT GTTTA TTATT ATTTA TTATA ATAGA AGATG ATGCT GCTTT TTTGA TGAGG AGGCC GCCAC CACCA CCAGT AGTCT TCTAT TATTA TTAGG AGGAA GAAAA AAAAT AATCT TCTTA TTATG ATGAT GATCA TCAGT AGTTC TTCCC CCCTG CTGAG GAGGT GGTTT TTTTC TTCAG CAGTG GTGGT GGTCT TCTCT TCTCC TCCCT CCTAT TATCC TCCTT CTTCT TCTTC TTCTT CTTTA TTAGG AGGAT GATAC TACGG CGGGC GGCAG CAGGG GGGAC GACTA CTAAT AATTC TTCCC CCCAG CAGTC GTCTT CTTAC TACAG CAGGT GGTAT TATAT TATCT TCTGG TGGGC GGCGA CGACA ACAAG AAGCA GCAGA AGAGA AGAGG AGGGA GGAGT AGTGA TGAGA AGAAT AATAG TAGTC GTCAA CAATG ATGAG GAGAT GATAA TAAAG AAGGA GGAAT AATTT TTTAG TAGGG GGGAT GATCT TCTGA TGAGA AGAAC AACTG CTGTA GTATA ATACA ACAGT AGTCT TCTTT TTTGA TGAAC AACAC CACTG CTGTA GTATT ATTCT TCTGG TGGGA GGAAA AAAAT AATAA TAATG ATGTT GTTAG TAGTA GTAGC AGCAA CAATC ATCTT CTTTT TTTTT TTTTT TTTTT TTTTT TTTTA TTAAG AAGAG GAGAC GACAG CAGGG GGGCC GCCTC CTCAC CACTC CTCTG CTGTT GTTGC TGCCC CCCAG CAGGC GGCAG CAGGA GGAGT AGTGC TGCAG CAGCA GCAGC AGCAA CAATT ATTAG TAGAG GAGCT GCTCA TCACT ACTGC TGCAG CAGTC GTCTC CTCGA CGAAT AATTC TTCCT CCTGG TGGGC GGCTC CTCAA CAAGT AGTGG TGGTC GTCCT CCTCC TCCAG CAGAG GAGTA GTAGC AGCTG CTGAG GAGAC GACTA CTATA ATAGG AGGCG GCGTG GTGAA GAACC ACCAC CACCC CCCTG CTGAC GACTG CTGGC GGCTC CTCAG CAGAA GAATT ATTTC TTCTA CTAGA AGAAT AATGA TGATC ATCTG CTGCA GCACA ACATG ATGCA GCATA ATAGA AGAAG AAGAT GATCC TCCAT CATGC TGCAG CAGAA GAAGA AGATT ATTTT TTTTA TTAAG AAGCC GCCCT CCTGC TGCAC CACAA CAACT ACTGC TGCAA CAAGG AGGGG GGGTT GTTCT TCTAT TATGC TGCCC CCCTA CTAAG AAGAA GAATG ATGTA GTACT ACTTT TTTAC TACTC CTCAC CACAG CAGTT GTTAG TAGTA GTATA ATAGT AGTAA TAAGA AGAAA AAAGG AGGAA GAAGA AGAAA AAATC ATCAG CAGAG GAGGC GGCTG CTGAA GAAGA AGATA ATAGT AGTTT TTTTA TTATT ATTGT TGTGA TGATA ATATC ATCAT CATGG TGGTG GTGTT GTTAG TAGCA GCATT ATTAC TACTT CTTCA TCATT ATTTT TTTCA TCAGG AGGAT GATTG TTGCA GCAGC AGCGA CGATA ATAAG AAGTA GTAAT AATAA TAAGC AGCTT CTTTA TTAAA AAAAT AATTC TTCTG CTGTA GTATT ATTAT TATAA TAAAT AATAA TAAAA AAATT ATTAT TATTT TTTGT TGTTA TTATA ATAAA AAATT ATTAA TAAGT AGTGA TGACT ACTTA TTATT ATTTG TTGGA GGAGT AGTGC TGCAG CAGTG GTGGC GGCAT CATAA TAAAA AAATG ATGGG GGGTC GTCTT CTTTT TTTCT TCTAA TAAAC AACTG CTGAG GAGTA GTAGA AGAAA AAATA ATACA ACATA ATAAG AAGTC GTCAG CAGAC GACTG CTGAA GAACT ACTGG TGGGA GGACT ACTGA TGAGA AGAAA AAAAG AAGTC GTCAG CAGAG GAGTA GTAAA AAATC ATCCA CCAGC AGCAA CAAGT AGTTC TTCGT CGTGT TGTTG TTGTC GTCTT CTTTG TTGTG GTGCT GCTTC TTCCC CCCAG CAGTC GTCTA CTAAT AATGC TGCTT CTTTT TTTCT TCTTC TTCCT CCTGC TGCTT CTTAC TACCT CCTCT TCTTT TTTCT TCTTT TTTAA TAAGC AGCTT CTTCA TCAGT AGTTC TTCAG CAGAA GAAGT AGTCT TCTCA TCATA ATAAG AAGCA GCATC ATCAT CATTT TTTCT TCTCC TCCAC CACTT CTTCC TCCCT CCTGC TGCAT CATTA TTATT ATTCT TCTGG TGGGC GGCAG CAGAG GAGGG GGGTT GTTGA TGAAG AAGCA GCATA ATATC ATCAA CAAAT AATAC TACAG CAGAT GATAT TATTG TTGGC GGCAG CAGGC GGCCA CCATA ATAAT AATGG TGGAT GATTT TTTGT TGTGG TGGCC GCCCT CCTTC TTCTA CTATC ATCCA CCAAG AAGGT GGTCT TCTGG TGGAT GATAG TAGAA GAAGC AGCCA CCAGA AGACC ACCTT CTTCA TCAGT AGTAG TAGTC GTCTC CTCAG CAGCC GCCAT CATCT TCTGG TGGAG GAGCT GCTGA TGAAA AAATG ATGAT GATAA TAAAT AATCT TCTAG TAGAA GAAAT AATGA TGATA ATAAA AAAAA AAAAA AAAAA AAAAA AAAAG AAGGT GGTTC TTCTC CTCCA CCAAG AAGTA GTAAC AACAG CAGAT GATAT TATTT TTTTT TTTCA TCATA ATAAC AACAC CACCT CCTAG TAGGC GGCAT CATGA TGAAA AAAGT AGTCA TCAGT AGTGA TGAGC AGCTT CTTTA TTATT ATTTC TTCAC CACAG CAGAA GAACA ACAGA AGATG ATGAT GATCT TCTGC TGCCC CCCTT CTTAG TAGGC GGCAA CAAGA AGACT ACTAC TACTG CTGAA GAATA ATATA ATAAA AAAAT AATTG TTGGA GGACG ACGGT GGTAG TAGAT GATCA TCAAA AAAGT AGTAG TAGGG GGGAC GACAT CATAA TAATC ATCAT CATGT TGTAA TAACA ACAAA AAATA ATAAT AATGA TGATA ATAAC AACAG CAGAA GAAAG AAGAG GAGAA GAAGA AGATA ATAGG AGGGA GGAAA AAAAC AACAC CACAT CATTT TTTAA TAACA ACAGC AGCAT CATGA TGACT ACTGG TGGCT GCTGT TGTAG TAGCC GCCAT CATTT TTTAA TAATA ATATA ATAGA AGACT ACTCA TCAGA AGAGG AGGTT GTTAA TAAGT AGTAA TAATT ATTTG TTGCC GCCTG CTGTG GTGGT GGTCA TCATC ATCCG CCGAC GACTA CTAGT AGTAA TAAGT AGTGG TGGAA GAATT ATTGT TGTCT TCTGG TGGAT GATTT TTTGG TGGAT GATTC TTCAG CAGTT GTTTG TTGAT GATTC TTCCC CCCAT CATTC TTCAT CATTC TTCTT CTTTA TTACA ACACT ACTGA TGAAA AAAGA AGATT ATTCC TCCAT CATGT TGTTG TTGAG GAGTC GTCAT CATCT TCTTG TTGGG GGGAA GAAAC AACAT CATAT TATTT TTTGC TGCCC CCCAG CAGTA GTATG ATGAC GACCA CCATT ATTGC TGCAT CATGG TGGGA GGAGC AGCAG CAGGG GGGTT GTTCA TCAAA AAACT ACTTG TTGAT GATTT TTTTG TTGTA GTAGC AGCAG CAGTT GTTTA TTAGG AGGGT GGTTT TTTTT TTTGA TGAGC AGCAG CAGGG GGGGA GGAAG AAGGA GGACT ACTTG TTGGT GGTAT,\n",
       " EmptyLabel )"
      ]
     },
     "execution_count": 46,
     "metadata": {},
     "output_type": "execute_result"
    }
   ],
   "source": [
    "learn.data.train_ds[0]"
   ]
  },
  {
   "cell_type": "code",
   "execution_count": 47,
   "metadata": {},
   "outputs": [],
   "source": [
    "lr = 1e-2/1.35**9"
   ]
  },
  {
   "cell_type": "code",
   "execution_count": 48,
   "metadata": {},
   "outputs": [
    {
     "data": {
      "text/html": [
       "Total time: 1:02:17 <p><table style='width:300px; margin-bottom:10px'>\n",
       "  <tr>\n",
       "    <th>epoch</th>\n",
       "    <th>train_loss</th>\n",
       "    <th>valid_loss</th>\n",
       "    <th>accuracy</th>\n",
       "  </tr>\n",
       "  <tr>\n",
       "    <th>1</th>\n",
       "    <th>2.239419</th>\n",
       "    <th>2.156255</th>\n",
       "    <th>0.311763</th>\n",
       "  </tr>\n",
       "</table>\n"
      ],
      "text/plain": [
       "<IPython.core.display.HTML object>"
      ]
     },
     "metadata": {},
     "output_type": "display_data"
    }
   ],
   "source": [
    "learn.fit_one_cycle(1, lr, moms=(0.8,0.7), pct_start=0.9)"
   ]
  },
  {
   "cell_type": "code",
   "execution_count": 49,
   "metadata": {},
   "outputs": [],
   "source": [
    "learn.save('mammal_in_training')"
   ]
  },
  {
   "cell_type": "code",
   "execution_count": null,
   "metadata": {},
   "outputs": [],
   "source": []
  },
  {
   "cell_type": "markdown",
   "metadata": {},
   "source": [
    "# Part 11\n",
    "\n",
    "400,000-700,000"
   ]
  },
  {
   "cell_type": "code",
   "execution_count": 50,
   "metadata": {},
   "outputs": [],
   "source": [
    "data = GenomicTextLMDataBunch.from_df(path, df[400000:700000], df_valid, bs=400, tokenizer=tok, vocab=model_vocab,\n",
    "                              chunksize=20000, text_cols=0, label_cols=1)"
   ]
  },
  {
   "cell_type": "code",
   "execution_count": 51,
   "metadata": {},
   "outputs": [],
   "source": [
    "learn.data = data"
   ]
  },
  {
   "cell_type": "code",
   "execution_count": 52,
   "metadata": {},
   "outputs": [
    {
     "data": {
      "text/plain": [
       "(Text TTCCC CCCAA CAAAG AAGTG GTGAG GAGTC GTCAG CAGAC GACCC CCCAG CAGTG GTGTT GTTCA TCACC ACCAG CAGGT GGTGA TGAGG AGGCC GCCAC CACCT CCTGG TGGGC GGCAC CACAG CAGGT GGTGG TGGTT GTTCC TCCCA CCACA ACAGA AGAAG AAGGA GGAGT AGTCC TCCTA CTAGT AGTTC TTCCC CCCTT CTTGG TGGGG GGGCT GCTGC TGCTC CTCCC CCCAG CAGGT GGTCT TCTCC TCCTA CTAGC AGCCC CCCCC CCCAC CACCC CCCAT CATAC TACCC CCCCA CCAGA AGATC ATCCC CCCTG CTGGT GGTAG TAGCA GCAAC AACAT CATGA TGAGG AGGGA GGAGA AGACC ACCCC CCCAG CAGGT GGTCT TCTGG TGGCC GCCGC CGCTG CTGCC GCCCC CCCAT CATCA TCATA ATACT ACTCC TCCAG CAGGG GGGCC GCCTG CTGGC GGCCT CCTGG TGGGG GGGCG GCGTC GTCGC CGCCA CCAAG AAGTG GTGGC GGCCA CCAGG AGGGG GGGGC GGCAA CAAAG AAGCC GCCTT CTTTC TTCCC CCCAG CAGCA GCAAT AATTG TTGAG GAGCA GCAGG AGGGC GGCCT CCTGG TGGGG GGGAG GAGGT GGTAG TAGAG GAGGA GGAGA AGAAC AACCT CCTGG TGGGG GGGTG GTGGT GGTGG TGGGG GGGGG GGGCA GCATC ATCAT CATTT TTTAA TAACA ACATT ATTAG TAGAG GAGAA GAAGG AGGTA GTAAA AAACA ACATC ATCCT CCTTG TTGAC GACAG CAGGG GGGAG GAGTT GTTTT TTTAA TAAGG AGGTG GTGCT GCTTT TTTCT TCTGC TGCGC CGCCT CCTAG TAGAC GACAC CACCC CCCTG CTGTG GTGCA GCAAG AAGGG GGGTA GTAAG AAGAG GAGAG GAGGC GGCAA CAAGA AGAGC AGCAT CATTT TTTCA TCACT ACTCA TCAGG AGGGC GGCCT CCTAT TATTT TTTAC TACTG CTGAG GAGGA GGACC ACCAG CAGCC GCCAT CATGG TGGGA GGAAA AAACA ACAAC AACCA CCATG ATGCT GCTCA TCAAT AATTC TTCCC CCCCA CCATT ATTAA TAACT ACTCG TCGAA GAAAT AATGA TGAAT AATCA TCATC ATCCT CCTCA TCATA ATATG ATGTT GTTTA TTATC ATCGA CGAGG AGGTC GTCAC CACCC CCCTA CTAGC AGCGC CGCCA CCAGG AGGTA GTACT ACTTT TTTAC TACAT CATGT TGTAT TATAC TACCT CCTTT TTTCA TCATC ATCCT CCTCA TCACC ACCAC CACAG CAGCC GCCTT CTTCT TCTAA TAAGG AGGTA GTAGG AGGGA GGATT ATTAT TATTT TTTTA TTATC ATCTT CTTTG TTGTT GTTTG TTGGC GGCGG CGGAT GATGA TGAGA AGAAG AAGAG GAGAG GAGAA GAAGC AGCAC CACAG CAGAG GAGAA GAAGT AGTTA TTAAT AATTC TTCAC CACTT CTTGC TGCCC CCCAA CAAGA AGATC ATCAC CACAC CACAG CAGCC GCCAG CAGTA GTAGC AGCGG CGGGA GGAGA AGAAC AACCA CCAGC AGCAC CACAT CATAA TAATC ATCCC CCCAG CAGGC GGCAT CATTC TTCTG CTGCC GCCTC CTCCG CCGGA GGAAC AACTC CTCAT CATGC TGCTC CTCTT CTTGG TGGGT GGTAC TACAG CAGCC GCCTT CTTCT TCTTC TTCTG CTGCC GCCTC CTCTG CTGTG GTGTG GTGTC GTCAG CAGGG GGGAG GAGAG GAGCA GCACT ACTGG TGGCA GCACA ACAGA AGAAC AACTA CTAAG AAGCC GCCCT CCTGC TGCTG CTGCT GCTTG TTGCT GCTCT TCTGA TGACA ACACC ACCAA CAAGT AGTAA TAACT ACTGA TGAAT AATGA TGATC ATCAT CATGG TGGGC GGCAA CAACT ACTGT TGTCA TCATT ATTGA TGAAT AATAG TAGTG GTGCC GCCGT CGTGC TGCCT CCTCA TCAGT AGTTT TTTCT TCTAC TACAT CATAT TATAG TAGAG GAGAA GAATG ATGGG GGGAT GATAC TACCA CCAGC AGCCT CCTGA TGACT ACTCT TCTGG TGGGT GGTTC TTCTT CTTCA TCAAG AAGGA GGATC ATCTG CTGGT GGTGA TGAAG AAGTA GTATT ATTTG TTGGC GGCAG CAGGA GGAAC AACAC CACCT CCTTT TTTTG TTGGT GGTGG TGGGA GGAAA AAAAT AATAT TATAA TAATA ATAAA AAAAT AATAA TAATA ATAAA AAATA ATATT ATTAG TAGTA GTATA ATAAT AATAA TAAAA AAATA ATAAT AATAA TAAAT AATAT TATTA TTAGT AGTTT TTTTA TTATA ATATC ATCAC CACTA CTATA ATAAT AATAA TAAGT AGTTA TTACC ACCAC CACCA CCAAT AATTT TTTAG TAGTG GTGGA GGATT ATTAA TAAAA AAACA ACAAC AACAG CAGAG GAGAT GATAA TAAAT AATTA TTATT ATTTT TTTAT TATAT TATAA TAATA ATAGT AGTTC TTCTG CTGGA GGAGG AGGTC GTCAG CAGAA GAAGC AGCCT CCTGC TGCAG CAGTC GTCAG CAGTT GTTTC TTCAC CACTG CTGGG GGGCT GCTAA TAAAA AAATG ATGAA GAAGG AGGTG GTGTC GTCAG CAGCA GCAGG AGGGC GGCTG CTGTG GTGTT GTTCC TCCTT CTTCT TCTGA TGAGG AGGCT GCTCT TCTAG TAGGA GGAGA AGAGA AGAAT AATTC TTCCT CCTTT TTTTT TTTTT TTTTT TTTTG TTGTT GTTTT TTTGA TGAGA AGATG ATGAG GAGGT GGTCT TCTCA TCACT ACTCT TCTGT TGTCG TCGCC GCCCA CCAGG AGGCT GCTGG TGGAG GAGTG GTGCA GCAGT AGTGG TGGGA GGACA ACAAT AATCC TCCTG CTGGC GGCTC CTCAC CACTG CTGCA GCAAC AACCT CCTCT TCTGC TGCCT CCTCC TCCCG CCGGG GGGTT GTTCA TCAAG AAGTG GTGCT GCTTC TTCTC CTCCT CCTGC TGCCT CCTCA TCAGC AGCCT CCTAC TACCG CCGAG GAGTA GTAGC AGCTG CTGGG GGGAC GACTA CTACA ACAGG AGGTG GTGTG GTGCG GCGCC GCCAC CACCA CCACA ACACC ACCCA CCAGC AGCTA CTAAT AATTT TTTTT TTTTA TTACT ACTTT TTTTA TTAGT AGTAG TAGAG GAGAC GACAA CAAGG AGGTT GTTTC TTCAC CACCA CCATG ATGTT GTTGG TGGCC GCCAG CAGAC GACTG CTGGT GGTCT TCTCA TCACA ACACT ACTCC TCCTG CTGAC GACCT CCTCA TCAGG AGGTG GTGAT GATCC TCCAC CACCT CCTGC TGCCT CCTCG TCGGC GGCCT CCTCC TCCCT CCTAA TAAGT AGTGC TGCTG CTGGG GGGAT GATTA TTACA ACAGG AGGCG GCGTG GTGAG GAGCC GCCAC CACCA CCAGG AGGTC GTCTG CTGGC GGCCA CCAGA AGAAT AATTC TTCCT CCTCT TCTTT TTTTT TTTTT TTTTT TTTCA TCAGC AGCTT CTTTC TTCTG CTGGA GGAGG AGGCT GCTGC TGCTT CTTGC TGCAT CATTC TTCCT CCTTG TTGGC GGCTC CTCAT CATGG TGGTT GTTCC TCCTT CTTCC TCCTC CTCCA CCATT ATTGT TGTTG TTGAG GAGGC GGCCA CCAGC AGCAG CAGGG GGGTA GTAGC AGCAT CATCT TCTTC TTCAA CAAAT AATCA TCAGC AGCCT CCTCC TCCCT CCTCT TCTCC TCCAT CATCT TCTCT TCTCT TCTCT TCTGT TGTCT TCTCT TCTGT TGTCT TCTAT TATCT TCTCC TCCCC CCCGG CGGCC GCCTT CTTGC TGCCC CCCCG CCGAC GACCT CCTTT TTTTC TTCCT CCTCC TCCCT CCTCC TCCCT CCTCC TCCTC CTCTG CTGCT GCTTC TTCTG CTGTG GTGGT GGTCC TCCCG CCGTC GTCTC CTCCT CCTCT TCTGA TGATT ATTTG TTGGA GGACC ACCTC CTCCC CCCAC CACCA CCACC ACCCT CCTCT TCTTA TTATA ATAAG AAGAA GAACC ACCCT CCTTG TTGTG GTGAT GATGA TGACA ACATC ATCAT CATGC TGCCC CCCAC CACCT CCTGG TGGAC GACAA CAATA ATACA ACAGG AGGAT GATCA TCATC ATCTC CTCCC CCCAT CATCT TCTCA TCAAG AAGAT GATCC TCCTT CTTAA TAATT ATTTA TTAAT AATCA TCATA ATATC ATCTG CTGCA GCAAA AAAGT AGTCC TCCCT CCTTT TTTTA TTACC ACCAT CATGT TGTAA TAAGG AGGTA GTAAC AACAT CATCT TCTTC TTCAC CACAG CAGGT GGTTC TTCTG CTGGG GGGAA GAATT ATTGG TGGGA GGACG ACGTG GTGGG GGGCA GCATC ATCTT CTTTT TTTGG TGGGG GGGGA GGAGG AGGCA GCATT ATTTA TTAAT AATTC TTCTG CTGTC GTCTA CTACT ACTAC TACAG CAGTA GTACA ACACA ACATA ATAAT AATTT TTTAA TAAAT AATTA TTATT ATTTC TTCAT CATTC TTCTC CTCTA CTAGC AGCAC CACCT CCTAA TAAGT AGTAA TAACT ACTAT TATTT TTTTT TTTAA TAAAG AAGGT GGTAC TACCA CCATT ATTTC TTCCA CCAAG AAGCT GCTTT TTTTA TTAAA AAAGC AGCAC CACAT CATGT TGTAG TAGAT GATCA TCAAT AATAC TACTC CTCAG CAGAT GATGA TGAAA AAAAC AACAA CAAAA AAAAG AAGGG GGGCC GCCTT CTTAA TAATC ATCTC CTCCC CCCTG CTGCC GCCCA CCAAA AAATA ATAAC AACCT CCTCA TCAAG AAGGG GGGAT GATGA TGAAT AATTT TTTTT TTTTC TTCTG CTGTT GTTTT TTTGA TGACA ACATT ATTTA TTAAA AAACA,\n",
       " EmptyLabel )"
      ]
     },
     "execution_count": 52,
     "metadata": {},
     "output_type": "execute_result"
    }
   ],
   "source": [
    "learn.data.train_ds[0]"
   ]
  },
  {
   "cell_type": "code",
   "execution_count": 53,
   "metadata": {},
   "outputs": [],
   "source": [
    "lr = 1e-2/1.35**10"
   ]
  },
  {
   "cell_type": "code",
   "execution_count": 54,
   "metadata": {},
   "outputs": [
    {
     "data": {
      "text/html": [
       "Total time: 1:31:23 <p><table style='width:300px; margin-bottom:10px'>\n",
       "  <tr>\n",
       "    <th>epoch</th>\n",
       "    <th>train_loss</th>\n",
       "    <th>valid_loss</th>\n",
       "    <th>accuracy</th>\n",
       "  </tr>\n",
       "  <tr>\n",
       "    <th>1</th>\n",
       "    <th>2.231201</th>\n",
       "    <th>2.152693</th>\n",
       "    <th>0.313021</th>\n",
       "  </tr>\n",
       "</table>\n"
      ],
      "text/plain": [
       "<IPython.core.display.HTML object>"
      ]
     },
     "metadata": {},
     "output_type": "display_data"
    }
   ],
   "source": [
    "learn.fit_one_cycle(1, lr, moms=(0.8,0.7), pct_start=0.9)"
   ]
  },
  {
   "cell_type": "code",
   "execution_count": 55,
   "metadata": {},
   "outputs": [],
   "source": [
    "learn.save('mammal_in_training')"
   ]
  },
  {
   "cell_type": "code",
   "execution_count": null,
   "metadata": {},
   "outputs": [],
   "source": []
  },
  {
   "cell_type": "markdown",
   "metadata": {},
   "source": [
    "# Part 12\n",
    "\n",
    "700,000 - 1,000,000"
   ]
  },
  {
   "cell_type": "code",
   "execution_count": 56,
   "metadata": {},
   "outputs": [],
   "source": [
    "data = GenomicTextLMDataBunch.from_df(path, df[700000:], df_valid, bs=400, tokenizer=tok, vocab=model_vocab,\n",
    "                              chunksize=20000, text_cols=0, label_cols=1)"
   ]
  },
  {
   "cell_type": "code",
   "execution_count": 57,
   "metadata": {},
   "outputs": [],
   "source": [
    "learn.data = data"
   ]
  },
  {
   "cell_type": "code",
   "execution_count": 58,
   "metadata": {},
   "outputs": [
    {
     "data": {
      "text/plain": [
       "(Text TCTGC TGCCC CCCCT CCTGC TGCAA CAAGG AGGGC GGCTG CTGAA GAACA ACAGA AGATC ATCAG CAGTC GTCTC CTCCA CCATC ATCTT CTTTG TTGAG GAGTG GTGGT GGTGC TGCTC CTCCC CCCCT CCTCA TCAGG AGGAC GACAG CAGCA GCACA ACAGG AGGAG GAGAG GAGGC GGCTG CTGGG GGGTC GTCTG CTGCC GCCAT CATTC TTCCC CCCCG CCGCG GCGGG GGGGA GGACT ACTTA TTAAT AATTC TTCTC CTCAG CAGCC GCCAC CACAT CATGA TGAGA AGAGT AGTAC TACTG CTGGC GGCAA CAATG ATGGA GGATG ATGAA GAACA ACATG ATGGA GGATG ATGGC GGCAC CACCA CCATC ATCTA CTAGC AGCCA CCAAG AAGGA GGATG ATGGA GGAAA AAAAT AATTC TTCTC CTCCC CCCTG CTGCG GCGCA GCAAA AAATG ATGTG GTGAA GAACA ACAAA AAAAG AAGCA GCAGT AGTTT TTTGC TGCAG CAGTA GTATG ATGTA GTAAG AAGCA GCAAT AATTG TTGCT GCTCA TCAAG AAGGC GGCTG CTGAT GATAA TAACA ACAGC AGCCT CCTCA TCAGG AGGGG GGGGA GGAAG AAGTC GTCCA CCAAC AACAT CATGA TGAGA AGAAA AAAGC AGCAG CAGAG GAGGG GGGTG GTGCC GCCTG CTGGT GGTCT TCTCC TCCAC CACGG CGGAC GACTC CTCTT CTTAG TAGTG GTGGG GGGCA GCATT ATTTG TTGTG GTGCA GCACA ACATC ATCTA CTAGC AGCAG CAGAG GAGGA GGAGA AGAAC AACGG CGGAG GAGGA GGATC ATCTG CTGAC GACAG CAGCC GCCTT CTTTG TTGTG GTGCA GCAGC AGCAG CAGGC GGCTG CTGGA GGAGT AGTTG TTGAG GAGCT GCTCC TCCCT CCTCG TCGGG GGGAT GATTT TTTGC TGCAT CATCT TCTGG TGGTG GTGAT GATAA TAAAT AATGG TGGAG GAGGC GGCTG CTGGC GGCTG CTGCA GCACA ACATG ATGAA GAACA ACACT ACTGT TGTCT TCTGA TGAGG AGGCT GCTGT TGTGC TGCAG CAGTG GTGAC GACCC CCCCA CCAAA AAAAG AAGGA GGACA ACAGT AGTGG TGGTG GTGGA GGACA ACAGG AGGAT GATTC TTCCC CCCCT CCTCA TCAAA AAATG ATGGG GGGAA GAAAA AAAGA AGATA ATAAA AAACA ACAGG AGGAA GAAGT AGTGT TGTGG TGGGG GGGTG GTGGG GGGGT GGTAT TATTG TTGGA GGAGT AGTCT TCTGT TGTTA TTATG ATGTC GTCCG CCGCT GCTGT TGTGG TGGAC GACGT CGTTT TTTTA TTATT ATTTC TTCCC CCCCA CCAAG AAGGT GGTCA TCAAG AAGAT GATGC TGCCT CCTCT TCTAT TATAA TAAAA AAAGA AGATG ATGTG GTGTG GTGGT GGTTG TTGGC GGCCA CCAAG AAGCA GCATG ATGGT GGTGG TGGCT GCTCA TCATG ATGCC GCCTA CTATA ATAAT AATCC TCCTA CTAGC AGCAC CACTT CTTTG TTGGG GGGAG GAGGC GGCCG CCGAG GAGGC GGCCG CCGGA GGAGG AGGAT GATTG TTGCT GCTTG TTGAG GAGGC GGCCA CCAGG AGGAG GAGTT GTTTG TTGAG GAGAC GACTA CTAGC AGCCT CCTGG TGGGC GGCAA CAACA ACATA ATAGT AGTGA TGAGA AGACC ACCCT CCTCA TCATC ATCTC CTCTA CTATG ATGGA GGAAA AAAAT AATAA TAAAA AAAAA AAATA ATAAA AAAGA AGATG ATGTG GTGTG GTGGC GGCAG CAGAG GAGAT GATTT TTTTC TTCTC CTCTT CTTTA TTATG ATGCA GCAGC AGCCA CCAAA AAACA ACAAA AAAAT AATCC TCCAT CATGG TGGCT GCTGG TGGAT GATTT TTTTC TTCAT CATTC TTCAT CATTC TTCAA CAACA ACAAG AAGTA GTACT ACTTA TTATC ATCCT CCTGG TGGAC GACTT CTTTA TTATA ATATG ATGTC GTCCC CCCAG CAGGC GGCAC CACAG CAGTC GTCCT CCTAG TAGGC GGCCC CCCTG CTGGG GGGGA GGACA ACAAA AAAAA AAATA ATATT ATTTA TTACA ACAAT AATAT TATAA TAATT ATTTT TTTAG TAGGC GGCTG CTGGA GGAAA AAAAA AAAAA AAAGC AGCAA CAAAG AAGCT GCTTA TTATA ATAGG AGGGA GGAAA AAAAG AAGGA GGATG ATGGT GGTTA TTACT ACTAC TACAT CATGG TGGAT GATAT TATTG TTGGG GGGGC GGCAG CAGGG GGGAA GAAGG AGGCA GCAGC AGCTC CTCAG CAGAT GATAA TAAGA AGATG ATGAC GACTT CTTTG TTGGA GGAGG AGGAG GAGAA GAAAC AACCT CCTGG TGGAG GAGAA GAAGT AGTGT TGTGT TGTAT TATAC TACCC CCCTG CTGAG GAGGC GGCTC CTCCG CCGCA GCAGG AGGAC GACAG CAGGT GGTGC TGCTC CTCCA CCAAG AAGGA GGACA ACAGA AGAAA AAAAC AACTG CTGCA GCAAG AAGAG GAGCA GCAAT AATGG TGGTG GTGCA GCAGA AGAGG AGGCA GCAGG AGGAA GAACG ACGAG GAGGC GGCTG CTGGG GGGGC GGCAT CATTG TTGCA GCAGA AGAAA AAAGG AGGTC GTCCA CCATG ATGGG GGGGC GGCCT CCTGT TGTGC TGCAG CAGTT GTTGG TGGAG GAGCA GCAAG AAGGT GGTAA TAACT ACTGC TGCAG CAGGG GGGCT GCTGG TGGGG GGGCT GCTGG TGGGA GGAGC AGCGG CGGGG GGGAT GATGG TGGAG GAGAA GAAGG AGGGG GGGCA GCAGG AGGAC GACAG CAGGG GGGAG GAGTC GTCTG CTGAG GAGAG GAGGC GGCAG CAGAC GACAG CAGAC GACCC CCCTC CTCCC CCCCC CCCGA CGACT ACTCC TCCAC CACCC CCCCT CCTGT TGTGC TGCAG CAGTC GTCTC CTCAG CAGGG GGGCC GCCTC CTCTC CTCTC CTCTC CTCTC CTCTC CTCTC CTCTC CTCTC CTCAG CAGTG GTGTA GTAGC AGCCT CCTCA TCAAG AAGCA GCAAG AAGAC GACCG CCGTC GTCCA CCAAC AACTT CTTCT TCTAA TAATA ATATG ATGGC GGCCA CCACT ACTGC TGCTT CTTCC TCCAA CAAAA AAAAC AACCC CCCAA CAAAA AAAGC AGCTC CTCAG CAGGG GGGGT GGTCA TCAGG AGGTT GTTGG TGGGT GGTAG TAGAA GAATC ATCTT CTTTT TTTGG TGGGC GGCCC CCCTT CTTGG TGGAT GATTT TTTAA TAATC ATCCT CCTCA TCAGT AGTGT TGTGT TGTTA TTAGA AGAAA AAAGC AGCTA CTACA ACAAA AAAGG AGGCT GCTTT TTTCA TCAAG AAGAG GAGAG GAGAA GAACA ACAGA AGACA ACAAC AACCT CCTGC TGCCT CCTGG TGGTT GTTTA TTACA ACATT ATTTT TTTGT TGTTT TTTGG TGGAG GAGTT GTTGA TGAAG AAGCC GCCAG CAGGG GGGTG GTGGT GGTCT TCTCC TCCTC CTCCT CCTAT TATGC TGCAT CATAT TATTA TTAGC AGCGG CGGAA GAAGC AGCTT CTTGG TGGAC GACAT CATTG TTGGT GGTCA TCATT ATTTA TTATC ATCCA CCAGA AGAAG AAGAA GAAAG AAGTA GTAAA AAAAA AAACT ACTGA TGAAG AAGGG GGGTC GTCAA CAAAT AATGA TGAGG AGGCT GCTAC TACTC CTCCG CCGAA GAATA ATATT ATTGT TGTGA TGAGA AGACC ACCTA CTAGA AGAAG AAGAA GAAAC AACAA CAAGA AGAGA AGAAA AAATA ATAAG AAGGC GGCCC CCCCA CCATG ATGGC GGCCT CCTGT TGTAT TATCC TCCCG CCGTC GTCCC CCCTC CTCTC CTCCT CCTCT TCTCC TCCGC CGCAT CATCC TCCCC CCCAG CAGCT GCTCC TCCGT CGTCT TCTTG TTGTG GTGCT GCTGC TGCGG CGGGC GGCCT CCTCG TCGTG GTGCA GCACG ACGTG GTGCA GCACA ACAGG AGGAT GATGG TGGGG GGGGC GGCAA CAAGC AGCTC CTCTA CTAGG AGGTG GTGGA GGACT ACTGG TGGTC GTCCC CCCCA CCATG ATGGC GGCCC CCCTG CTGAG GAGTA GTACT ACTCC TCCTC CTCAC CACCC CCCAT CATGG TGGAA GAAAG AAGGG GGGGC GGCAC CACAG CAGCC GCCAG CAGTC GTCGG CGGGG GGGCC GCCCG CCGAG GAGTG GTGGG GGGGC GGCCT CCTCT TCTGC TGCAG CAGTC GTCCA CCAGG AGGCC GCCCA CCAGG AGGGC GGCAG CAGGT GGTGG TGGCT GCTGA TGAGT AGTCG TCGGA GGAGC AGCAT CATCC TCCAG CAGGG GGGGC GGCAG CAGCT GCTCT TCTAA TAATT ATTCC TCCAA CAACC ACCAT CATGA TGACC ACCAC CACAG CAGAG GAGAA GAACA ACAGG AGGAG GAGGC GGCAC CACCA CCAGG AGGCA GCATC ATCCA CCACT ACTGT TGTCA TCAGT AGTCT TCTGT TGTAA TAATC ATCAC CACGA CGATG ATGAT GATCA TCAGT AGTGC TGCAT CATTC TTCCC CCCCA CCACT ACTCA TCAGC AGCAC CACAC CACAG CAGTC GTCTC CTCCC CCCAC CACAG CAGAC GACAT CATGC TGCAG CAGCC GCCAC CACGG CGGTG GTGTG GTGGC GGCCT CCTCA TCAGC AGCAT CATCA TCAGG AGGGA GGATA ATATT ATTTG TTGCA GCAAC AACAT CATCC TCCAT CATAT TATGG TGGCT GCTTC TTCCA CCAGA AGAAC AACAA CAAGA AGAGA AGAGC AGCAG CAGGG GGGAG GAGGG GGGTA GTAAG AAGAA GAACA ACAGG AGGGA GGAGC AGCAG CAGTG GTGTG GTGGG GGGAA,\n",
       " EmptyLabel )"
      ]
     },
     "execution_count": 58,
     "metadata": {},
     "output_type": "execute_result"
    }
   ],
   "source": [
    "learn.data.train_ds[0]"
   ]
  },
  {
   "cell_type": "code",
   "execution_count": 59,
   "metadata": {},
   "outputs": [],
   "source": [
    "lr = 1e-2/1.35**11"
   ]
  },
  {
   "cell_type": "code",
   "execution_count": 60,
   "metadata": {},
   "outputs": [
    {
     "data": {
      "text/html": [
       "Total time: 1:31:35 <p><table style='width:300px; margin-bottom:10px'>\n",
       "  <tr>\n",
       "    <th>epoch</th>\n",
       "    <th>train_loss</th>\n",
       "    <th>valid_loss</th>\n",
       "    <th>accuracy</th>\n",
       "  </tr>\n",
       "  <tr>\n",
       "    <th>1</th>\n",
       "    <th>2.249343</th>\n",
       "    <th>2.148394</th>\n",
       "    <th>0.314563</th>\n",
       "  </tr>\n",
       "</table>\n"
      ],
      "text/plain": [
       "<IPython.core.display.HTML object>"
      ]
     },
     "metadata": {},
     "output_type": "display_data"
    }
   ],
   "source": [
    "learn.fit_one_cycle(1, lr, moms=(0.8,0.7), pct_start=0.9)"
   ]
  },
  {
   "cell_type": "code",
   "execution_count": 61,
   "metadata": {},
   "outputs": [],
   "source": [
    "learn.save('mammal_in_training')"
   ]
  },
  {
   "cell_type": "code",
   "execution_count": 22,
   "metadata": {},
   "outputs": [],
   "source": [
    "learn.load('mammal_in_training');"
   ]
  },
  {
   "cell_type": "code",
   "execution_count": null,
   "metadata": {},
   "outputs": [],
   "source": []
  },
  {
   "cell_type": "code",
   "execution_count": null,
   "metadata": {},
   "outputs": [],
   "source": []
  },
  {
   "cell_type": "code",
   "execution_count": null,
   "metadata": {},
   "outputs": [],
   "source": []
  },
  {
   "cell_type": "code",
   "execution_count": null,
   "metadata": {},
   "outputs": [],
   "source": []
  },
  {
   "cell_type": "code",
   "execution_count": null,
   "metadata": {},
   "outputs": [],
   "source": []
  },
  {
   "cell_type": "code",
   "execution_count": null,
   "metadata": {},
   "outputs": [],
   "source": []
  },
  {
   "cell_type": "code",
   "execution_count": null,
   "metadata": {},
   "outputs": [],
   "source": []
  },
  {
   "cell_type": "code",
   "execution_count": null,
   "metadata": {},
   "outputs": [],
   "source": []
  },
  {
   "cell_type": "code",
   "execution_count": null,
   "metadata": {},
   "outputs": [],
   "source": []
  },
  {
   "cell_type": "code",
   "execution_count": null,
   "metadata": {},
   "outputs": [],
   "source": []
  },
  {
   "cell_type": "markdown",
   "metadata": {},
   "source": [
    "# Part 13\n",
    "\n",
    "df 3,000,000 - 4,000,000\n",
    "\n",
    "0-200,000"
   ]
  },
  {
   "cell_type": "code",
   "execution_count": 23,
   "metadata": {},
   "outputs": [],
   "source": [
    "df = next(df_iter)"
   ]
  },
  {
   "cell_type": "code",
   "execution_count": 24,
   "metadata": {},
   "outputs": [
    {
     "data": {
      "text/html": [
       "<div>\n",
       "<style scoped>\n",
       "    .dataframe tbody tr th:only-of-type {\n",
       "        vertical-align: middle;\n",
       "    }\n",
       "\n",
       "    .dataframe tbody tr th {\n",
       "        vertical-align: top;\n",
       "    }\n",
       "\n",
       "    .dataframe thead th {\n",
       "        text-align: right;\n",
       "    }\n",
       "</style>\n",
       "<table border=\"1\" class=\"dataframe\">\n",
       "  <thead>\n",
       "    <tr style=\"text-align: right;\">\n",
       "      <th></th>\n",
       "      <th>Sequence</th>\n",
       "      <th>Source</th>\n",
       "      <th>set</th>\n",
       "    </tr>\n",
       "  </thead>\n",
       "  <tbody>\n",
       "    <tr>\n",
       "      <th>3000000</th>\n",
       "      <td>GTACACACGGGGGCCTGTTAAAAGATCAGGGGTGGGAGGAGGGAGA...</td>\n",
       "      <td>NCBI Pan paniscus</td>\n",
       "      <td>train</td>\n",
       "    </tr>\n",
       "    <tr>\n",
       "      <th>3000001</th>\n",
       "      <td>GGGTTTATGTTTGAGGATGATTCTCTTTCTTGTCACCTTGGTGAGT...</td>\n",
       "      <td>NCBI Pan paniscus</td>\n",
       "      <td>train</td>\n",
       "    </tr>\n",
       "    <tr>\n",
       "      <th>3000002</th>\n",
       "      <td>TGCAACAGCTGTTAGGCACAGACTTGACTTTCAGGTTGTACAACGG...</td>\n",
       "      <td>NCBI Pan paniscus</td>\n",
       "      <td>train</td>\n",
       "    </tr>\n",
       "    <tr>\n",
       "      <th>3000003</th>\n",
       "      <td>TGCATAAACAATTCTTACATGAATAAATGGACACTTGTGCAGTGCA...</td>\n",
       "      <td>NCBI Pan paniscus</td>\n",
       "      <td>train</td>\n",
       "    </tr>\n",
       "    <tr>\n",
       "      <th>3000004</th>\n",
       "      <td>TATTTTGACTATGGAGTGCCCATTTAAATATCGTATTTCTTTCTTA...</td>\n",
       "      <td>NCBI Pan paniscus</td>\n",
       "      <td>train</td>\n",
       "    </tr>\n",
       "  </tbody>\n",
       "</table>\n",
       "</div>"
      ],
      "text/plain": [
       "                                                  Sequence             Source  \\\n",
       "3000000  GTACACACGGGGGCCTGTTAAAAGATCAGGGGTGGGAGGAGGGAGA...  NCBI Pan paniscus   \n",
       "3000001  GGGTTTATGTTTGAGGATGATTCTCTTTCTTGTCACCTTGGTGAGT...  NCBI Pan paniscus   \n",
       "3000002  TGCAACAGCTGTTAGGCACAGACTTGACTTTCAGGTTGTACAACGG...  NCBI Pan paniscus   \n",
       "3000003  TGCATAAACAATTCTTACATGAATAAATGGACACTTGTGCAGTGCA...  NCBI Pan paniscus   \n",
       "3000004  TATTTTGACTATGGAGTGCCCATTTAAATATCGTATTTCTTTCTTA...  NCBI Pan paniscus   \n",
       "\n",
       "           set  \n",
       "3000000  train  \n",
       "3000001  train  \n",
       "3000002  train  \n",
       "3000003  train  \n",
       "3000004  train  "
      ]
     },
     "execution_count": 24,
     "metadata": {},
     "output_type": "execute_result"
    }
   ],
   "source": [
    "df.head()"
   ]
  },
  {
   "cell_type": "code",
   "execution_count": 25,
   "metadata": {},
   "outputs": [],
   "source": [
    "data = GenomicTextLMDataBunch.from_df(path, df[:200000], df_valid, bs=400, tokenizer=tok, vocab=model_vocab,\n",
    "                              chunksize=20000, text_cols=0, label_cols=1)"
   ]
  },
  {
   "cell_type": "code",
   "execution_count": 26,
   "metadata": {},
   "outputs": [],
   "source": [
    "learn.data = data"
   ]
  },
  {
   "cell_type": "code",
   "execution_count": 27,
   "metadata": {},
   "outputs": [
    {
     "data": {
      "text/plain": [
       "(Text GTACA ACACA ACACG ACGGG GGGGG GGGCC GCCTG CTGTT GTTAA TAAAA AAAGA AGATC ATCAG CAGGG GGGGT GGTGG TGGGA GGAGG AGGAG GAGGG GGGAG GAGAA GAAGA AGATC ATCAA CAAGA AGAAG AAGAA GAATA ATAGC AGCTA CTAAT AATGG TGGAT GATGC TGCTG CTGGG GGGCT GCTTA TTAAT AATAC TACCT CCTAG TAGGT GGTGA TGATG ATGGG GGGAT GATGA TGATC ATCTG CTGTG GTGCA GCAGG AGGAA GAAAC AACCA CCACC ACCAT CATGG TGGCA GCACA ACATG ATGTT GTTTA TTACC ACCTA CTATG ATGCA GCAAC AACAA CAAAT AATCC TCCAC CACAC CACAT CATCC TCCTG CTGCA GCACA ACATG ATGAA GAACT ACTCC TCCTG CTGAA GAACT ACTTA TTAAA AAAAG AAGTT GTTGG TGGAA GAAAA AAAAA AAAGT AGTTT TTTAA TAAAA AAAAT AATAG TAGAA GAAAA AAAAT AATAT TATAT TATAT TATAT TATTT TTTTA TTAAA AAATG ATGCA GCATC ATCCA CCATT ATTTA TTACT ACTTC TTCTA CTACA ACATG ATGTT GTTGC TGCGG CGGCA GCAGA AGAAG AAGTA GTATT ATTTG TTGCC GCCTG CTGCC GCCAA CAAAG AAGCC GCCTT CTTCT TCTAA TAAAT AATCC TCCTA CTACT ACTTG TTGAA GAATG ATGCT GCTGA TGAAG AAGTC GTCTC CTCTC CTCTT CTTAG TAGAT GATAA TAAAG AAGCT GCTGG TGGTT GTTAG TAGGC GGCTG CTGCT GCTCT TCTCC TCCTG CTGCT GCTCA TCAAA AAATT ATTAT TATAC TACTT CTTTC TTCCC CCCAT CATTG TTGGC GGCTT CTTCT TCTGG TGGAT GATTA TTAAT AATCT TCTTA TTACC ACCTT CTTAG TAGCA GCACT ACTCA TCATG ATGGC GGCTC CTCTT CTTTG TTGTG GTGAT GATCT TCTCT TCTAT TATTT TTTAC TACCT CCTGT TGTTC TTCAG CAGCT GCTTA TTAAC AACCC CCCCA CCATG ATGCT GCTTT TTTTA TTATC ATCCT CCTGT TGTAA TAACT ACTGA TGACT ACTCT TCTGG TGGCA GCAAT AATAC TACCA CCATG ATGTT GTTTC TTCCC CCCAT CATAC TACTT CTTTC TTCCC CCCAA CAACC ACCAT CATTG TTGCA GCATA ATATT ATTCT TCTCC TCCCA CCAGG AGGCC GCCAG CAGGA GGAAG AAGAT GATTT TTTTG TTGTC GTCTT CTTCT TCTGG TGGAG GAGTG GTGTT GTTTT TTTAG TAGTC GTCTG CTGAA GAAAT AATGC TGCCT CCTTT TTTCC TCCCT CCTGG TGGTT GTTTC TTCAC CACAC CACCT CCTTA TTACA ACAAA AAACG ACGTC GTCTA CTATT ATTAA TAATC ATCCT CCTTC TTCAA CAAAT AATTC TTCCA CCAAC AACTC CTCAA CAAAT AATGT TGTTA TTATG ATGTT GTTCT TCTTT TTTGA TGAAG AAGCA GCAGG AGGCT GCTTG TTGGG GGGTA GTATC ATCCC CCCAT CATTT TTTCT TCTTG TTGTG GTGCT GCTTC TTCCC CCCTA CTACT ACTGC TGCCA CCATG ATGTA GTACT ACTTC TTCTG CTGTA GTATA ATATG ATGCA GCAAA AAATT ATTTA TTATG ATGAC GACTT CTTCT TCTCT TCTTT TTTCC TCCAG CAGTC GTCTG CTGTG GTGAG GAGCT GCTCC TCCCT CCTGA TGAGG AGGAA GAAGA AGAAT AATTG TTGGG GGGCC GCCTC CTCAT CATTC TTCAT CATGT TGTCT TCTGC TGCAT CATCA TCATC ATCAG CAGCA GCACC ACCCA CCAGG AGGGC GGCCA CCACA ACACC ACCTA CTAAC AACAT CATCC TCCAG CAGTA GTAGA AGACA ACATT ATTTA TTAGT AGTGG TGGGG GGGGA GGAGG AGGGA GGAAA AAAGA AGAGG AGGGA GGAGA AGAGA AGAGA AGAGA AGAGA AGAGA AGAAC AACGA CGAAA AAAGC AGCAG CAGGA GGAAG AAGAG GAGAG GAGAA GAAGG AGGAA GAAGA AGAAG AAGAG GAGAA GAAGG AGGCA GCAGA AGACA ACAGA AGAGT AGTCA TCAGA AGATA ATAAA AAAGA AGAAG AAGGA GGAAA AAAAA AAACA ACAGA AGAAA AAAAA AAAGA AGAGG AGGGA GGAGA AGAAA AAAGA AGAAA AAAAT AATGA TGATG ATGGA GGAAG AAGCC GCCAT CATTC TTCTT CTTAG TAGAA GAAGT AGTTT TTTGT TGTTC TTCCA CCACT ACTTA TTAAA AAATC ATCCA CCAGA AGAGG AGGTC GTCAT CATTA TTATG ATGAT GATTA TTAGG AGGAA GAATG ATGGT GGTTC TTCCA CCAGC AGCCC CCCCA CCAGC AGCCC CCCTG CTGTC GTCCA CCATG ATGGG GGGAA GAAGA AGACA ACATT ATTTC TTCCA CCAGC AGCAG CAGTC GTCTT CTTTC TTCTC CTCCT CCTCT TCTGG TGGAG GAGCC GCCAG CAGGG GGGCT GCTTG TTGCC GCCCA CCATG ATGCC GCCTG CTGCT GCTAT TATTT TTTGC TGCAG CAGAG GAGGG GGGAG GAGTC GTCTG CTGCT GCTCC TCCCA CCAGA AGACA ACACT ACTGG TGGGC GGCAG CAGTG GTGCA GCACC ACCTC CTCTC CTCTT CTTGT TGTGA TGAGC AGCCT CCTGT TGTGA TGAGC AGCCA CCAAT AATCT TCTGC TGCCA CCATC ATCAT CATGG TGGTC GTCCC CCCTA CTATG ATGTG GTGCT GCTTT TTTAT TATTT TTTGG TGGAC GACTA CTAGC AGCTG CTGGA GGACA ACAAG AAGCT GCTGG TGGGA GGACT ACTTG TTGCT GCTCA TCATG ATGGG GGGCT GCTGG TGGGA GGAAC AACTT CTTCT TCTGC TGCAA CAAAT AATAG TAGTG GTGTG GTGTG GTGAA GAATC ATCCC CCCAG CAGAA GAATG ATGGA GGAAG AAGAG GAGCT GCTAT TATGG TGGCT GCTTG TTGTT GTTGA TGAAG AAGAG GAGGT GGTGG TGGGG GGGCC GCCTG CTGGC GGCAG CAGGG GGGGT GGTTT TTTCT TCTGA TGAGC AGCTC CTCTC CTCCT CCTTG TTGAA GAAGA AGAGA AGAGA AGAAA AAACT ACTAG TAGAC GACCT CCTAC TACAG CAGAA GAAGC AGCAG CAGAG GAGCA GCAGA AGAAT AATCA TCAGC AGCTT CTTGA TGATT ATTCT TCTCT TCTTC TTCTA CTAAC AACAG CAGCT GCTTA TTAGG AGGTC GTCTT CTTAT TATAA TAACC ACCAG CAGTT GTTTC TTCCA CCAAG AAGAA GAACC ACCAT CATAG TAGGT GGTCC TCCCA CCAAA AAATA ATAGC AGCAT CATCC TCCCC CCCAG CAGAG GAGTC GTCTA CTACC ACCTT CTTCC TCCCT CCTTT TTTTA TTACA ACATA ATAGA AGAAT AATGC TGCTT CTTTA TTAGG AGGAG GAGGA GGAAT AATAT TATCT TCTGC TGCAG CAGTC GTCCT CCTAG TAGAA GAAAA AAAGC AGCAA CAAAC AACAA CAAAA AAATT ATTAA TAAAC AACAA CAAAA AAAAT AATAA TAACC ACCTG CTGCC GCCAG CAGAG GAGGC GGCTA CTAAG AAGGG GGGTC GTCCC CCCCA CCAAC AACCC CCCTT CTTTT TTTGG TGGAT GATTC TTCTG CTGTC GTCTT CTTAG TAGTT GTTCA TCATT ATTTT TTTGA TGAGT AGTTG TTGTT GTTAT TATAA TAACA ACAAA AAAAT AATAC TACAA CAAAA AAAGG AGGCT GCTGT TGTGT TGTAA TAATT ATTTA TTATA ATAAG AAGGA GGAAA AAAAG AAGAG GAGGT GGTTT TTTCT TCTTA TTAGC AGCTC CTCAC CACAG CAGTT GTTCT TCTGT TGTGG TGGGC GGCTG CTGGG GGGAA GAAGT AGTTC TTCAA CAAGG AGGGG GGGCA GCATG ATGGC GGCAC CACTG CTGGC GGCAT CATCT TCTGC TGCTC CTCAG CAGCT GCTTC TTCTA CTAGG AGGGA GGAGG AGGGT GGTTT TTTTC TTCGT CGTGC TGCTG CTGTG GTGTC GTCAT CATAA TAACA ACATG ATGGT GGTGG TGGAG GAGAA GAAAG AAGTC GTCAA CAAAG AAGGG GGGGA GGATG ATGCA GCAGA AGACA ACACA ACATG ATGAG GAGAA GAAGG AGGAG GAGCA GCAAA AAAAC AACCT CCTGA TGAGG AGGCG GCGGG GGGGG GGGTC GTCTT CTTAC TACGG CGGGA GGAGA AGACT ACTCC TCCTG CTGTA GTAGG AGGAA GAACT ACTCA TCATC ATCCA CCATT ATTCC TCCCT CCTGA TGAGA AGAAC AACTA CTAAT AATCC TCCAG CAGTC GTCTC CTCAC CACCA CCAGA AGAGC AGCAA CAAGA AGAAC AACTC CTCAC CACTA CTACT ACTGC TGCCA CCAGA AGAAT AATGG TGGCA GCACC ACCAT CATGC TGCCA CCATT ATTCA TCATA ATAAG AAGGG GGGAC GACCT CCTGC TGCCC CCCCC CCCAT CATGA TGACC ACCCA CCAAA AAACA ACATC ATCTC CTCCC CCCAT CATCA TCAGG AGGCC GCCTC CTCAC CACCT CCTCC TCCCA CCAAT AATAT TATGT TGTTT TTTCC TCCAT CATTG TTGAG GAGAA GAATC ATCAA CAAAT AATTT TTTCA TCAAT AATAT TATGA TGAGT AGTTT TTTTG TTGGT GGTGG TGGGG GGGAT GATGA TGAAC AACCT CCTTC TTCTC CTCCA CCAAA AAACC ACCAT CATAG TAGTA GTAGA AGATC ATCCA CCACT ACTGT TGTGA TGAGA AGATC ATCTA CTAAA AAATG ATGTG GTGCA GCAGG AGGGT GGTCT TCTCA TCAAT AATAC TACAG CAGCC,\n",
       " EmptyLabel )"
      ]
     },
     "execution_count": 27,
     "metadata": {},
     "output_type": "execute_result"
    }
   ],
   "source": [
    "learn.data.train_ds[0]"
   ]
  },
  {
   "cell_type": "code",
   "execution_count": 28,
   "metadata": {},
   "outputs": [],
   "source": [
    "lr = 1e-2/1.35**12"
   ]
  },
  {
   "cell_type": "code",
   "execution_count": 30,
   "metadata": {},
   "outputs": [
    {
     "data": {
      "text/html": [
       "Total time: 1:02:19 <p><table style='width:300px; margin-bottom:10px'>\n",
       "  <tr>\n",
       "    <th>epoch</th>\n",
       "    <th>train_loss</th>\n",
       "    <th>valid_loss</th>\n",
       "    <th>accuracy</th>\n",
       "  </tr>\n",
       "  <tr>\n",
       "    <th>1</th>\n",
       "    <th>2.268657</th>\n",
       "    <th>2.147511</th>\n",
       "    <th>0.314894</th>\n",
       "  </tr>\n",
       "</table>\n"
      ],
      "text/plain": [
       "<IPython.core.display.HTML object>"
      ]
     },
     "metadata": {},
     "output_type": "display_data"
    }
   ],
   "source": [
    "learn.fit_one_cycle(1, lr, moms=(0.8,0.7), pct_start=0.9)"
   ]
  },
  {
   "cell_type": "code",
   "execution_count": 31,
   "metadata": {},
   "outputs": [],
   "source": [
    "learn.save('mammal_in_training')"
   ]
  },
  {
   "cell_type": "markdown",
   "metadata": {},
   "source": [
    "# Part 14\n",
    "\n",
    "200,000 - 400,000"
   ]
  },
  {
   "cell_type": "code",
   "execution_count": 32,
   "metadata": {},
   "outputs": [],
   "source": [
    "data = GenomicTextLMDataBunch.from_df(path, df[200000:400000], df_valid, bs=400, tokenizer=tok, vocab=model_vocab,\n",
    "                              chunksize=20000, text_cols=0, label_cols=1)"
   ]
  },
  {
   "cell_type": "code",
   "execution_count": 33,
   "metadata": {},
   "outputs": [],
   "source": [
    "learn.data = data"
   ]
  },
  {
   "cell_type": "code",
   "execution_count": 34,
   "metadata": {},
   "outputs": [
    {
     "data": {
      "text/plain": [
       "(Text GTAGA AGATG ATGGG GGGCT GCTGT TGTCC TCCTT CTTAG TAGGG GGGTT GTTCC TCCAA CAACA ACAGA AGAAT AATGT TGTTA TTACT ACTGA TGATG ATGCA GCAGC AGCAT CATGC TGCTG CTGCA GCATC ATCAA CAACA ACATG ATGTT GTTAC TACGA CGATG ATGCC GCCTC CTCTA CTAGA AGAGA AGAAA AAATT ATTCT TCTAG TAGGC GGCTA CTAAG AAGGT GGTTA TTAGA AGAGA AGAGG AGGAC GACGA CGATA ATAAT AATGC TGCAG CAGTT GTTCC TCCTA CTAGG AGGAC GACAT CATAT TATGT TGTCT TCTTC TTCTT CTTTG TTGTA GTAAA AAATT ATTGT TGTAG TAGCA GCAGT AGTTT TTTCT TCTGG TGGTG GTGGA GGATG ATGGG GGGAA GAAAA AAACT ACTTG TTGGA GGACT ACTTC TTCTC CTCCA CCAGA AGAAG AAGGA GGAAC AACCA CCATA ATAGA AGAAT AATAC TACTA CTAAA AAACT ACTAG TAGTT GTTCT TCTTA TTAGC AGCAT CATAA TAATG ATGAT GATCC TCCAT CATGG TGGTA GTATT ATTGA TGATT ATTCT TCTTA TTAAT AATTC TTCCC CCCAA CAAAT AATGA TGAGA AGATG ATGTT GTTGA TGATG ATGGC GGCTA CTAAC AACCA CCAAG AAGGA GGAAA AAAAT AATAA TAAAC AACTT CTTCC TCCTT CTTAA TAAGG AGGCT GCTGG TGGAG GAGCA GCAAA AAAAT AATGT TGTAA TAAAC AACGG CGGGA GGACT ACTCT TCTTC TTCCC CCCTG CTGAG GAGGT GGTGA TGAGG AGGCT GCTGA TGAAA AAAGA AGAAG AAGGT GGTCT TCTAA TAAGA AGAAA AAAGA AGAGA AGAAA AAATA ATAAA AAATG ATGAT GATTT TTTTT TTTGA TGAGG AGGAT GATAG TAGGC GGCTA CTATG ATGCA GCAGT AGTAA TAATG ATGAA GAAGA AGAAG AAGAA GAAAA AAATA ATAAA AAATG ATGAG GAGGT GGTAC TACAA CAAGC AGCCA CCAGG AGGCT GCTAG TAGCT GCTCT TCTGT TGTGG TGGTG GTGAC GACAG CAGTC GTCGC CGCTT CTTCT TCTCT TCTAT TATTT TTTTT TTTCC TCCCA CCAAA AAAGG AGGGG GGGTG GTGGT GGTTT TTTGC TGCTT CTTGT TGTTT TTTCC TCCTG CTGGG GGGCT GCTGG TGGTG GTGGA GGAAT AATTT TTTCC TCCCT CCTTG TTGGC GGCAA CAACA ACACT ACTCA TCATG ATGTG GTGTT GTTGC TGCTG CTGTT GTTCA TCATG ATGGT GGTCT TCTTC TTCTT CTTCT TCTTT TTTTT TTTTT TTTTT TTTGA TGAAT AATTA TTAAG AAGTA GTATT ATTAC TACTG CTGTC GTCTT CTTTA TTAAG AAGTC GTCTT CTTTT TTTTT TTTTA TTATT ATTAT TATTA TTATA ATACT ACTGT TGTAA TAATG ATGTA GTAGG AGGGT GGTAC TACAT CATGT TGTGC TGCAC CACAA CAACG ACGTG GTGCA GCAGG AGGTT GTTTG TTGTT GTTAT TATAT TATAT TATGT TGTAT TATAC TACAT CATGT TGTGC TGCCA CCATG ATGTT GTTGA TGATG ATGTG GTGCT GCTAC TACAC CACCC CCCAT CATTA TTAAC AACTC CTCGT CGTCA TCATT ATTTA TTACA ACATT ATTAG TAGGT GGTAT TATGT TGTCT TCTCC TCCTA CTAAT AATGC TGCTA CTATC ATCCC CCCTC CTCCC CCCTG CTGCT GCTCG TCGCC GCCCT CCTCC TCCGC CGCAC CACAA CAACA ACAGG AGGCC GCCCC CCCGG CGGTG GTGTG GTGTG GTGAT GATGT TGTCC TCCCC CCCCT CCTCC TCCCT CCTGT TGTGT TGTCC TCCAA CAAGT AGTGT TGTTC TTCTC CTCAT CATTG TTGTT GTTCA TCAAT AATTC TTCCC CCCAC CACCT CCTAT TATGA TGAGT AGTGA TGAGA AGAAC AACAT CATGC TGCGG CGGTG GTGTT GTTTG TTGGT GGTTT TTTTT TTTTG TTGTC GTCCT CCTTG TTGCG GCGAT GATAG TAGTT GTTTG TTGCT GCTGA TGAGA AGAAT AATTA TTATG ATGGT GGTTT TTTCC TCCAG CAGCT GCTTC TTCAT CATCC TCCAT CATGT TGTCC TCCCT CCTAC TACAA CAAAG AAGGA GGACA ACATG ATGAA GAACT ACTCA TCATC ATCAA CAATT ATTTT TTTTA TTATG ATGGC GGCTG CTGCA GCATA ATAGT AGTAT TATTG TTGCA GCATG ATGGT GGTGT TGTAT TATAT TATGT TGTGC TGCCA CCACA ACATT ATTTT TTTCT TCTTA TTAAT AATCC TCCAG CAGTC GTCTA CTATC ATCAT CATTG TTGAT GATGG TGGAC GACAT CATTT TTTGG TGGGT GGTTG TTGGT GGTTC TTCCA CCAAG AAGTC GTCTT CTTTA TTACT ACTAT TATTG TTGTG GTGAA GAATA ATAGT AGTGC TGCCA CCACA ACAAT AATAA TAAAC AACAT CATAC TACGT CGTGT TGTGC TGCAT CATGT TGTGT TGTCT TCTTT TTTAT TATAG TAGCA GCAGC AGCAT CATGA TGACT ACTTA TTATA ATAAT AATCC TCCTT CTTTG TTGGG GGGTA GTATA ATATA ATACC ACCCA CCAGT AGTAA TAATG ATGGG GGGAT GATGG TGGCT GCTGG TGGGT GGTCA TCAAA AAATG ATGGT GGTAT TATTT TTTCT TCTAG TAGTT GTTCT TCTAG TAGAT GATCC TCCTT CTTAA TAAGG AGGAA GAATC ATCGC CGCCA CCACA ACACT ACTGA TGACT ACTTC TTCCA CCACA ACAAT AATGG TGGTT GTTGA TGAAC AACTA CTAGC AGCAG CAGAT GATGA TGACA ACATG ATGAT GATTG TTGCA GCATA ATATT ATTTA TTAGA AGAAA AAAAC AACCC CCCCA CCATC ATCGT CGTCT TCTCA TCAGC AGCGC CGCAA CAAAA AAATC ATCTC CTCCT CCTTA TTAAG AAGCT GCTGA TGATA ATAAA AAACA ACAAC AACTT CTTCA TCAGC AGCAA CAAAG AAGTC GTCTC CTCAG CAGGA GGATA ATACA ACAAA AAAAT AATCA TCAAT AATGT TGTAC TACAA CAAAA AAAAT AATCA TCACA ACAAG AAGCA GCATT ATTCT TCTTA TTATA ATACA ACACC ACCAA CAATT ATTAC TACAG CAGAC GACAA CAAAC AACAG CAGAG GAGAG GAGGC GGCAA CAAAT AATCA TCATG ATGAG GAGTG GTGAA GAACT ACTCC TCCCA CCATT ATTCA TCACA ACAAT AATTG TTGCT GCTTC TTCAA CAAAG AAGAG GAGAA GAATA ATAAA AAAAT AATAC TACCT CCTAG TAGGA GGAAT AATCC TCCAA CAACT ACTTA TTACA ACAAG AAGAG GAGAT GATGT TGTGA TGAAG AAGGA GGACT ACTTC TTCTT CTTCA TCAAG AAGGA GGAGA AGAAC AACTA CTACA ACAAA AAACC ACCAC CACTG CTGCT GCTCA TCAAG AAGGA GGAAA AAATA ATAAA AAAAG AAGAG GAGGA GGATA ATACA ACAAA AAACA ACAAA AAATG ATGGA GGAAG AAGAA GAACA ACATT ATTCC TCCAT CATGC TGCTC CTCAT CATGG TGGGT GGTAG TAGGA GGAAG AAGAA GAATC ATCAA CAATA ATATC ATCGT CGTGA TGAAA AAAAT AATGG TGGCC GCCGT CGTAC TACTG CTGCC GCCCA CCAAG AAGGT GGTAA TAATT ATTTA TTATA ATAGA AGATT ATTCA TCAGT AGTGC TGCCA CCATC ATCCC CCCCA CCATC ATCAA CAAGC AGCTA CTACC ACCAA CAATG ATGAC GACTT CTTTC TTCTT CTTCA TCACA ACAGA AGAAT AATTG TTGGA GGAAA AAAAA AAAAC AACTA CTACT ACTTT TTTAA TAAAG AAGTT GTTCA TCATA ATATG ATGGA GGAAC AACCA CCAAA AAAAA AAAAG AAGAG GAGCC GCCCG CCGCA GCATT ATTGC TGCCA CCAAG AAGTC GTCAA CAATC ATCCT CCTAA TAAGC AGCCA CCAAA AAAAG AAGAA GAACA ACAAA AAAGC AGCTG CTGGA GGAGG AGGCA GCATC ATCAC CACGC CGCTA CTACC ACCTG CTGAC GACTT CTTTA TTAAA AAACT ACTAT TATAC TACTA CTACA ACAAG AAGGC GGCTA CTACA ACAGT AGTAA TAACC ACCAA CAAAA AAACA ACAGC AGCAT CATGG TGGTA GTACT ACTGG TGGTA GTACC ACCAA CAAAA AAACA ACAGA AGAGA AGATA ATATA ATAGA AGAGC AGCAA CAATA ATAGA AGAAC AACAG CAGAA GAACA ACAGA AGAGC AGCCT CCTTC TTCAG CAGAA GAAAT AATAA TAATA ATACC ACCAC CACAC CACAT CATCT TCTAC TACAA CAACC ACCAT CATCT TCTGA TGATC ATCTT CTTTG TTGAG GAGAA GAAAC AACCT CCTGA TGACA ACAAA AAAAA AAACA ACAAG AAGCA GCAAT AATGG TGGGG GGGAA GAAAG AAGGA GGATT ATTCC TCCCT CCTAT TATTT TTTAA TAATA ATAAA AAATG ATGGT GGTGC TGCTG CTGGG GGGAA GAAAA AAACT ACTGG TGGCT GCTAG TAGCC GCCAT CATAT TATGT TGTAG TAGAA GAAAG AAGCT GCTGA TGAAA AAACT ACTAG TAGAT GATCC TCCCC CCCTC CTCCT CCTTA TTACA ACAAC AACTT CTTAT TATAC TACAA CAAAA AAAAT AATTA TTAAT AATTC TTCAA CAAGA AGATG ATGGA GGATT ATTAA TAAAG AAGAC GACTT CTTAA TAAAT AATGT TGTTA TTAGA AGACC ACCTA CTAAA AAAAC AACCA CCATG ATGGT,\n",
       " EmptyLabel )"
      ]
     },
     "execution_count": 34,
     "metadata": {},
     "output_type": "execute_result"
    }
   ],
   "source": [
    "learn.data.train_ds[0]"
   ]
  },
  {
   "cell_type": "code",
   "execution_count": 35,
   "metadata": {},
   "outputs": [],
   "source": [
    "lr = 1e-2/1.35**13"
   ]
  },
  {
   "cell_type": "code",
   "execution_count": 36,
   "metadata": {},
   "outputs": [
    {
     "data": {
      "text/html": [
       "Total time: 1:02:15 <p><table style='width:300px; margin-bottom:10px'>\n",
       "  <tr>\n",
       "    <th>epoch</th>\n",
       "    <th>train_loss</th>\n",
       "    <th>valid_loss</th>\n",
       "    <th>accuracy</th>\n",
       "  </tr>\n",
       "  <tr>\n",
       "    <th>1</th>\n",
       "    <th>2.276500</th>\n",
       "    <th>2.146923</th>\n",
       "    <th>0.315151</th>\n",
       "  </tr>\n",
       "</table>\n"
      ],
      "text/plain": [
       "<IPython.core.display.HTML object>"
      ]
     },
     "metadata": {},
     "output_type": "display_data"
    }
   ],
   "source": [
    "learn.fit_one_cycle(1, lr, moms=(0.8,0.7), pct_start=0.9)"
   ]
  },
  {
   "cell_type": "code",
   "execution_count": 37,
   "metadata": {},
   "outputs": [],
   "source": [
    "learn.save('mammal_in_training')"
   ]
  },
  {
   "cell_type": "code",
   "execution_count": null,
   "metadata": {},
   "outputs": [],
   "source": []
  },
  {
   "cell_type": "markdown",
   "metadata": {},
   "source": [
    "# Part 15\n",
    "\n",
    "400,000-700,000"
   ]
  },
  {
   "cell_type": "code",
   "execution_count": 38,
   "metadata": {},
   "outputs": [],
   "source": [
    "data = GenomicTextLMDataBunch.from_df(path, df[400000:700000], df_valid, bs=400, tokenizer=tok, vocab=model_vocab,\n",
    "                              chunksize=20000, text_cols=0, label_cols=1)"
   ]
  },
  {
   "cell_type": "code",
   "execution_count": 39,
   "metadata": {},
   "outputs": [],
   "source": [
    "learn.data = data"
   ]
  },
  {
   "cell_type": "code",
   "execution_count": 40,
   "metadata": {},
   "outputs": [
    {
     "data": {
      "text/plain": [
       "(Text TTCAG CAGAA GAAGA AGAAA AAAAA AAACC ACCTG CTGCT GCTAT TATTT TTTTA TTACT ACTCA TCAGG AGGAT GATTA TTAAA AAACT ACTGC TGCAC CACCA CCAAA AAACC ACCAT CATTA TTACT ACTGG TGGAA GAATT ATTTT TTTAA TAAAA AAAGC AGCAT CATGT TGTGT TGTTA TTACA ACAAA AAATT ATTGG TGGCT GCTTT TTTTC TTCTA CTAAC AACGT CGTTG TTGCC GCCCG CCGGA GGAGT AGTTT TTTCT TCTGC TGCTC CTCTT CTTGT TGTGC TGCTC CTCGT CGTGC TGCTC CTCTT CTTCA TCAGC AGCCG CCGCA GCAGC AGCGG CGGCG GCGGG GGGCA GCATT ATTTC TTCAT CATTA TTAGA AGAAC AACGT CGTTC TTCTT CTTTC TTCCC CCCTT CTTAC TACAC CACCT CCTCC TCCCC CCCAA CAAGA AGAGC AGCCT CCTAC TACTG CTGCT GCTTT TTTCC TCCTG CTGTC GTCTC CTCCA CCACT ACTTG TTGTG GTGCA GCAAG AAGAA GAAAG AAGAG GAGCA GCACA ACAAG AAGTG GTGTT GTTCC TCCTT CTTCG TCGGA GGAAT AATAG TAGGC GGCTC CTCAG CAGCC GCCTT CTTGC TGCCC CCCTT CTTAT TATCC TCCTG CTGCT GCTTC TTCTC CTCCA CCAGG AGGGT GGTCC TCCAT CATGT TGTGT TGTTG TTGAA GAATG ATGGG GGGCT GCTCT TCTCT TCTTG TTGGT GGTGG TGGCG GCGGG GGGAT GATGG TGGGG GGGTG GTGGC GGCAT CATGG TGGAG GAGTT GTTAT TATCC TCCTT CTTTC TTCAT CATGG TGGGC GGCCA CCATG ATGTC GTCCT CCTCC TCCTT CTTGT TGTGG TGGCC GCCTG CTGGG GGGAC GACTC CTCTC CTCTG CTGTC GTCCA CCAGC AGCGC CGCTG CTGCA GCAGT AGTGA TGAGT AGTGC TGCCT CCTTA TTAGG AGGTC GTCAG CAGCT GCTTG TTGAC GACGG CGGCA GCACT ACTCG TCGCT GCTCT TCTGG TGGGG GGGAG GAGGT GGTGG TGGTG GTGAT GATGA TGAAG AAGCT GCTCC TCCAC CACAA CAAAA AAAGG AGGCT GCTCC TCCAG CAGGC GGCTG CTGAA GAAGG AGGTC GTCCC CCCTG CTGAT GATGC TGCTA CTAGT AGTGG TGGAA GAAGC AGCCC CCCGC CGCTG CTGTG GTGAA GAAGT AGTGT TGTCG TCGTG GTGCT GCTCT TCTGC TGCAG CAGGA GGAGC AGCTG CTGGG GGGCC GCCAG CAGAC GACAG CAGAA GAAGC AGCCT CCTGT TGTGA TGAGA AGATG ATGGG GGGAG GAGGC GGCCC CCCCA CCAGA AGATG ATGTG GTGCA GCACA ACAGC AGCGG CGGCC GCCTT CTTGA TGAAT AATTC TTCTT CTTTT TTTTA TTAGA AGAAA AAATC ATCCC CCCTC CTCCT CCTAC TACCT CCTTC TTCAA CAAAG AAGTC GTCAT CATAT TATGC TGCTT CTTCA TCACT ACTGT TGTGG TGGGC GGCTG CTGGG GGGTC GTCCA CCATA ATAGC AGCCA CCATA ATAGA AGAGC AGCTC CTCCG CCGGT GGTCC TCCGT CGTTG TTGAC GACAG CAGGA GGAAG AAGGC GGCGT CGTTC TTCCC CCCAG CAGCG GCGAC GACTG CTGGA GGACG ACGCT GCTGC TGCAT CATGA TGACG ACGCT GCTCT TCTTG TTGCA GCAAT AATCT TCTCA TCACA ACACC ACCTC CTCTC CTCTG CTGCC GCCAT CATCC TCCCA CCATC ATCCC CCCTG CTGTT GTTTG TTGTG GTGTA GTACG ACGGC GGCCA CCAGG AGGAG GAGGC GGCTG CTGCT GCTGC TGCCT CCTGT TGTGG TGGGG GGGTT GTTTC TTCTT CTTTT TTTCC TCCTC CTCCT CCTAG TAGTG GTGCT GCTTG TTGCA GCAGT AGTGT TGTGG TGGAT GATGC TGCTC CTCCA CCAAG AAGCC GCCGG CGGGG GGGGA GGAGG AGGTG GTGGG GGGGA GGATA ATACA ACATG ATGTG GTGGG GGGAA GAAGC AGCCC CCCCA CCAGT AGTGG TGGAT GATGC TGCCC CCCAC CACTG CTGCA GCAGC AGCCA CCATG ATGCC GCCCC CCCTG CTGGG GGGGT GGTGG TGGCC GCCCC CCCCA CCAGC AGCCC CCCTG CTGTG GTGGC GGCCA CCACT ACTGT TGTCA TCAGC AGCCA CCACC ACCCC CCCTT CTTCC TCCAT CATCA TCACT ACTGG TGGGC GGCAC CACTC CTCTT CTTGT TGTGC TGCCA CCACT ACTTC TTCCC CCCTG CTGCC GCCCT CCTGT TGTCC TCCAT CATAC TACTC CTCAA CAAGG AGGCC GCCAC CACTG CTGTG GTGGA GGACA ACATC ATCTG CTGGG GGGGC GGCCT CCTCC TCCTA CTATC ATCTC CTCAT CATAG TAGGC GGCAT CATCT TCTGT TGTCT TCTGG TGGCC GCCAA CAAGC AGCTC CTCCT CCTGC TGCCA CCAGA AGAAC AACAT CATGG TGGCC GCCCT CCTTC TTCAC CACAG CAGGG GGGGA GGAAG AAGTT GTTCC TCCAT CATTA TTAGC AGCAT CATCA TCAGA AGAGA AGACC ACCTT CTTCT TCTGT TGTCT TCTGG TGGAG GAGGC GGCCT CCTTG TTGGC GGCAG CAGAG GAGCT GCTTC TTCAT CATCA TCACC ACCAT CATCT TCTCC TCCCC CCCAG CAGAG GAGCC GCCAG CAGCT GCTCT TCTGT TGTCA TCAAG AAGCT GCTGA TGACC ACCTA CTAAG AAGGC GGCAC CACTC CTCAC CACTG CTGCA GCAGC AGCTC CTCCT CCTCA TCAAC AACAA CAAAA AAAAC AACCC CCCAT CATTT TTTCT TCTTA TTATT ATTTC TTCTT CTTCT TCTGC TGCCT CCTCT TCTTT TTTTG TTGTC GTCTC CTCTG CTGGG GGGTG GTGCT GCTCC TCCAG CAGCT GCTGC TGCCT CCTGT TGTGG TGGTC GTCAT CATCC TCCTG CTGGC GGCTC CTCTT CTTCC TCCAG CAGCA GCACT ACTTT TTTCT TCTAT TATGA TGAAT AATCT TCTTT TTTTA TTATG ATGAT GATCT TCTGG TGGAT GATGC TGCTC CTCCA CCAGC AGCCA CCATT ATTCT TCTCC TCCTA CTAAA AAATC ATCAT CATCC TCCCC CCCCC CCCCT CCTGC TGCTG CTGCT GCTTC TTCTT CTTCC TCCTG CTGTC GTCCT CCTGG TGGTG GTGCC GCCTA CTAAG AAGGG GGGCA GCACA ACATT ATTCT TCTCT TCTGC TGCCC CCCCC CCCTT CTTTC TTCCT CCTTA TTACA ACAGC AGCTG CTGGC GGCCA CCAAC AACTC CTCCT CCTCA TCAAG AAGAC GACAC CACCA CCACC ACCAC CACAG CAGCT GCTGT TGTGT TGTTC TTCAT CATCC TCCCA CCACC ACCCC CCCCT CCTCG TCGCC GCCCT CCTGT TGTGC TGCCC CCCAC CACCC CCCCA CCAAT AATCC TCCAG CAGAG GAGAG GAGTA GTAGC AGCAT CATGC TGCTT CTTAC TACCC CCCCT CCTAA TAAAC AACTC CTCAG CAGGA GGACT ACTCT TCTAG TAGGA GGAAT AATCT TCTCC TCCAT CATTT TTTGT TGTTT TTTGA TGAAA AAAGG AGGTG GTGAG GAGGT GGTCC TCCTA CTACT ACTTG TTGGG GGGAA GAAGA AGATT ATTTC TTCAG CAGGA GGACT ACTGA TGATA ATAAG AAGCT GCTGG TGGCA GCAGG AGGGG GGGAG GAGAT GATGT TGTGG TGGAG GAGAG GAGGC GGCAT CATTG TTGGG GGGGT GGTCT TCTTC TTCGC CGCGC CGCCC CCCCT CCTTA TTATC ATCCC CCCAT CATCC TCCAC CACCT CCTGG TGGAT GATGA TGAGC AGCCT CCTGC TGCCC CCCTT CTTGG TGGTC GTCAC CACAG CAGGA GGAGA AGATG ATGAG GAGCC GCCCT CCTCT TCTCC TCCTG CTGGC GGCCT CCTTA TTAAG AAGCT GCTGA TGACT ACTCT TCTCC TCCCT CCTGC TGCCT CCTCA TCACC ACCGA CGAGA AGAAC AACCC CCCTG CTGCC GCCCT CCTCC TCCCG CCGTG GTGGA GGACC ACCGC CGCAC CACTC CTCCA CCAAG AAGTC GTCTC CTCAC CACCC CCCTC CTCAT CATAC TACTG CTGGA GGATT ATTTT TTTGC TGCTT CTTCA TCATA ATAAT AATAA TAAAA AAAAG AAGCA GCATA ATACT ACTTT TTTTA TTAAA AAATT ATTCC TCCCT CCTCC TCCTG CTGGC GGCAT CATCT TCTTT TTTTT TTTAA TAAAG AAGAA GAATT ATTCC TCCAT CATTT TTTGT TGTTA TTACG ACGCC GCCTT CTTTG TTGGA GGAAA AAAAT AATAT TATAG TAGAA GAACT ACTAA TAACA ACAGC AGCTG CTGAG GAGAA GAATT ATTGC TGCAG CAGCA GCAAA AAATG ATGAC GACCA CCATA ATATG ATGGG GGGCC GCCAT CATAG TAGAC GACCA CCATT ATTAA TAATA ATAAA AAAAA AAATG ATGGA GGAAT AATGG TGGAA GAAAA AAAAG AAGCT GCTGC TGCCC CCCAG CAGCA GCAAA AAAAA AAATA ATAAT AATAT TATTT TTTTC TTCAA CAATC ATCAT CATGG TGGAG GAGCT GCTAT TATTT TTTTC TTCTG CTGTC GTCTT CTTCT TCTTT TTTGT TGTGA TGAGG AGGCT GCTCA TCAGT AGTAA TAAAA AAATG ATGCT GCTGC TGCAC CACAA CAACT ACTTC TTCCA CCAGA AGAAA AAATT ATTCC TCCCA CCATT ATTTA TTAGT AGTTG TTGTA GTAAC AACAG CAGTA GTATT ATTAG TAGAA GAACA ACATG ATGAG GAGTA GTAAT AATCT TCTTT TTTGT TGTGT TGTCA TCATC ATCAG,\n",
       " EmptyLabel )"
      ]
     },
     "execution_count": 40,
     "metadata": {},
     "output_type": "execute_result"
    }
   ],
   "source": [
    "learn.data.train_ds[0]"
   ]
  },
  {
   "cell_type": "code",
   "execution_count": 41,
   "metadata": {},
   "outputs": [],
   "source": [
    "lr = 1e-2/1.35**14"
   ]
  },
  {
   "cell_type": "code",
   "execution_count": 42,
   "metadata": {},
   "outputs": [
    {
     "data": {
      "text/html": [
       "Total time: 1:31:23 <p><table style='width:300px; margin-bottom:10px'>\n",
       "  <tr>\n",
       "    <th>epoch</th>\n",
       "    <th>train_loss</th>\n",
       "    <th>valid_loss</th>\n",
       "    <th>accuracy</th>\n",
       "  </tr>\n",
       "  <tr>\n",
       "    <th>1</th>\n",
       "    <th>2.274370</th>\n",
       "    <th>2.146069</th>\n",
       "    <th>0.315474</th>\n",
       "  </tr>\n",
       "</table>\n"
      ],
      "text/plain": [
       "<IPython.core.display.HTML object>"
      ]
     },
     "metadata": {},
     "output_type": "display_data"
    }
   ],
   "source": [
    "learn.fit_one_cycle(1, lr, moms=(0.8,0.7), pct_start=0.9)"
   ]
  },
  {
   "cell_type": "code",
   "execution_count": 43,
   "metadata": {},
   "outputs": [],
   "source": [
    "learn.save('mammal_in_training')"
   ]
  },
  {
   "cell_type": "code",
   "execution_count": null,
   "metadata": {},
   "outputs": [],
   "source": []
  },
  {
   "cell_type": "code",
   "execution_count": null,
   "metadata": {},
   "outputs": [],
   "source": []
  },
  {
   "cell_type": "code",
   "execution_count": null,
   "metadata": {},
   "outputs": [],
   "source": []
  },
  {
   "cell_type": "code",
   "execution_count": null,
   "metadata": {},
   "outputs": [],
   "source": []
  },
  {
   "cell_type": "code",
   "execution_count": null,
   "metadata": {},
   "outputs": [],
   "source": []
  },
  {
   "cell_type": "markdown",
   "metadata": {},
   "source": [
    "# Part 16\n",
    "\n",
    "700,000 - 1,000,000"
   ]
  },
  {
   "cell_type": "code",
   "execution_count": null,
   "metadata": {},
   "outputs": [],
   "source": [
    "data = GenomicTextLMDataBunch.from_df(path, df[700000:], df_valid, bs=400, tokenizer=tok, vocab=model_vocab,\n",
    "                              chunksize=20000, text_cols=0, label_cols=1)"
   ]
  },
  {
   "cell_type": "code",
   "execution_count": null,
   "metadata": {},
   "outputs": [],
   "source": [
    "learn.data = data"
   ]
  },
  {
   "cell_type": "code",
   "execution_count": null,
   "metadata": {},
   "outputs": [],
   "source": [
    "learn.data.train_ds[0]"
   ]
  },
  {
   "cell_type": "code",
   "execution_count": null,
   "metadata": {},
   "outputs": [],
   "source": [
    "lr = 1e-2/1.35**15"
   ]
  },
  {
   "cell_type": "code",
   "execution_count": null,
   "metadata": {},
   "outputs": [],
   "source": [
    "learn.fit_one_cycle(1, lr, moms=(0.8,0.7), pct_start=0.9)"
   ]
  },
  {
   "cell_type": "code",
   "execution_count": null,
   "metadata": {},
   "outputs": [],
   "source": [
    "learn.save('mammal_in_training')"
   ]
  },
  {
   "cell_type": "code",
   "execution_count": null,
   "metadata": {},
   "outputs": [],
   "source": []
  },
  {
   "cell_type": "code",
   "execution_count": null,
   "metadata": {},
   "outputs": [],
   "source": []
  },
  {
   "cell_type": "code",
   "execution_count": null,
   "metadata": {},
   "outputs": [],
   "source": []
  },
  {
   "cell_type": "markdown",
   "metadata": {},
   "source": [
    "# check length"
   ]
  },
  {
   "cell_type": "markdown",
   "metadata": {},
   "source": [
    "# Part 17\n",
    "\n",
    "df 4,000,000 - \n",
    "\n",
    "0-200,000"
   ]
  },
  {
   "cell_type": "code",
   "execution_count": null,
   "metadata": {},
   "outputs": [],
   "source": [
    "df = next(df_iter)"
   ]
  },
  {
   "cell_type": "code",
   "execution_count": null,
   "metadata": {},
   "outputs": [],
   "source": [
    "df.head()"
   ]
  },
  {
   "cell_type": "code",
   "execution_count": null,
   "metadata": {},
   "outputs": [],
   "source": [
    "data = GenomicTextLMDataBunch.from_df(path, df[:200000], df_valid, bs=400, tokenizer=tok, vocab=model_vocab,\n",
    "                              chunksize=20000, text_cols=0, label_cols=1)"
   ]
  },
  {
   "cell_type": "code",
   "execution_count": null,
   "metadata": {},
   "outputs": [],
   "source": [
    "learn.data = data"
   ]
  },
  {
   "cell_type": "code",
   "execution_count": null,
   "metadata": {},
   "outputs": [],
   "source": [
    "learn.data.train_ds[0]"
   ]
  },
  {
   "cell_type": "code",
   "execution_count": null,
   "metadata": {},
   "outputs": [],
   "source": [
    "lr = 1e-2/1.35**12"
   ]
  },
  {
   "cell_type": "code",
   "execution_count": null,
   "metadata": {},
   "outputs": [],
   "source": [
    "learn.fit_one_cycle(1, lr, moms=(0.8,0.7), pct_start=0.9)"
   ]
  },
  {
   "cell_type": "code",
   "execution_count": null,
   "metadata": {},
   "outputs": [],
   "source": [
    "learn.save('mammal_in_training')"
   ]
  },
  {
   "cell_type": "code",
   "execution_count": null,
   "metadata": {},
   "outputs": [],
   "source": []
  },
  {
   "cell_type": "markdown",
   "metadata": {},
   "source": [
    "# Part 14\n",
    "\n",
    "200,000 - 400,000"
   ]
  },
  {
   "cell_type": "code",
   "execution_count": null,
   "metadata": {},
   "outputs": [],
   "source": [
    "data = GenomicTextLMDataBunch.from_df(path, df[200000:400000], df_valid, bs=400, tokenizer=tok, vocab=model_vocab,\n",
    "                              chunksize=20000, text_cols=0, label_cols=1)"
   ]
  },
  {
   "cell_type": "code",
   "execution_count": null,
   "metadata": {},
   "outputs": [],
   "source": [
    "learn.data = data"
   ]
  },
  {
   "cell_type": "code",
   "execution_count": null,
   "metadata": {},
   "outputs": [],
   "source": [
    "learn.data.train_ds[0]"
   ]
  },
  {
   "cell_type": "code",
   "execution_count": null,
   "metadata": {},
   "outputs": [],
   "source": [
    "lr = 1e-2/1.35**13"
   ]
  },
  {
   "cell_type": "code",
   "execution_count": null,
   "metadata": {},
   "outputs": [],
   "source": [
    "learn.fit_one_cycle(1, lr, moms=(0.8,0.7), pct_start=0.9)"
   ]
  },
  {
   "cell_type": "code",
   "execution_count": null,
   "metadata": {},
   "outputs": [],
   "source": [
    "learn.save('mammal_in_training')"
   ]
  },
  {
   "cell_type": "code",
   "execution_count": null,
   "metadata": {},
   "outputs": [],
   "source": []
  },
  {
   "cell_type": "markdown",
   "metadata": {},
   "source": [
    "# Part 15\n",
    "\n",
    "400,000-700,000"
   ]
  },
  {
   "cell_type": "code",
   "execution_count": null,
   "metadata": {},
   "outputs": [],
   "source": [
    "data = GenomicTextLMDataBunch.from_df(path, df[400000:700000], df_valid, bs=400, tokenizer=tok, vocab=model_vocab,\n",
    "                              chunksize=20000, text_cols=0, label_cols=1)"
   ]
  },
  {
   "cell_type": "code",
   "execution_count": null,
   "metadata": {},
   "outputs": [],
   "source": [
    "learn.data = data"
   ]
  },
  {
   "cell_type": "code",
   "execution_count": null,
   "metadata": {},
   "outputs": [],
   "source": [
    "learn.data.train_ds[0]"
   ]
  },
  {
   "cell_type": "code",
   "execution_count": null,
   "metadata": {},
   "outputs": [],
   "source": [
    "lr = 1e-2/1.35**14"
   ]
  },
  {
   "cell_type": "code",
   "execution_count": null,
   "metadata": {},
   "outputs": [],
   "source": [
    "learn.fit_one_cycle(1, lr, moms=(0.8,0.7), pct_start=0.9)"
   ]
  },
  {
   "cell_type": "code",
   "execution_count": null,
   "metadata": {},
   "outputs": [],
   "source": [
    "learn.save('mammal_in_training')"
   ]
  },
  {
   "cell_type": "code",
   "execution_count": null,
   "metadata": {},
   "outputs": [],
   "source": []
  },
  {
   "cell_type": "markdown",
   "metadata": {},
   "source": [
    "# Part 16\n",
    "\n",
    "700,000 - 1,000,000"
   ]
  },
  {
   "cell_type": "code",
   "execution_count": null,
   "metadata": {},
   "outputs": [],
   "source": [
    "data = GenomicTextLMDataBunch.from_df(path, df[700000:], df_valid, bs=400, tokenizer=tok, vocab=model_vocab,\n",
    "                              chunksize=20000, text_cols=0, label_cols=1)"
   ]
  },
  {
   "cell_type": "code",
   "execution_count": null,
   "metadata": {},
   "outputs": [],
   "source": [
    "learn.data = data"
   ]
  },
  {
   "cell_type": "code",
   "execution_count": null,
   "metadata": {},
   "outputs": [],
   "source": [
    "learn.data.train_ds[0]"
   ]
  },
  {
   "cell_type": "code",
   "execution_count": null,
   "metadata": {},
   "outputs": [],
   "source": [
    "lr = 1e-2/1.35**15"
   ]
  },
  {
   "cell_type": "code",
   "execution_count": null,
   "metadata": {},
   "outputs": [],
   "source": [
    "learn.fit_one_cycle(1, lr, moms=(0.8,0.7), pct_start=0.9)"
   ]
  },
  {
   "cell_type": "code",
   "execution_count": null,
   "metadata": {},
   "outputs": [],
   "source": [
    "learn.save('mammal_in_training')"
   ]
  },
  {
   "cell_type": "code",
   "execution_count": null,
   "metadata": {},
   "outputs": [],
   "source": []
  },
  {
   "cell_type": "code",
   "execution_count": null,
   "metadata": {},
   "outputs": [],
   "source": []
  },
  {
   "cell_type": "code",
   "execution_count": null,
   "metadata": {},
   "outputs": [],
   "source": []
  },
  {
   "cell_type": "code",
   "execution_count": null,
   "metadata": {},
   "outputs": [],
   "source": []
  },
  {
   "cell_type": "code",
   "execution_count": null,
   "metadata": {},
   "outputs": [],
   "source": []
  }
 ],
 "metadata": {
  "kernelspec": {
   "display_name": "Python 3",
   "language": "python",
   "name": "python3"
  },
  "language_info": {
   "codemirror_mode": {
    "name": "ipython",
    "version": 3
   },
   "file_extension": ".py",
   "mimetype": "text/x-python",
   "name": "python",
   "nbconvert_exporter": "python",
   "pygments_lexer": "ipython3",
   "version": "3.7.2"
  }
 },
 "nbformat": 4,
 "nbformat_minor": 2
}
